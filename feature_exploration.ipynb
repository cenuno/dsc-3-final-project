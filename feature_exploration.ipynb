{
 "cells": [
  {
   "cell_type": "code",
   "execution_count": 3,
   "metadata": {},
   "outputs": [],
   "source": [
    "import pandas as pd\n",
    "import numpy as np\n",
    "import matplotlib.pyplot as plt\n",
    "%matplotlib inline\n",
    "import seaborn as sns\n",
    "\n",
    "from sklearn.model_selection import train_test_split\n",
    "from sklearn.pipeline import Pipeline\n",
    "from sklearn.preprocessing import OneHotEncoder\n",
    "from sklearn.neighbors import KNeighborsClassifier\n",
    "from sklearn.preprocessing import StandardScaler\n",
    "from sklearn.model_selection import cross_val_score\n",
    "from sklearn.tree import DecisionTreeClassifier\n",
    "from sklearn.ensemble import BaggingRegressor, RandomForestRegressor, ExtraTreesRegressor\n",
    "from sklearn.ensemble import RandomForestClassifier, AdaBoostClassifier, ExtraTreesClassifier\n",
    "from six import StringIO\n",
    "from sklearn.linear_model import LogisticRegression\n",
    "from sklearn.metrics import precision_score, recall_score, accuracy_score, f1_score\n",
    "from imblearn.over_sampling import SMOTE"
   ]
  },
  {
   "cell_type": "code",
   "execution_count": 2,
   "metadata": {},
   "outputs": [],
   "source": [
    "df = pd.read_csv('data/cleaned_data.csv')"
   ]
  },
  {
   "cell_type": "code",
   "execution_count": 4,
   "metadata": {},
   "outputs": [],
   "source": [
    "X = df.drop(['annotate'], axis=1)\n",
    "y = df.annotate"
   ]
  },
  {
   "cell_type": "code",
   "execution_count": 10,
   "metadata": {},
   "outputs": [],
   "source": [
    "#onehotencode of whole thing to visualize feature importance"
   ]
  },
  {
   "cell_type": "code",
   "execution_count": 8,
   "metadata": {},
   "outputs": [],
   "source": [
    "categoricals = ['commod', 'commtype', 'lab', 'pestcode', 'avg_detect']"
   ]
  },
  {
   "cell_type": "code",
   "execution_count": 9,
   "metadata": {},
   "outputs": [
    {
     "data": {
      "text/plain": [
       "OneHotEncoder(categorical_features=None, categories='auto', drop=None,\n",
       "              dtype=<class 'numpy.float64'>, handle_unknown='ignore',\n",
       "              n_values=None, sparse=True)"
      ]
     },
     "execution_count": 9,
     "metadata": {},
     "output_type": "execute_result"
    }
   ],
   "source": [
    "encoder= OneHotEncoder(categories = 'auto', handle_unknown='ignore')\n",
    "encoder = encoder.fit(X[categoricals])\n",
    "encoder"
   ]
  },
  {
   "cell_type": "code",
   "execution_count": 14,
   "metadata": {},
   "outputs": [
    {
     "name": "stdout",
     "output_type": "stream",
     "text": [
      "<class 'pandas.core.frame.DataFrame'>\n",
      "RangeIndex: 4887 entries, 0 to 4886\n",
      "Columns: 184 entries, x0_AJ to x4_R\n",
      "dtypes: float64(184)\n",
      "memory usage: 6.9 MB\n"
     ]
    }
   ],
   "source": [
    "en = encoder.transform(X[categoricals])\n",
    "\n",
    "ohe = pd.DataFrame(en.toarray(), \n",
    "                  columns=encoder.get_feature_names())\n",
    "ohe.info()"
   ]
  },
  {
   "cell_type": "code",
   "execution_count": 16,
   "metadata": {},
   "outputs": [
    {
     "name": "stdout",
     "output_type": "stream",
     "text": [
      "<class 'pandas.core.frame.DataFrame'>\n",
      "RangeIndex: 4887 entries, 0 to 4886\n",
      "Columns: 189 entries, sample_pk to x4_R\n",
      "dtypes: float64(186), int64(3)\n",
      "memory usage: 7.0 MB\n"
     ]
    }
   ],
   "source": [
    "#combine all variables\n",
    "enc_X = X.join(ohe).drop(categoricals, axis=1)\n",
    "enc_X.info()"
   ]
  },
  {
   "cell_type": "code",
   "execution_count": 17,
   "metadata": {},
   "outputs": [],
   "source": [
    "enc_X.fillna(0, inplace=True)"
   ]
  },
  {
   "cell_type": "code",
   "execution_count": 20,
   "metadata": {},
   "outputs": [
    {
     "data": {
      "text/html": [
       "<div>\n",
       "<style scoped>\n",
       "    .dataframe tbody tr th:only-of-type {\n",
       "        vertical-align: middle;\n",
       "    }\n",
       "\n",
       "    .dataframe tbody tr th {\n",
       "        vertical-align: top;\n",
       "    }\n",
       "\n",
       "    .dataframe thead th {\n",
       "        text-align: right;\n",
       "    }\n",
       "</style>\n",
       "<table border=\"1\" class=\"dataframe\">\n",
       "  <thead>\n",
       "    <tr style=\"text-align: right;\">\n",
       "      <th></th>\n",
       "      <th>sample_pk</th>\n",
       "      <th>lod</th>\n",
       "      <th>extract</th>\n",
       "      <th>determin</th>\n",
       "      <th>concentration</th>\n",
       "      <th>x0_AJ</th>\n",
       "      <th>x0_BR</th>\n",
       "      <th>x0_BU</th>\n",
       "      <th>x0_CE</th>\n",
       "      <th>x0_CF</th>\n",
       "      <th>...</th>\n",
       "      <th>x3_B72</th>\n",
       "      <th>x3_B75</th>\n",
       "      <th>x3_B77</th>\n",
       "      <th>x3_B79</th>\n",
       "      <th>x3_B80</th>\n",
       "      <th>x3_B82</th>\n",
       "      <th>x3_B84</th>\n",
       "      <th>x3_B85</th>\n",
       "      <th>x4_O</th>\n",
       "      <th>x4_R</th>\n",
       "    </tr>\n",
       "  </thead>\n",
       "  <tbody>\n",
       "    <tr>\n",
       "      <th>0</th>\n",
       "      <td>239</td>\n",
       "      <td>0.005</td>\n",
       "      <td>805</td>\n",
       "      <td>35</td>\n",
       "      <td>80000.0</td>\n",
       "      <td>1.0</td>\n",
       "      <td>0.0</td>\n",
       "      <td>0.0</td>\n",
       "      <td>0.0</td>\n",
       "      <td>0.0</td>\n",
       "      <td>...</td>\n",
       "      <td>0.0</td>\n",
       "      <td>0.0</td>\n",
       "      <td>0.0</td>\n",
       "      <td>0.0</td>\n",
       "      <td>0.0</td>\n",
       "      <td>0.0</td>\n",
       "      <td>0.0</td>\n",
       "      <td>0.0</td>\n",
       "      <td>1.0</td>\n",
       "      <td>0.0</td>\n",
       "    </tr>\n",
       "    <tr>\n",
       "      <th>1</th>\n",
       "      <td>1183</td>\n",
       "      <td>0.010</td>\n",
       "      <td>805</td>\n",
       "      <td>52</td>\n",
       "      <td>110000.0</td>\n",
       "      <td>0.0</td>\n",
       "      <td>1.0</td>\n",
       "      <td>0.0</td>\n",
       "      <td>0.0</td>\n",
       "      <td>0.0</td>\n",
       "      <td>...</td>\n",
       "      <td>0.0</td>\n",
       "      <td>0.0</td>\n",
       "      <td>0.0</td>\n",
       "      <td>0.0</td>\n",
       "      <td>0.0</td>\n",
       "      <td>0.0</td>\n",
       "      <td>0.0</td>\n",
       "      <td>0.0</td>\n",
       "      <td>1.0</td>\n",
       "      <td>0.0</td>\n",
       "    </tr>\n",
       "    <tr>\n",
       "      <th>2</th>\n",
       "      <td>1196</td>\n",
       "      <td>0.010</td>\n",
       "      <td>805</td>\n",
       "      <td>52</td>\n",
       "      <td>130000.0</td>\n",
       "      <td>0.0</td>\n",
       "      <td>1.0</td>\n",
       "      <td>0.0</td>\n",
       "      <td>0.0</td>\n",
       "      <td>0.0</td>\n",
       "      <td>...</td>\n",
       "      <td>0.0</td>\n",
       "      <td>0.0</td>\n",
       "      <td>0.0</td>\n",
       "      <td>0.0</td>\n",
       "      <td>0.0</td>\n",
       "      <td>0.0</td>\n",
       "      <td>0.0</td>\n",
       "      <td>0.0</td>\n",
       "      <td>1.0</td>\n",
       "      <td>0.0</td>\n",
       "    </tr>\n",
       "    <tr>\n",
       "      <th>3</th>\n",
       "      <td>1230</td>\n",
       "      <td>0.005</td>\n",
       "      <td>805</td>\n",
       "      <td>35</td>\n",
       "      <td>350000.0</td>\n",
       "      <td>0.0</td>\n",
       "      <td>1.0</td>\n",
       "      <td>0.0</td>\n",
       "      <td>0.0</td>\n",
       "      <td>0.0</td>\n",
       "      <td>...</td>\n",
       "      <td>0.0</td>\n",
       "      <td>0.0</td>\n",
       "      <td>0.0</td>\n",
       "      <td>0.0</td>\n",
       "      <td>0.0</td>\n",
       "      <td>0.0</td>\n",
       "      <td>0.0</td>\n",
       "      <td>0.0</td>\n",
       "      <td>1.0</td>\n",
       "      <td>0.0</td>\n",
       "    </tr>\n",
       "    <tr>\n",
       "      <th>4</th>\n",
       "      <td>1269</td>\n",
       "      <td>0.010</td>\n",
       "      <td>805</td>\n",
       "      <td>52</td>\n",
       "      <td>260000.0</td>\n",
       "      <td>0.0</td>\n",
       "      <td>1.0</td>\n",
       "      <td>0.0</td>\n",
       "      <td>0.0</td>\n",
       "      <td>0.0</td>\n",
       "      <td>...</td>\n",
       "      <td>0.0</td>\n",
       "      <td>0.0</td>\n",
       "      <td>0.0</td>\n",
       "      <td>0.0</td>\n",
       "      <td>0.0</td>\n",
       "      <td>0.0</td>\n",
       "      <td>0.0</td>\n",
       "      <td>0.0</td>\n",
       "      <td>1.0</td>\n",
       "      <td>0.0</td>\n",
       "    </tr>\n",
       "  </tbody>\n",
       "</table>\n",
       "<p>5 rows × 189 columns</p>\n",
       "</div>"
      ],
      "text/plain": [
       "   sample_pk    lod  extract  determin  concentration  x0_AJ  x0_BR  x0_BU  \\\n",
       "0        239  0.005      805        35        80000.0    1.0    0.0    0.0   \n",
       "1       1183  0.010      805        52       110000.0    0.0    1.0    0.0   \n",
       "2       1196  0.010      805        52       130000.0    0.0    1.0    0.0   \n",
       "3       1230  0.005      805        35       350000.0    0.0    1.0    0.0   \n",
       "4       1269  0.010      805        52       260000.0    0.0    1.0    0.0   \n",
       "\n",
       "   x0_CE  x0_CF  ...   x3_B72  x3_B75  x3_B77  x3_B79  x3_B80  x3_B82  x3_B84  \\\n",
       "0    0.0    0.0  ...      0.0     0.0     0.0     0.0     0.0     0.0     0.0   \n",
       "1    0.0    0.0  ...      0.0     0.0     0.0     0.0     0.0     0.0     0.0   \n",
       "2    0.0    0.0  ...      0.0     0.0     0.0     0.0     0.0     0.0     0.0   \n",
       "3    0.0    0.0  ...      0.0     0.0     0.0     0.0     0.0     0.0     0.0   \n",
       "4    0.0    0.0  ...      0.0     0.0     0.0     0.0     0.0     0.0     0.0   \n",
       "\n",
       "   x3_B85  x4_O  x4_R  \n",
       "0     0.0   1.0   0.0  \n",
       "1     0.0   1.0   0.0  \n",
       "2     0.0   1.0   0.0  \n",
       "3     0.0   1.0   0.0  \n",
       "4     0.0   1.0   0.0  \n",
       "\n",
       "[5 rows x 189 columns]"
      ]
     },
     "execution_count": 20,
     "metadata": {},
     "output_type": "execute_result"
    }
   ],
   "source": [
    "enc_X.head()"
   ]
  },
  {
   "cell_type": "code",
   "execution_count": null,
   "metadata": {},
   "outputs": [],
   "source": []
  },
  {
   "cell_type": "code",
   "execution_count": 19,
   "metadata": {},
   "outputs": [
    {
     "name": "stdout",
     "output_type": "stream",
     "text": [
      "[4.10525183e-02 1.94485636e-02 9.76051733e-06 6.92144637e-03\n",
      " 1.22645150e-01 1.06941714e-09 2.06636703e-02 1.92289951e-03\n",
      " 1.06606961e-02 5.68338783e-03 3.79821224e-03 3.31425452e-02\n",
      " 5.13585322e-04 4.14201561e-04 1.30370857e-02 4.34650874e-03\n",
      " 4.78954770e-03 1.09262012e-02 4.61370294e-02 1.04996308e-02\n",
      " 2.12789450e-02 1.02079316e-06 1.01294319e-04 1.28809993e-02\n",
      " 1.71113476e-04 1.97826865e-03 4.30462859e-03 6.89575634e-06\n",
      " 2.34012083e-03 1.74763131e-02 2.33632963e-03 4.32028724e-02\n",
      " 1.03211004e-05 1.78769369e-03 3.37478705e-03 3.24126719e-03\n",
      " 1.70090103e-02 1.14526334e-02 1.10173321e-06 1.82906476e-04\n",
      " 5.79330111e-07 9.70410047e-04 0.00000000e+00 0.00000000e+00\n",
      " 6.33270810e-03 2.20455729e-06 3.07404162e-04 2.62065270e-03\n",
      " 3.94280391e-02 1.46199785e-03 5.86832982e-05 2.13173748e-02\n",
      " 8.74256347e-08 4.29697970e-04 0.00000000e+00 5.38264740e-04\n",
      " 1.64858195e-01 1.93055458e-05 8.65265686e-05 5.88513816e-03\n",
      " 1.69256135e-04 3.20379955e-03 6.29243801e-06 1.60364671e-06\n",
      " 1.54628690e-03 1.71188388e-03 4.82596739e-07 2.43043210e-04\n",
      " 4.75256680e-04 3.72845598e-04 7.69236663e-03 1.02608256e-06\n",
      " 5.80139231e-05 4.73242095e-06 4.48089304e-04 3.71700691e-06\n",
      " 0.00000000e+00 0.00000000e+00 0.00000000e+00 7.95088028e-02\n",
      " 0.00000000e+00 2.56726262e-03 1.34210355e-03 1.49469151e-05\n",
      " 1.66669982e-03 6.47011426e-03 9.12291605e-04 4.82219981e-02\n",
      " 2.94059750e-04 2.15615349e-04 2.81722115e-03 3.78506483e-03\n",
      " 0.00000000e+00 8.07659480e-06 1.05329157e-02 1.16172544e-03\n",
      " 4.25864357e-07 2.83008747e-09 4.79464716e-05 0.00000000e+00\n",
      " 0.00000000e+00 3.26847448e-06 0.00000000e+00 1.69761587e-06\n",
      " 2.92346282e-07 9.81386201e-04 2.20585582e-07 0.00000000e+00\n",
      " 5.61802901e-04 1.05812165e-05 1.36993386e-05 4.18207726e-04\n",
      " 7.82017542e-05 7.68821068e-04 1.64569761e-06 1.84009675e-03\n",
      " 4.69606647e-04 2.63069051e-04 0.00000000e+00 4.86720231e-07\n",
      " 4.24350790e-04 2.54840218e-03 0.00000000e+00 8.30360128e-04\n",
      " 0.00000000e+00 6.38165225e-03 9.09717911e-07 8.45174426e-03\n",
      " 8.42713404e-04 7.10352879e-06 0.00000000e+00 1.30390804e-06\n",
      " 0.00000000e+00 1.43604235e-06 0.00000000e+00 0.00000000e+00\n",
      " 0.00000000e+00 0.00000000e+00 7.94452605e-05 0.00000000e+00\n",
      " 0.00000000e+00 0.00000000e+00 6.72989374e-06 5.32908372e-04\n",
      " 8.46581290e-06 9.25330897e-04 0.00000000e+00 0.00000000e+00\n",
      " 8.55874873e-03 2.49240875e-03 4.40443338e-08 1.48324953e-02\n",
      " 1.89544959e-06 2.57739353e-04 4.08011423e-05 2.04338943e-04\n",
      " 3.72764216e-05 9.37319974e-07 2.22330840e-04 3.94646998e-04\n",
      " 6.40610288e-06 7.37124541e-05 0.00000000e+00 2.62975694e-04\n",
      " 1.88523800e-07 2.10761583e-05 1.04673165e-02 5.55404859e-05\n",
      " 7.27987006e-04 7.23153113e-04 3.46712413e-04 9.85337427e-04\n",
      " 2.01130500e-04 3.53677509e-05 1.81617198e-05 1.07668761e-03\n",
      " 4.60815164e-03 3.54976667e-04 1.33219930e-04 0.00000000e+00\n",
      " 2.72750764e-04 2.86175998e-05 1.93607384e-03 5.03793893e-04\n",
      " 2.64206758e-03 1.00955622e-06 4.15285958e-06 1.17106401e-03\n",
      " 2.68361568e-04]\n"
     ]
    },
    {
     "name": "stderr",
     "output_type": "stream",
     "text": [
      "/anaconda3/lib/python3.7/site-packages/sklearn/ensemble/forest.py:245: FutureWarning: The default value of n_estimators will change from 10 in version 0.20 to 100 in 0.22.\n",
      "  \"10 in version 0.20 to 100 in 0.22.\", FutureWarning)\n"
     ]
    },
    {
     "data": {
      "image/png": "[encoded data removed]",
      "text/plain": [
       "<Figure size 432x288 with 1 Axes>"
      ]
     },
     "metadata": {
      "needs_background": "light"
     },
     "output_type": "display_data"
    }
   ],
   "source": [
    "import matplotlib.pyplot as plt\n",
    "model = ExtraTreesClassifier()\n",
    "model.fit(enc_X,y)\n",
    "print(model.feature_importances_) #use inbuilt class feature_importances of tree based classifiers\n",
    "#plot graph of feature importances for better visualization\n",
    "feat_importances = pd.Series(model.feature_importances_, index=enc_X.columns)\n",
    "feat_importances.nlargest(20).plot(kind='barh')\n",
    "plt.show()"
   ]
  },
  {
   "cell_type": "code",
   "execution_count": null,
   "metadata": {},
   "outputs": [],
   "source": []
  }
 ],
 "metadata": {
  "kernelspec": {
   "display_name": "Python [conda env:root]",
   "language": "python",
   "name": "conda-root-py"
  },
  "language_info": {
   "codemirror_mode": {
    "name": "ipython",
    "version": 3
   },
   "file_extension": ".py",
   "mimetype": "text/x-python",
   "name": "python",
   "nbconvert_exporter": "python",
   "pygments_lexer": "ipython3",
   "version": "3.7.1"
  }
 },
 "nbformat": 4,
 "nbformat_minor": 2
}
