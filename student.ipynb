{
 "cells": [
  {
   "cell_type": "markdown",
   "metadata": {},
   "source": [
    "# Classifier for Noxious Plant Species in North America\n",
    "\n",
    "* Student names: Natasha Kacoroski, Jacob Crabb\n",
    "* Student pace: full time\n",
    "* Scheduled project review date/time: \n",
    "* Instructor name: Miles Erickson, Greg Damico\n"
   ]
  },
  {
   "cell_type": "markdown",
   "metadata": {},
   "source": [
    "## Load Libraries and Data"
   ]
  },
  {
   "cell_type": "code",
   "execution_count": 550,
   "metadata": {},
   "outputs": [],
   "source": [
    "# Import necessary libraries\n",
    "from sklearn_pandas import DataFrameMapper, FunctionTransformer, gen_features\n",
    "from sklearn.compose import ColumnTransformer\n",
    "from sklearn.pipeline import Pipeline, FeatureUnion\n",
    "from sklearn.impute import SimpleImputer\n",
    "from sklearn.model_selection import (cross_val_score,\n",
    "                                     GridSearchCV,\n",
    "                                     train_test_split)\n",
    "from sklearn.preprocessing import OneHotEncoder, StandardScaler\n",
    "from sklearn.decomposition import PCA\n",
    "from imblearn.over_sampling import SMOTE, RandomOverSampler\n",
    "from sklearn.utils import resample\n",
    "import matplotlib.pyplot as plt\n",
    "import pandas as pd\n",
    "import numpy as np\n",
    "from xgboost import XGBClassifier\n",
    "\n",
    "#in case of kernal shutdown problem\n",
    "import os\n",
    "os.environ['KMP_DUPLICATE_LIB_OK']='True'\n",
    "\n",
    "from sklearn.ensemble import RandomForestClassifier\n",
    "\n",
    "import h2o \n",
    "from h2o.estimators.random_forest import H2ORandomForestEstimator\n",
    "\n",
    "from sklearn.metrics import roc_curve"
   ]
  },
  {
   "cell_type": "code",
   "execution_count": 551,
   "metadata": {},
   "outputs": [
    {
     "data": {
      "text/html": [
       "<div>\n",
       "<style scoped>\n",
       "    .dataframe tbody tr th:only-of-type {\n",
       "        vertical-align: middle;\n",
       "    }\n",
       "\n",
       "    .dataframe tbody tr th {\n",
       "        vertical-align: top;\n",
       "    }\n",
       "\n",
       "    .dataframe thead th {\n",
       "        text-align: right;\n",
       "    }\n",
       "</style>\n",
       "<table border=\"1\" class=\"dataframe\">\n",
       "  <thead>\n",
       "    <tr style=\"text-align: right;\">\n",
       "      <th></th>\n",
       "      <th>outl0strokewidth0 strokec2 \"Accepted Symbol\"</th>\n",
       "      <th>Synonym Symbol</th>\n",
       "      <th>Scientific Name</th>\n",
       "      <th>Common Name</th>\n",
       "      <th>Category</th>\n",
       "      <th>Duration</th>\n",
       "      <th>Growth Habit</th>\n",
       "      <th>Native Status</th>\n",
       "      <th>State Noxious Status</th>\n",
       "      <th>Active Growth Period</th>\n",
       "      <th>...</th>\n",
       "      <th>Propogated by Cuttings</th>\n",
       "      <th>Propogated by Seed</th>\n",
       "      <th>Propogated by Sod</th>\n",
       "      <th>Propogated by Sprigs</th>\n",
       "      <th>Propogated by Tubers</th>\n",
       "      <th>Seeds per Pound</th>\n",
       "      <th>Seed Spread Rate</th>\n",
       "      <th>Seedling Vigor</th>\n",
       "      <th>Small Grain</th>\n",
       "      <th>Vegetative Spread Rate</th>\n",
       "    </tr>\n",
       "  </thead>\n",
       "  <tbody>\n",
       "    <tr>\n",
       "      <th>0</th>\n",
       "      <td>ABELI</td>\n",
       "      <td>NaN</td>\n",
       "      <td>Abelia</td>\n",
       "      <td>abelia</td>\n",
       "      <td>Dicot</td>\n",
       "      <td>NaN</td>\n",
       "      <td>NaN</td>\n",
       "      <td>L48(I)</td>\n",
       "      <td>NaN</td>\n",
       "      <td>NaN</td>\n",
       "      <td>...</td>\n",
       "      <td>NaN</td>\n",
       "      <td>NaN</td>\n",
       "      <td>NaN</td>\n",
       "      <td>NaN</td>\n",
       "      <td>NaN</td>\n",
       "      <td>NaN</td>\n",
       "      <td>NaN</td>\n",
       "      <td>NaN</td>\n",
       "      <td>NaN</td>\n",
       "      <td>NaN</td>\n",
       "    </tr>\n",
       "    <tr>\n",
       "      <th>1</th>\n",
       "      <td>ABGR4</td>\n",
       "      <td>NaN</td>\n",
       "      <td>Abelia 'd7grandiflora</td>\n",
       "      <td>glossy abelia</td>\n",
       "      <td>Dicot</td>\n",
       "      <td>Perennial</td>\n",
       "      <td>Shrub</td>\n",
       "      <td>L48(I)</td>\n",
       "      <td>NaN</td>\n",
       "      <td>Spring, Summer, Fall</td>\n",
       "      <td>...</td>\n",
       "      <td>Yes</td>\n",
       "      <td>No</td>\n",
       "      <td>No</td>\n",
       "      <td>No</td>\n",
       "      <td>No</td>\n",
       "      <td>NaN</td>\n",
       "      <td>None</td>\n",
       "      <td>NaN</td>\n",
       "      <td>No</td>\n",
       "      <td>None</td>\n",
       "    </tr>\n",
       "    <tr>\n",
       "      <th>2</th>\n",
       "      <td>ABELM</td>\n",
       "      <td>NaN</td>\n",
       "      <td>Abelmoschus</td>\n",
       "      <td>okra</td>\n",
       "      <td>Dicot</td>\n",
       "      <td>NaN</td>\n",
       "      <td>NaN</td>\n",
       "      <td>L48(I)</td>\n",
       "      <td>NaN</td>\n",
       "      <td>NaN</td>\n",
       "      <td>...</td>\n",
       "      <td>NaN</td>\n",
       "      <td>NaN</td>\n",
       "      <td>NaN</td>\n",
       "      <td>NaN</td>\n",
       "      <td>NaN</td>\n",
       "      <td>NaN</td>\n",
       "      <td>NaN</td>\n",
       "      <td>NaN</td>\n",
       "      <td>NaN</td>\n",
       "      <td>NaN</td>\n",
       "    </tr>\n",
       "    <tr>\n",
       "      <th>3</th>\n",
       "      <td>ABES</td>\n",
       "      <td>NaN</td>\n",
       "      <td>Abelmoschus esculentus</td>\n",
       "      <td>okra</td>\n",
       "      <td>Dicot</td>\n",
       "      <td>Annual, Perennial</td>\n",
       "      <td>Subshrub, Forb/herb</td>\n",
       "      <td>L48(I)PR(I)VI(I)</td>\n",
       "      <td>NaN</td>\n",
       "      <td>NaN</td>\n",
       "      <td>...</td>\n",
       "      <td>NaN</td>\n",
       "      <td>NaN</td>\n",
       "      <td>NaN</td>\n",
       "      <td>NaN</td>\n",
       "      <td>NaN</td>\n",
       "      <td>NaN</td>\n",
       "      <td>NaN</td>\n",
       "      <td>NaN</td>\n",
       "      <td>NaN</td>\n",
       "      <td>NaN</td>\n",
       "    </tr>\n",
       "    <tr>\n",
       "      <th>4</th>\n",
       "      <td>ABIES</td>\n",
       "      <td>NaN</td>\n",
       "      <td>Abies</td>\n",
       "      <td>fir</td>\n",
       "      <td>Gymnosperm</td>\n",
       "      <td>NaN</td>\n",
       "      <td>NaN</td>\n",
       "      <td>L48(I,N)CAN(N)SPM(N)</td>\n",
       "      <td>NaN</td>\n",
       "      <td>NaN</td>\n",
       "      <td>...</td>\n",
       "      <td>NaN</td>\n",
       "      <td>NaN</td>\n",
       "      <td>NaN</td>\n",
       "      <td>NaN</td>\n",
       "      <td>NaN</td>\n",
       "      <td>NaN</td>\n",
       "      <td>NaN</td>\n",
       "      <td>NaN</td>\n",
       "      <td>NaN</td>\n",
       "      <td>NaN</td>\n",
       "    </tr>\n",
       "  </tbody>\n",
       "</table>\n",
       "<p>5 rows × 78 columns</p>\n",
       "</div>"
      ],
      "text/plain": [
       "  outl0strokewidth0 strokec2 \"Accepted Symbol\" Synonym Symbol  \\\n",
       "0                                        ABELI            NaN   \n",
       "1                                        ABGR4            NaN   \n",
       "2                                        ABELM            NaN   \n",
       "3                                         ABES            NaN   \n",
       "4                                        ABIES            NaN   \n",
       "\n",
       "          Scientific Name    Common Name    Category           Duration  \\\n",
       "0                  Abelia         abelia       Dicot                NaN   \n",
       "1   Abelia 'd7grandiflora  glossy abelia       Dicot          Perennial   \n",
       "2             Abelmoschus           okra       Dicot                NaN   \n",
       "3  Abelmoschus esculentus           okra       Dicot  Annual, Perennial   \n",
       "4                   Abies            fir  Gymnosperm                NaN   \n",
       "\n",
       "          Growth Habit         Native Status State Noxious Status  \\\n",
       "0                  NaN                L48(I)                  NaN   \n",
       "1                Shrub                L48(I)                  NaN   \n",
       "2                  NaN                L48(I)                  NaN   \n",
       "3  Subshrub, Forb/herb      L48(I)PR(I)VI(I)                  NaN   \n",
       "4                  NaN  L48(I,N)CAN(N)SPM(N)                  NaN   \n",
       "\n",
       "   Active Growth Period  ... Propogated by Cuttings Propogated by Seed  \\\n",
       "0                   NaN  ...                    NaN                NaN   \n",
       "1  Spring, Summer, Fall  ...                    Yes                 No   \n",
       "2                   NaN  ...                    NaN                NaN   \n",
       "3                   NaN  ...                    NaN                NaN   \n",
       "4                   NaN  ...                    NaN                NaN   \n",
       "\n",
       "  Propogated by Sod Propogated by Sprigs Propogated by Tubers Seeds per Pound  \\\n",
       "0               NaN                  NaN                  NaN             NaN   \n",
       "1                No                   No                   No             NaN   \n",
       "2               NaN                  NaN                  NaN             NaN   \n",
       "3               NaN                  NaN                  NaN             NaN   \n",
       "4               NaN                  NaN                  NaN             NaN   \n",
       "\n",
       "  Seed Spread Rate Seedling Vigor Small Grain Vegetative Spread Rate  \n",
       "0              NaN            NaN         NaN                    NaN  \n",
       "1             None            NaN          No                   None  \n",
       "2              NaN            NaN         NaN                    NaN  \n",
       "3              NaN            NaN         NaN                    NaN  \n",
       "4              NaN            NaN         NaN                    NaN  \n",
       "\n",
       "[5 rows x 78 columns]"
      ]
     },
     "execution_count": 551,
     "metadata": {},
     "output_type": "execute_result"
    }
   ],
   "source": [
    "# Import data. Manually removed backslash symbols while troubleshooting data import (write function?)\n",
    "\n",
    "plant_data = pd.read_csv(\"plants.csv\", skiprows=9, low_memory=False)\n",
    "plant_data.head()"
   ]
  },
  {
   "cell_type": "code",
   "execution_count": 552,
   "metadata": {},
   "outputs": [
    {
     "name": "stdout",
     "output_type": "stream",
     "text": [
      "<class 'pandas.core.frame.DataFrame'>\n",
      "RangeIndex: 38186 entries, 0 to 38185\n",
      "Data columns (total 78 columns):\n",
      "outl0strokewidth0 strokec2 \"Accepted Symbol\"    38186 non-null object\n",
      "Synonym Symbol                                  66 non-null object\n",
      "Scientific Name                                 38185 non-null object\n",
      "Common Name                                     36115 non-null object\n",
      "Category                                        38046 non-null object\n",
      "Duration                                        27808 non-null object\n",
      "Growth Habit                                    34269 non-null object\n",
      "Native Status                                   38093 non-null object\n",
      "State Noxious Status                            461 non-null object\n",
      "Active Growth Period                            2027 non-null object\n",
      "After Harvest Regrowth Rate                     1039 non-null object\n",
      "Bloat                                           2063 non-null object\n",
      "C:N Ratio                                       1840 non-null object\n",
      "Coppice Potential                               2063 non-null object\n",
      "Fall Conspicuous                                2063 non-null object\n",
      "Fire Resistance                                 2063 non-null object\n",
      "Flower Color                                    1997 non-null object\n",
      "Flower Conspicuous                              2063 non-null object\n",
      "Foliage Color                                   2051 non-null object\n",
      "Foliage Porosity Summer                         2020 non-null object\n",
      "Foliage Porosity Winter                         2009 non-null object\n",
      "Foliage Texture                                 2046 non-null object\n",
      "Fruit Color                                     1962 non-null object\n",
      "Fruit Conspicuous                               2063 non-null object\n",
      "Growth Form                                     2037 non-null object\n",
      "Growth Rate                                     2025 non-null object\n",
      "Height at Base Age, Maximum (feet)              812 non-null float64\n",
      "Height, Mature (feet)                           2041 non-null float64\n",
      "Known Allelopath                                2063 non-null object\n",
      "Leaf Retention                                  2063 non-null object\n",
      "Lifespan                                        1904 non-null object\n",
      "Low Growing Grass                               2063 non-null object\n",
      "Nitrogen Fixation                               2063 non-null object\n",
      "Resprout Ability                                2063 non-null object\n",
      "Shape and Orientation                           2043 non-null object\n",
      "Toxicity                                        2025 non-null object\n",
      "Adapted to Coarse Textured Soils                2063 non-null object\n",
      "Adapted to Medium Textured Soils                2063 non-null object\n",
      "Adapted to Fine Textured Soils                  2063 non-null object\n",
      "Anaerobic Tolerance                             2046 non-null object\n",
      "CaCO<SUB>3</SUB> Tolerance                      1997 non-null object\n",
      "Cold Stratification Required                    2063 non-null object\n",
      "Drought Tolerance                               2050 non-null object\n",
      "Fertility Requirement                           2028 non-null object\n",
      "Fire Tolerance                                  1976 non-null object\n",
      "Frost Free Days, Minimum                        2057 non-null float64\n",
      "Hedge Tolerance                                 2026 non-null object\n",
      "Moisture Use                                    1971 non-null object\n",
      "pH (Minimum)                                    2051 non-null float64\n",
      "pH (Maximum)                                    2051 non-null float64\n",
      "Planting Density per Acre, Minimum              1544 non-null float64\n",
      "Planting Density per Acre, Maximum              1543 non-null float64\n",
      "Precipitation (Minimum)                         2031 non-null float64\n",
      "Precipitation (Maximum)                         2031 non-null float64\n",
      "Root Depth, Minimum (inches)                    2047 non-null float64\n",
      "Salinity Tolerance                              2032 non-null object\n",
      "Shade Tolerance                                 2041 non-null object\n",
      "Temperature, Minimum ('b0F)                     2058 non-null float64\n",
      "Bloom Period                                    2025 non-null object\n",
      "Commercial Availability                         1987 non-null object\n",
      "Fruit/Seed Abundance                            1935 non-null object\n",
      "Fruit/Seed Period Begin                         1981 non-null object\n",
      "Fruit/Seed Period End                           1979 non-null object\n",
      "Fruit/Seed Persistence                          2063 non-null object\n",
      "Propogated by Bare Root                         2063 non-null object\n",
      "Propogated by Bulbs                             2063 non-null object\n",
      "Propogated by Container                         2063 non-null object\n",
      "Propogated by Corms                             2063 non-null object\n",
      "Propogated by Cuttings                          2063 non-null object\n",
      "Propogated by Seed                              2063 non-null object\n",
      "Propogated by Sod                               2063 non-null object\n",
      "Propogated by Sprigs                            2063 non-null object\n",
      "Propogated by Tubers                            2063 non-null object\n",
      "Seeds per Pound                                 1578 non-null float64\n",
      "Seed Spread Rate                                1991 non-null object\n",
      "Seedling Vigor                                  1920 non-null object\n",
      "Small Grain                                     2063 non-null object\n",
      "Vegetative Spread Rate                          1964 non-null object\n",
      "dtypes: float64(12), object(66)\n",
      "memory usage: 22.7+ MB\n"
     ]
    }
   ],
   "source": [
    "plant_data.info()"
   ]
  },
  {
   "cell_type": "markdown",
   "metadata": {},
   "source": [
    "Column information found here https://plants.usda.gov/charinfo.html."
   ]
  },
  {
   "cell_type": "markdown",
   "metadata": {},
   "source": [
    "## Clean Data"
   ]
  },
  {
   "cell_type": "markdown",
   "metadata": {},
   "source": [
    "Many columns have the same 2,063 entries, subset to 2,063 entries for classification model."
   ]
  },
  {
   "cell_type": "code",
   "execution_count": 553,
   "metadata": {},
   "outputs": [],
   "source": [
    "plant_data.dropna(subset=['Bloat'], inplace=True) # Bloat is first column with 2,063 entries\n",
    "plant_data.reset_index(drop=True, inplace=True) # Reset index"
   ]
  },
  {
   "cell_type": "markdown",
   "metadata": {},
   "source": [
    "State Noxious Status column contains target data. Add column where 1 is noxious and 0 is not."
   ]
  },
  {
   "cell_type": "code",
   "execution_count": 554,
   "metadata": {},
   "outputs": [
    {
     "name": "stdout",
     "output_type": "stream",
     "text": [
      "<class 'pandas.core.frame.DataFrame'>\n",
      "RangeIndex: 2063 entries, 0 to 2062\n",
      "Data columns (total 78 columns):\n",
      "outl0strokewidth0 strokec2 \"Accepted Symbol\"    2063 non-null object\n",
      "Synonym Symbol                                  66 non-null object\n",
      "Scientific Name                                 2063 non-null object\n",
      "Common Name                                     1997 non-null object\n",
      "Category                                        1997 non-null object\n",
      "Duration                                        1995 non-null object\n",
      "Growth Habit                                    1995 non-null object\n",
      "Native Status                                   1997 non-null object\n",
      "State Noxious Status                            67 non-null object\n",
      "Active Growth Period                            2027 non-null object\n",
      "After Harvest Regrowth Rate                     1039 non-null object\n",
      "Bloat                                           2063 non-null object\n",
      "C:N Ratio                                       1840 non-null object\n",
      "Coppice Potential                               2063 non-null object\n",
      "Fall Conspicuous                                2063 non-null object\n",
      "Fire Resistance                                 2063 non-null object\n",
      "Flower Color                                    1997 non-null object\n",
      "Flower Conspicuous                              2063 non-null object\n",
      "Foliage Color                                   2051 non-null object\n",
      "Foliage Porosity Summer                         2020 non-null object\n",
      "Foliage Porosity Winter                         2009 non-null object\n",
      "Foliage Texture                                 2046 non-null object\n",
      "Fruit Color                                     1962 non-null object\n",
      "Fruit Conspicuous                               2063 non-null object\n",
      "Growth Form                                     2037 non-null object\n",
      "Growth Rate                                     2025 non-null object\n",
      "Height at Base Age, Maximum (feet)              812 non-null float64\n",
      "Height, Mature (feet)                           2041 non-null float64\n",
      "Known Allelopath                                2063 non-null object\n",
      "Leaf Retention                                  2063 non-null object\n",
      "Lifespan                                        1904 non-null object\n",
      "Low Growing Grass                               2063 non-null object\n",
      "Nitrogen Fixation                               2063 non-null object\n",
      "Resprout Ability                                2063 non-null object\n",
      "Shape and Orientation                           2043 non-null object\n",
      "Toxicity                                        2025 non-null object\n",
      "Adapted to Coarse Textured Soils                2063 non-null object\n",
      "Adapted to Medium Textured Soils                2063 non-null object\n",
      "Adapted to Fine Textured Soils                  2063 non-null object\n",
      "Anaerobic Tolerance                             2046 non-null object\n",
      "CaCO<SUB>3</SUB> Tolerance                      1997 non-null object\n",
      "Cold Stratification Required                    2063 non-null object\n",
      "Drought Tolerance                               2050 non-null object\n",
      "Fertility Requirement                           2028 non-null object\n",
      "Fire Tolerance                                  1976 non-null object\n",
      "Frost Free Days, Minimum                        2057 non-null float64\n",
      "Hedge Tolerance                                 2026 non-null object\n",
      "Moisture Use                                    1971 non-null object\n",
      "pH (Minimum)                                    2051 non-null float64\n",
      "pH (Maximum)                                    2051 non-null float64\n",
      "Planting Density per Acre, Minimum              1544 non-null float64\n",
      "Planting Density per Acre, Maximum              1543 non-null float64\n",
      "Precipitation (Minimum)                         2031 non-null float64\n",
      "Precipitation (Maximum)                         2031 non-null float64\n",
      "Root Depth, Minimum (inches)                    2047 non-null float64\n",
      "Salinity Tolerance                              2032 non-null object\n",
      "Shade Tolerance                                 2041 non-null object\n",
      "Temperature, Minimum ('b0F)                     2058 non-null float64\n",
      "Bloom Period                                    2025 non-null object\n",
      "Commercial Availability                         1987 non-null object\n",
      "Fruit/Seed Abundance                            1935 non-null object\n",
      "Fruit/Seed Period Begin                         1981 non-null object\n",
      "Fruit/Seed Period End                           1979 non-null object\n",
      "Fruit/Seed Persistence                          2063 non-null object\n",
      "Propogated by Bare Root                         2063 non-null object\n",
      "Propogated by Bulbs                             2063 non-null object\n",
      "Propogated by Container                         2063 non-null object\n",
      "Propogated by Corms                             2063 non-null object\n",
      "Propogated by Cuttings                          2063 non-null object\n",
      "Propogated by Seed                              2063 non-null object\n",
      "Propogated by Sod                               2063 non-null object\n",
      "Propogated by Sprigs                            2063 non-null object\n",
      "Propogated by Tubers                            2063 non-null object\n",
      "Seeds per Pound                                 1578 non-null float64\n",
      "Seed Spread Rate                                1991 non-null object\n",
      "Seedling Vigor                                  1920 non-null object\n",
      "Small Grain                                     2063 non-null object\n",
      "Vegetative Spread Rate                          1964 non-null object\n",
      "dtypes: float64(12), object(66)\n",
      "memory usage: 1.2+ MB\n"
     ]
    }
   ],
   "source": [
    "plant_data.info()"
   ]
  },
  {
   "cell_type": "code",
   "execution_count": 555,
   "metadata": {},
   "outputs": [],
   "source": [
    "plant_data['invasive'] = plant_data['State Noxious Status'].notnull().astype('int')"
   ]
  },
  {
   "cell_type": "markdown",
   "metadata": {},
   "source": [
    "Following are functions for mapper."
   ]
  },
  {
   "cell_type": "code",
   "execution_count": 556,
   "metadata": {},
   "outputs": [],
   "source": [
    "def select_features(dataframe, dtype, exclude_list):\n",
    "    \"\"\"Returns list of columns names to include as features\"\"\"\n",
    "    columns = list(dataframe.select_dtypes(include=dtype).columns.values)\n",
    "    features = [e for e in columns if e not in exclude_list]\n",
    "    return features\n",
    "\n",
    "def common_value(x):\n",
    "    \"\"\"Return most common value\"\"\"\n",
    "    if ',' in x:\n",
    "        return x.split(',')[0]\n",
    "    else:\n",
    "        return x\n",
    "    \n",
    "def bin_category(x):\n",
    "    \"\"\"Return categories with low value counts in a bin\"\"\"\n",
    "    if (x == 'Dicot') or (x == 'Monocot') or (x == 'Gymnosperm'):\n",
    "        return x\n",
    "    else:\n",
    "        return 'Other'\n",
    "    \n",
    "def num_of_growth_seasons(x):\n",
    "    \"\"\"Return growth period length\"\"\"\n",
    "    one_season = ['Spring', 'Summer', 'Fall']\n",
    "    two_seasons = ['Spring and Summer', 'Summer and Fall', 'Spring and Fall']\n",
    "    three_seasons = ['Spring, Summer, Fall', 'Fall, Winter and Spring']\n",
    "    if x in one_season:\n",
    "        return 'one'\n",
    "    elif x in two_seasons:\n",
    "        return 'two'\n",
    "    elif x in three_seasons:\n",
    "        return 'three'\n",
    "    else:\n",
    "        return 'four'\n",
    "\n",
    "def binarize_bloat(x):\n",
    "    \"\"\"Return one if any bloat and zero if none\"\"\"\n",
    "    if x == 'None':\n",
    "        return 0\n",
    "    else:\n",
    "        return 1\n",
    "    \n",
    "def binarize_foliage_color(x):\n",
    "    \"\"\"Return one if green and zero if not green\"\"\"\n",
    "    not_green = ['White-Gray', 'Red']\n",
    "    if x in not_green:\n",
    "        return 0\n",
    "    else:\n",
    "        return 1\n",
    "    \n",
    "def binarize_nitrogen_fixation(x):\n",
    "    \"\"\"Return one if a nitrogen fixer and zero if not\"\"\"\n",
    "    if x == 'None':\n",
    "        return 0\n",
    "    else:\n",
    "        return 1\n",
    "    \n",
    "def erect_shape(x):\n",
    "    \"\"\"Return one if shape erect and zero if not\"\"\"\n",
    "    erect = ['Erect', 'Semi-Erect']\n",
    "    if x in erect:\n",
    "        return 1\n",
    "    else:\n",
    "        return 0\n",
    "    \n",
    "def binarize_toxicity(x):\n",
    "    \"\"\"Return one if toxic and zero if not\"\"\"\n",
    "    if x == 'None':\n",
    "        return 0\n",
    "    else:\n",
    "        return 1\n",
    "    \n",
    "def bloom_period(x):\n",
    "    \"\"\"Return generalized bloom period\"\"\"\n",
    "    spring = ['Late Spring', 'Mid Spring', 'Spring', 'Early Spring']\n",
    "    summer = ['Summer', 'Early Summer', 'Mid Summer', 'Late Summer']\n",
    "    if x in spring:\n",
    "        return 'spring'\n",
    "    elif x in summer:\n",
    "        return 'summer'\n",
    "    else:\n",
    "        return 'other'\n",
    "    \n",
    "def seed_abundance(x):\n",
    "    \"\"\"Return seed abundance with low and none as one category\"\"\"\n",
    "    if (x =='Low') or (x == 'None'):\n",
    "        return 'low_none'\n",
    "    else:\n",
    "        return x\n",
    "    \n",
    "def seed_start(x):\n",
    "    \"\"\"Return seed start with year round and winter as one category\"\"\"\n",
    "    if (x =='Year Round') or (x == 'Winter'):\n",
    "        return 'other'\n",
    "    else:\n",
    "        return x\n",
    "    \n",
    "def seed_end(x):\n",
    "    \"\"\"Return seed end with year round and winter as one category\"\"\"\n",
    "    if (x =='Year Round') or (x == 'Winter'):\n",
    "        return 'other'\n",
    "    else:\n",
    "        return x\n",
    "    \n",
    "    \n",
    "def imbalanced_class_metrics(train_target,\n",
    "                             train_preds,\n",
    "                             test_target,\n",
    "                             test_preds):\n",
    "    \n",
    "    \"\"\"Show alternative metrics for imbalanced class data.\n",
    "    Show results of accuracy_score, f1_score, confusion_matrix, \n",
    "    classification_report, and roc_auc_score\"\"\"\n",
    "    \n",
    "    from sklearn.metrics import (accuracy_score,\n",
    "                             f1_score,\n",
    "                             confusion_matrix,\n",
    "                             classification_report,\n",
    "                             roc_auc_score)\n",
    "    \n",
    "    print('Training accuracy: ', accuracy_score(train_preds, train_target), '\\n', \n",
    "          'Testing accuracy: ', accuracy_score(test_preds, test_target), '\\n\\n',\n",
    "          'Classificaiton repot: ', classification_report(test_target, test_preds), '\\n',\n",
    "          'fr score: ', f1_score(test_target, test_preds), '\\n', '\\n',\n",
    "          'Confusion Matrix: ', '\\n', confusion_matrix(test_target, test_preds), '\\n\\n',\n",
    "          'Train AUC: ', roc_auc_score(train_target, train_preds), '\\n\\n',\n",
    "          'Test AUC: ', roc_auc_score(test_target, test_preds), '\\n\\n')"
   ]
  },
  {
   "cell_type": "code",
   "execution_count": 557,
   "metadata": {},
   "outputs": [],
   "source": [
    "cat_mapper = DataFrameMapper([\n",
    "    (['Category'], [SimpleImputer(missing_values=np.nan, strategy='most_frequent'), FunctionTransformer(bin_category)], {'alias':'category'}),\n",
    "    (['Duration'], [SimpleImputer(missing_values=np.nan, strategy='most_frequent'), FunctionTransformer(common_value)], {'alias':'duration'}),\n",
    "    (['Growth Habit'], [SimpleImputer(missing_values=np.nan, strategy='most_frequent'), FunctionTransformer(common_value)], {'alias':'growth_habit'}),\n",
    "    (['Active Growth Period'], [SimpleImputer(missing_values=np.nan, strategy='most_frequent'), FunctionTransformer(num_of_growth_seasons)], {'alias':'num_of_growth_seasons'}),\n",
    "    (['Bloat'], FunctionTransformer(binarize_bloat), {'alias':'bloat'}),\n",
    "    (['C:N Ratio'], [SimpleImputer(missing_values=np.nan, strategy='most_frequent')], {'alias':'cn_ratio'}),\n",
    "    (['Coppice Potential'], None, {'alias':'cop_potential'}),\n",
    "    (['Fall Conspicuous'], None, {'alias':'fall_conspicuous'}),\n",
    "    (['Fire Resistance'], None, {'alias':'fire_resistance'}),\n",
    "    (['Flower Color'], [SimpleImputer(missing_values=np.nan, strategy='most_frequent')], {'alias':'flower_color'}),\n",
    "    (['Flower Conspicuous'], None, {'alias':'flower_conspicuous'}),\n",
    "    (['Foliage Color'], [SimpleImputer(missing_values=np.nan, strategy='most_frequent'), FunctionTransformer(binarize_foliage_color)], {'alias':'leaf_color'}),\n",
    "    (['Foliage Porosity Summer'], SimpleImputer(missing_values=np.nan, strategy='most_frequent'), {'alias':'leaf_por_summer'}),\n",
    "    (['Foliage Porosity Winter'], SimpleImputer(missing_values=np.nan, strategy='most_frequent'), {'alias':'leaf_por_winter'}),\n",
    "    (['Foliage Texture'], SimpleImputer(missing_values=np.nan, strategy='most_frequent'), {'alias':'leaf_texture'}),\n",
    "    (['Fruit Color'], SimpleImputer(missing_values=np.nan, strategy='most_frequent'), {'alias':'fruit_color'}),\n",
    "    (['Fruit Conspicuous'], None, {'alias':'fruit_conspicuous'}),\n",
    "    (['Growth Form'], SimpleImputer(missing_values=np.nan, strategy='most_frequent'), {'alias':'growth_form'}),\n",
    "    (['Growth Rate'], SimpleImputer(missing_values=np.nan, strategy='most_frequent'), {'alias':'growth_rate'}),\n",
    "    (['Known Allelopath'], None, {'alias':'allelopath'}),\n",
    "    (['Leaf Retention'], None, {'alias':'leaf_retention'}),\n",
    "    (['Lifespan'], SimpleImputer(missing_values=np.nan, strategy='most_frequent'), {'alias':'lifespan'}),\n",
    "    (['Low Growing Grass'], None, {'alias':'grass'}),\n",
    "    (['Nitrogen Fixation'], FunctionTransformer(binarize_nitrogen_fixation), {'alias':'n_fixation'}),\n",
    "    (['Resprout Ability'], None, {'alias':'resprout'}),\n",
    "    (['Shape and Orientation'], [SimpleImputer(missing_values=np.nan, strategy='most_frequent'), FunctionTransformer(erect_shape)], {'alias':'erect_shape'}),\n",
    "    (['Toxicity'], [SimpleImputer(missing_values=np.nan, strategy='most_frequent'), FunctionTransformer(binarize_toxicity)], {'alias':'toxicity'}),\n",
    "    (['Adapted to Coarse Textured Soils'], None, {'alias':'coarse_soil'}),\n",
    "    (['Adapted to Medium Textured Soils'], None, {'alias':'medium_soil'}),\n",
    "    (['Adapted to Fine Textured Soils'], None, {'alias':'fine_soil'}),\n",
    "    (['Anaerobic Tolerance'], SimpleImputer(missing_values=np.nan, strategy='most_frequent'), {'alias':'anaerobic_tolerance'}),\n",
    "    (['CaCO<SUB>3</SUB> Tolerance'], SimpleImputer(missing_values=np.nan, strategy='most_frequent'), {'alias':'caco_tolerance'}),\n",
    "    (['Cold Stratification Required'], None, {'alias':'cold_strat'}),\n",
    "    (['Drought Tolerance'], SimpleImputer(missing_values=np.nan, strategy='most_frequent'), {'alias':'drought_tolerance'}),\n",
    "    (['Fertility Requirement'], SimpleImputer(missing_values=np.nan, strategy='most_frequent'), {'alias':'fertility_recs'}),\n",
    "    (['Fire Tolerance'], SimpleImputer(missing_values=np.nan, strategy='most_frequent'), {'alias':'fire_tolerance'}),\n",
    "    (['Hedge Tolerance'], SimpleImputer(missing_values=np.nan, strategy='most_frequent'), {'alias':'hedge_tolerance'}),\n",
    "    (['Moisture Use'], SimpleImputer(missing_values=np.nan, strategy='most_frequent'), {'alias':'moisture_use'}),\n",
    "    (['Salinity Tolerance'], SimpleImputer(missing_values=np.nan, strategy='most_frequent'), {'alias':'salt_tolerance'}),\n",
    "    (['Shade Tolerance'], SimpleImputer(missing_values=np.nan, strategy='most_frequent'), {'alias':'shade_tolerance'}),\n",
    "    (['Bloom Period'], [SimpleImputer(missing_values=np.nan, strategy='most_frequent'), FunctionTransformer(bloom_period)], {'alias':'bloom_period'}),\n",
    "    (['Fruit/Seed Abundance'], [SimpleImputer(missing_values=np.nan, strategy='most_frequent'), FunctionTransformer(seed_abundance)], {'alias':'seed_abundance'}),\n",
    "    (['Fruit/Seed Period Begin'], [SimpleImputer(missing_values=np.nan, strategy='most_frequent'), FunctionTransformer(seed_start)], {'alias':'seed_start'}),\n",
    "    (['Fruit/Seed Period End'], [SimpleImputer(missing_values=np.nan, strategy='most_frequent'), FunctionTransformer(seed_end)], {'alias':'seed_end'}),\n",
    "    (['Fruit/Seed Persistence'], None, {'alias':'seed_persistence'}),\n",
    "    (['Seed Spread Rate'], SimpleImputer(missing_values=np.nan, strategy='most_frequent'), {'alias':'seed_spread_rate'}),\n",
    "    (['Seedling Vigor'], SimpleImputer(missing_values=np.nan, strategy='most_frequent'), {'alias':'seed_vigor'}),\n",
    "    (['Vegetative Spread Rate'], SimpleImputer(missing_values=np.nan, strategy='most_frequent'), {'alias':'seed_vigor'})],\n",
    "    input_df=True, df_out=True)\n",
    "\n",
    "\n",
    "cat_pipeline = Pipeline(steps=[\n",
    "    ('clean', cat_mapper)\n",
    "    ,\n",
    "    ('preprocess', OneHotEncoder())\n",
    "])\n",
    "\n",
    "num_features = gen_features(columns=[['Height, Mature (feet)'],\n",
    "                                     ['Frost Free Days, Minimum'],\n",
    "                                     ['pH (Minimum)'],\n",
    "                                     ['pH (Maximum)'],\n",
    "                                     ['Precipitation (Minimum)'],\n",
    "                                     ['Precipitation (Maximum)'],\n",
    "                                     ['Root Depth, Minimum (inches)'],\n",
    "                                     [\"Temperature, Minimum ('b0F)\"]],\n",
    "                            classes=[{'class': SimpleImputer, 'missing_values':\n",
    "                                     np.nan, 'strategy':'median'},\n",
    "                                     StandardScaler])\n",
    "\n",
    "num_mapper = DataFrameMapper(num_features, df_out=True, input_df=True)\n",
    "\n",
    "union = FeatureUnion([('cat_features', cat_pipeline),\n",
    "                     ('num_features', num_mapper)])"
   ]
  },
  {
   "cell_type": "code",
   "execution_count": 558,
   "metadata": {},
   "outputs": [],
   "source": [
    "numeric_features = ['Height, Mature (feet)',\n",
    "                    'Frost Free Days, Minimum',\n",
    "                    'pH (Minimum)',\n",
    "                    'pH (Maximum)',\n",
    "                    'Precipitation (Minimum)',\n",
    "                    'Precipitation (Maximum)',\n",
    "                    'Root Depth, Minimum (inches)',\n",
    "                    \"Temperature, Minimum ('b0F)\"]"
   ]
  },
  {
   "cell_type": "code",
   "execution_count": 559,
   "metadata": {},
   "outputs": [],
   "source": [
    "X = plant_data.drop('invasive', axis=1)\n",
    "y = plant_data['invasive']\n",
    "\n",
    "X_train, X_test, y_train, y_test = train_test_split(X, y, test_size=0.2)"
   ]
  },
  {
   "cell_type": "code",
   "execution_count": 560,
   "metadata": {},
   "outputs": [
    {
     "data": {
      "text/plain": [
       "True"
      ]
     },
     "execution_count": 560,
     "metadata": {},
     "output_type": "execute_result"
    }
   ],
   "source": [
    "np.all(X_test.index == y_test.index)"
   ]
  },
  {
   "cell_type": "code",
   "execution_count": 561,
   "metadata": {},
   "outputs": [
    {
     "data": {
      "text/html": [
       "<div>\n",
       "<style scoped>\n",
       "    .dataframe tbody tr th:only-of-type {\n",
       "        vertical-align: middle;\n",
       "    }\n",
       "\n",
       "    .dataframe tbody tr th {\n",
       "        vertical-align: top;\n",
       "    }\n",
       "\n",
       "    .dataframe thead th {\n",
       "        text-align: right;\n",
       "    }\n",
       "</style>\n",
       "<table border=\"1\" class=\"dataframe\">\n",
       "  <thead>\n",
       "    <tr style=\"text-align: right;\">\n",
       "      <th></th>\n",
       "      <th>0</th>\n",
       "      <th>1</th>\n",
       "      <th>2</th>\n",
       "      <th>3</th>\n",
       "      <th>4</th>\n",
       "      <th>5</th>\n",
       "      <th>6</th>\n",
       "      <th>7</th>\n",
       "      <th>8</th>\n",
       "      <th>9</th>\n",
       "      <th>...</th>\n",
       "      <th>1640</th>\n",
       "      <th>1641</th>\n",
       "      <th>1642</th>\n",
       "      <th>1643</th>\n",
       "      <th>1644</th>\n",
       "      <th>1645</th>\n",
       "      <th>1646</th>\n",
       "      <th>1647</th>\n",
       "      <th>1648</th>\n",
       "      <th>1649</th>\n",
       "    </tr>\n",
       "  </thead>\n",
       "  <tbody>\n",
       "    <tr>\n",
       "      <th>x0_Dicot</th>\n",
       "      <td>0.0</td>\n",
       "      <td>1.0</td>\n",
       "      <td>0.0</td>\n",
       "      <td>1.0</td>\n",
       "      <td>1.0</td>\n",
       "      <td>1.0</td>\n",
       "      <td>0.0</td>\n",
       "      <td>0.0</td>\n",
       "      <td>1.0</td>\n",
       "      <td>1.0</td>\n",
       "      <td>...</td>\n",
       "      <td>1.0</td>\n",
       "      <td>1.0</td>\n",
       "      <td>1.0</td>\n",
       "      <td>0.0</td>\n",
       "      <td>1.0</td>\n",
       "      <td>1.0</td>\n",
       "      <td>1.0</td>\n",
       "      <td>1.0</td>\n",
       "      <td>1.0</td>\n",
       "      <td>1.0</td>\n",
       "    </tr>\n",
       "    <tr>\n",
       "      <th>x0_Gymnosperm</th>\n",
       "      <td>0.0</td>\n",
       "      <td>0.0</td>\n",
       "      <td>0.0</td>\n",
       "      <td>0.0</td>\n",
       "      <td>0.0</td>\n",
       "      <td>0.0</td>\n",
       "      <td>0.0</td>\n",
       "      <td>0.0</td>\n",
       "      <td>0.0</td>\n",
       "      <td>0.0</td>\n",
       "      <td>...</td>\n",
       "      <td>0.0</td>\n",
       "      <td>0.0</td>\n",
       "      <td>0.0</td>\n",
       "      <td>0.0</td>\n",
       "      <td>0.0</td>\n",
       "      <td>0.0</td>\n",
       "      <td>0.0</td>\n",
       "      <td>0.0</td>\n",
       "      <td>0.0</td>\n",
       "      <td>0.0</td>\n",
       "    </tr>\n",
       "    <tr>\n",
       "      <th>x0_Monocot</th>\n",
       "      <td>1.0</td>\n",
       "      <td>0.0</td>\n",
       "      <td>1.0</td>\n",
       "      <td>0.0</td>\n",
       "      <td>0.0</td>\n",
       "      <td>0.0</td>\n",
       "      <td>1.0</td>\n",
       "      <td>1.0</td>\n",
       "      <td>0.0</td>\n",
       "      <td>0.0</td>\n",
       "      <td>...</td>\n",
       "      <td>0.0</td>\n",
       "      <td>0.0</td>\n",
       "      <td>0.0</td>\n",
       "      <td>1.0</td>\n",
       "      <td>0.0</td>\n",
       "      <td>0.0</td>\n",
       "      <td>0.0</td>\n",
       "      <td>0.0</td>\n",
       "      <td>0.0</td>\n",
       "      <td>0.0</td>\n",
       "    </tr>\n",
       "    <tr>\n",
       "      <th>x0_Other</th>\n",
       "      <td>0.0</td>\n",
       "      <td>0.0</td>\n",
       "      <td>0.0</td>\n",
       "      <td>0.0</td>\n",
       "      <td>0.0</td>\n",
       "      <td>0.0</td>\n",
       "      <td>0.0</td>\n",
       "      <td>0.0</td>\n",
       "      <td>0.0</td>\n",
       "      <td>0.0</td>\n",
       "      <td>...</td>\n",
       "      <td>0.0</td>\n",
       "      <td>0.0</td>\n",
       "      <td>0.0</td>\n",
       "      <td>0.0</td>\n",
       "      <td>0.0</td>\n",
       "      <td>0.0</td>\n",
       "      <td>0.0</td>\n",
       "      <td>0.0</td>\n",
       "      <td>0.0</td>\n",
       "      <td>0.0</td>\n",
       "    </tr>\n",
       "    <tr>\n",
       "      <th>x1_Annual</th>\n",
       "      <td>0.0</td>\n",
       "      <td>0.0</td>\n",
       "      <td>0.0</td>\n",
       "      <td>0.0</td>\n",
       "      <td>0.0</td>\n",
       "      <td>0.0</td>\n",
       "      <td>0.0</td>\n",
       "      <td>0.0</td>\n",
       "      <td>0.0</td>\n",
       "      <td>0.0</td>\n",
       "      <td>...</td>\n",
       "      <td>0.0</td>\n",
       "      <td>0.0</td>\n",
       "      <td>0.0</td>\n",
       "      <td>0.0</td>\n",
       "      <td>0.0</td>\n",
       "      <td>0.0</td>\n",
       "      <td>0.0</td>\n",
       "      <td>0.0</td>\n",
       "      <td>0.0</td>\n",
       "      <td>0.0</td>\n",
       "    </tr>\n",
       "  </tbody>\n",
       "</table>\n",
       "<p>5 rows × 1650 columns</p>\n",
       "</div>"
      ],
      "text/plain": [
       "               0     1     2     3     4     5     6     7     8     9     \\\n",
       "x0_Dicot        0.0   1.0   0.0   1.0   1.0   1.0   0.0   0.0   1.0   1.0   \n",
       "x0_Gymnosperm   0.0   0.0   0.0   0.0   0.0   0.0   0.0   0.0   0.0   0.0   \n",
       "x0_Monocot      1.0   0.0   1.0   0.0   0.0   0.0   1.0   1.0   0.0   0.0   \n",
       "x0_Other        0.0   0.0   0.0   0.0   0.0   0.0   0.0   0.0   0.0   0.0   \n",
       "x1_Annual       0.0   0.0   0.0   0.0   0.0   0.0   0.0   0.0   0.0   0.0   \n",
       "\n",
       "               ...  1640  1641  1642  1643  1644  1645  1646  1647  1648  1649  \n",
       "x0_Dicot       ...   1.0   1.0   1.0   0.0   1.0   1.0   1.0   1.0   1.0   1.0  \n",
       "x0_Gymnosperm  ...   0.0   0.0   0.0   0.0   0.0   0.0   0.0   0.0   0.0   0.0  \n",
       "x0_Monocot     ...   0.0   0.0   0.0   1.0   0.0   0.0   0.0   0.0   0.0   0.0  \n",
       "x0_Other       ...   0.0   0.0   0.0   0.0   0.0   0.0   0.0   0.0   0.0   0.0  \n",
       "x1_Annual      ...   0.0   0.0   0.0   0.0   0.0   0.0   0.0   0.0   0.0   0.0  \n",
       "\n",
       "[5 rows x 1650 columns]"
      ]
     },
     "execution_count": 561,
     "metadata": {},
     "output_type": "execute_result"
    }
   ],
   "source": [
    "X_train_clean = union.fit_transform(X_train)\n",
    "X_test_clean = union.transform(X_test)\n",
    "\n",
    "# to view as dataframe, unhash below\n",
    "column_names = cat_pipeline.named_steps['preprocess'].get_feature_names().tolist() + numeric_features\n",
    "pd.DataFrame(union.fit_transform(X_train).toarray(), columns=column_names).T.head()"
   ]
  },
  {
   "cell_type": "code",
   "execution_count": 562,
   "metadata": {},
   "outputs": [],
   "source": [
    "X_train_clean_df = pd.DataFrame(union.fit_transform(X_train).toarray(),\n",
    "                                columns=column_names,\n",
    "                               index=X_train.index)\n",
    "X_test_clean_df = pd.DataFrame(union.fit_transform(X_test).toarray(),\n",
    "                               columns=column_names,\n",
    "                               index=X_test.index)"
   ]
  },
  {
   "cell_type": "code",
   "execution_count": 563,
   "metadata": {
    "scrolled": false
   },
   "outputs": [
    {
     "data": {
      "text/plain": [
       "[]"
      ]
     },
     "execution_count": 563,
     "metadata": {},
     "output_type": "execute_result"
    }
   ],
   "source": [
    "#X_test_clean_df.columns\n",
    "[(i,name) for i,name in enumerate(column_names) if type(name) != str]"
   ]
  },
  {
   "cell_type": "code",
   "execution_count": 564,
   "metadata": {},
   "outputs": [],
   "source": [
    "# #Fitting the PCA algorithm with our Data\n",
    "# pca = PCA().fit(X_train_clean_df)\n",
    "# #Plotting the Cumulative Summation of the Explained Variance\n",
    "# plt.figure()\n",
    "# plt.plot(np.cumsum(pca.explained_variance_ratio_))\n",
    "# plt.xlabel('Number of Components')\n",
    "# plt.ylabel('Variance (%)') #for each component\n",
    "# plt.title('Invasive Plants Dataset Explained Variance')\n",
    "# plt.show()"
   ]
  },
  {
   "cell_type": "code",
   "execution_count": 565,
   "metadata": {},
   "outputs": [],
   "source": [
    "# pca = PCA(n_components=80)\n",
    "# X_train_pca = pca.fit_transform(X_train_clean_df)\n",
    "# X_test_pca = pca.transform(X_test_clean_df)"
   ]
  },
  {
   "cell_type": "code",
   "execution_count": 566,
   "metadata": {},
   "outputs": [],
   "source": [
    "# pca.explained_variance_ratio_"
   ]
  },
  {
   "cell_type": "code",
   "execution_count": 567,
   "metadata": {},
   "outputs": [],
   "source": [
    "\n",
    "pca_df = pd.DataFrame(data=X_train_clean_df)\n",
    "\n",
    "sm = SMOTE(sampling_strategy='minority',\n",
    "           k_neighbors=30,\n",
    "           n_jobs=3,\n",
    "           random_state=9)\n",
    "\n",
    "# sm = RandomOverSampler(sampling_strategy='minority')\n",
    "\n",
    "X_res, y_res = sm.fit_resample(pca_df, y_train)"
   ]
  },
  {
   "cell_type": "code",
   "execution_count": 568,
   "metadata": {},
   "outputs": [
    {
     "data": {
      "text/plain": [
       "((3190, 164), (3190,))"
      ]
     },
     "execution_count": 568,
     "metadata": {},
     "output_type": "execute_result"
    }
   ],
   "source": [
    "X_res.shape, y_res.shape"
   ]
  },
  {
   "cell_type": "code",
   "execution_count": 569,
   "metadata": {},
   "outputs": [],
   "source": [
    "# #rfc = H2ORandomForestEstimator()\n",
    "# rfc = XGBClassifier(max_depth=3,\n",
    "#                     scale_pos_weight=2,\n",
    "#                     learning_rate=0.01)\n",
    "# # rfc = RandomForestClassifier(n_estimators=100,\n",
    "# #                              max_depth=4,\n",
    "# #                              random_state=2,\n",
    "# #                              class_weight={1:2})\n",
    "# rfc.fit(X_res, y_res)\n",
    "\n",
    "# rfc.score(X_res, y_res), rfc.score(X_test_pca, y_test)\n",
    "\n",
    "# train_pred = rfc.predict(X_train_pca)\n",
    "# test_pred = rfc.predict(X_test_pca)"
   ]
  },
  {
   "cell_type": "code",
   "execution_count": 570,
   "metadata": {
    "scrolled": false
   },
   "outputs": [
    {
     "name": "stdout",
     "output_type": "stream",
     "text": [
      "Training accuracy:  0.6084848484848485 \n",
      " Testing accuracy:  0.6077481840193705 \n",
      "\n",
      " Classificaiton repot:                precision    recall  f1-score   support\n",
      "\n",
      "           0       0.98      0.61      0.75       401\n",
      "           1       0.04      0.50      0.07        12\n",
      "\n",
      "   micro avg       0.61      0.61      0.61       413\n",
      "   macro avg       0.51      0.56      0.41       413\n",
      "weighted avg       0.95      0.61      0.73       413\n",
      " \n",
      " fr score:  0.06896551724137931 \n",
      " \n",
      " Confusion Matrix:  \n",
      " [[245 156]\n",
      " [  6   6]] \n",
      "\n",
      " Train AUC:  0.48150470219435737 \n",
      "\n",
      " Test AUC:  0.5554862842892768 \n",
      "\n",
      "\n"
     ]
    }
   ],
   "source": [
    "imbalanced_class_metrics(y_train,\n",
    "                         train_pred,\n",
    "                         y_test,\n",
    "                         test_pred)\n"
   ]
  },
  {
   "cell_type": "code",
   "execution_count": 736,
   "metadata": {},
   "outputs": [
    {
     "data": {
      "text/plain": [
       "RandomForestClassifier(bootstrap=True, class_weight=None, criterion='gini',\n",
       "            max_depth=4, max_features='auto', max_leaf_nodes=None,\n",
       "            min_impurity_decrease=0.0, min_impurity_split=None,\n",
       "            min_samples_leaf=1, min_samples_split=2,\n",
       "            min_weight_fraction_leaf=0.0, n_estimators=100, n_jobs=None,\n",
       "            oob_score=False, random_state=42, verbose=0, warm_start=False)"
      ]
     },
     "execution_count": 736,
     "metadata": {},
     "output_type": "execute_result"
    }
   ],
   "source": [
    "rfc = RandomForestClassifier(n_estimators=100,\n",
    "                             random_state=42,\n",
    "                             max_depth=4)\n",
    "rfc.fit(X_train_clean_df, y_train)\n",
    "\n",
    "#X_test_clean_df"
   ]
  },
  {
   "cell_type": "code",
   "execution_count": 737,
   "metadata": {},
   "outputs": [],
   "source": [
    "y_train_pred = rfc.predict_proba(X_train_clean_df)\n",
    "y_test_pred = rfc.predict_proba(X_test_clean_df)"
   ]
  },
  {
   "cell_type": "code",
   "execution_count": 738,
   "metadata": {},
   "outputs": [],
   "source": [
    "fpr, tpr, thresholds = roc_curve(y_train, y_train_pred[:,1])\n",
    "test_fpr, test_tpr, test_thresholds = roc_curve(y_test, y_test_pred[:,1])"
   ]
  },
  {
   "cell_type": "code",
   "execution_count": 739,
   "metadata": {},
   "outputs": [
    {
     "data": {
      "image/png": "[encoded data removed]",
      "text/plain": [
       "<Figure size 720x576 with 1 Axes>"
      ]
     },
     "metadata": {
      "needs_background": "light"
     },
     "output_type": "display_data"
    }
   ],
   "source": [
    "fig, ax = plt.subplots(figsize=(10,8))\n",
    "ax.plot(fpr,tpr, label='train')\n",
    "ax.plot(test_fpr, test_tpr, label='test')\n",
    "plt.legend();"
   ]
  },
  {
   "cell_type": "code",
   "execution_count": 659,
   "metadata": {
    "scrolled": false
   },
   "outputs": [
    {
     "data": {
      "text/plain": [
       "(array([127., 169.,  77.,  19.,  12.,   3.,   1.,   2.,   2.,   1.]),\n",
       " array([0.00954558, 0.02175361, 0.03396164, 0.04616967, 0.0583777 ,\n",
       "        0.07058573, 0.08279376, 0.09500179, 0.10720982, 0.11941784,\n",
       "        0.13162587]),\n",
       " <a list of 10 Patch objects>)"
      ]
     },
     "execution_count": 659,
     "metadata": {},
     "output_type": "execute_result"
    },
    {
     "data": {
      "image/png": "[encoded data removed]",
      "text/plain": [
       "<Figure size 432x288 with 1 Axes>"
      ]
     },
     "metadata": {
      "needs_background": "light"
     },
     "output_type": "display_data"
    }
   ],
   "source": [
    "plt.hist(y_test_pred[:,1])"
   ]
  },
  {
   "cell_type": "code",
   "execution_count": 660,
   "metadata": {
    "scrolled": true
   },
   "outputs": [
    {
     "data": {
      "text/plain": [
       "array([1.13162587, 0.13162587, 0.06688249, 0.0665343 , 0.06312329,\n",
       "       0.0626692 , 0.05699582, 0.05555486, 0.05306062, 0.05246668,\n",
       "       0.04653059, 0.04607398, 0.04077429, 0.04073968, 0.03570654,\n",
       "       0.03560565, 0.03475246, 0.03472021, 0.02680804, 0.0267905 ,\n",
       "       0.02449298, 0.02447347, 0.02171356, 0.02164603, 0.01594317,\n",
       "       0.01588451, 0.00954558])"
      ]
     },
     "execution_count": 660,
     "metadata": {},
     "output_type": "execute_result"
    }
   ],
   "source": [
    "test_thresholds"
   ]
  },
  {
   "cell_type": "code",
   "execution_count": 661,
   "metadata": {},
   "outputs": [
    {
     "data": {
      "text/plain": [
       "array([0.02754671, 0.02603367, 0.02491727, 0.01949869, 0.01818909,\n",
       "       0.02545231, 0.01598686])"
      ]
     },
     "execution_count": 661,
     "metadata": {},
     "output_type": "execute_result"
    }
   ],
   "source": [
    "y_test_pred[:,1][:7]"
   ]
  },
  {
   "cell_type": "code",
   "execution_count": 663,
   "metadata": {},
   "outputs": [],
   "source": [
    "miles_talk_copy = X_test_clean_df.copy()"
   ]
  },
  {
   "cell_type": "code",
   "execution_count": 665,
   "metadata": {},
   "outputs": [],
   "source": [
    "miles_talk_copy['y'] = y_test"
   ]
  },
  {
   "cell_type": "code",
   "execution_count": 666,
   "metadata": {},
   "outputs": [],
   "source": [
    "miles_talk_copy['y_pred'] = y_test_pred[:,1]"
   ]
  },
  {
   "cell_type": "code",
   "execution_count": 676,
   "metadata": {},
   "outputs": [
    {
     "data": {
      "text/html": [
       "<div>\n",
       "<style scoped>\n",
       "    .dataframe tbody tr th:only-of-type {\n",
       "        vertical-align: middle;\n",
       "    }\n",
       "\n",
       "    .dataframe tbody tr th {\n",
       "        vertical-align: top;\n",
       "    }\n",
       "\n",
       "    .dataframe thead th {\n",
       "        text-align: right;\n",
       "    }\n",
       "</style>\n",
       "<table border=\"1\" class=\"dataframe\">\n",
       "  <thead>\n",
       "    <tr style=\"text-align: right;\">\n",
       "      <th></th>\n",
       "      <th>x0_Dicot</th>\n",
       "      <th>x0_Gymnosperm</th>\n",
       "      <th>x0_Monocot</th>\n",
       "      <th>x0_Other</th>\n",
       "      <th>x1_Annual</th>\n",
       "      <th>x1_Biennial</th>\n",
       "      <th>x1_Perennial</th>\n",
       "      <th>x2_Forb/herb</th>\n",
       "      <th>x2_Graminoid</th>\n",
       "      <th>x2_Shrub</th>\n",
       "      <th>...</th>\n",
       "      <th>Height, Mature (feet)</th>\n",
       "      <th>Frost Free Days, Minimum</th>\n",
       "      <th>pH (Minimum)</th>\n",
       "      <th>pH (Maximum)</th>\n",
       "      <th>Precipitation (Minimum)</th>\n",
       "      <th>Precipitation (Maximum)</th>\n",
       "      <th>Root Depth, Minimum (inches)</th>\n",
       "      <th>Temperature, Minimum ('b0F)</th>\n",
       "      <th>y</th>\n",
       "      <th>y_pred</th>\n",
       "    </tr>\n",
       "  </thead>\n",
       "  <tbody>\n",
       "    <tr>\n",
       "      <th>1803</th>\n",
       "      <td>1.0</td>\n",
       "      <td>0.0</td>\n",
       "      <td>0.0</td>\n",
       "      <td>0.0</td>\n",
       "      <td>0.0</td>\n",
       "      <td>0.0</td>\n",
       "      <td>1.0</td>\n",
       "      <td>0.0</td>\n",
       "      <td>0.0</td>\n",
       "      <td>1.0</td>\n",
       "      <td>...</td>\n",
       "      <td>-0.348985</td>\n",
       "      <td>-0.755315</td>\n",
       "      <td>-0.071197</td>\n",
       "      <td>0.693993</td>\n",
       "      <td>-0.559524</td>\n",
       "      <td>-0.683483</td>\n",
       "      <td>0.916216</td>\n",
       "      <td>-1.781052</td>\n",
       "      <td>0</td>\n",
       "      <td>0.131626</td>\n",
       "    </tr>\n",
       "    <tr>\n",
       "      <th>1769</th>\n",
       "      <td>1.0</td>\n",
       "      <td>0.0</td>\n",
       "      <td>0.0</td>\n",
       "      <td>0.0</td>\n",
       "      <td>0.0</td>\n",
       "      <td>0.0</td>\n",
       "      <td>1.0</td>\n",
       "      <td>1.0</td>\n",
       "      <td>0.0</td>\n",
       "      <td>0.0</td>\n",
       "      <td>...</td>\n",
       "      <td>-0.437258</td>\n",
       "      <td>-0.522114</td>\n",
       "      <td>-0.435714</td>\n",
       "      <td>2.007555</td>\n",
       "      <td>0.731445</td>\n",
       "      <td>0.324037</td>\n",
       "      <td>-0.326128</td>\n",
       "      <td>-0.766579</td>\n",
       "      <td>0</td>\n",
       "      <td>0.117108</td>\n",
       "    </tr>\n",
       "    <tr>\n",
       "      <th>715</th>\n",
       "      <td>0.0</td>\n",
       "      <td>0.0</td>\n",
       "      <td>1.0</td>\n",
       "      <td>0.0</td>\n",
       "      <td>0.0</td>\n",
       "      <td>0.0</td>\n",
       "      <td>1.0</td>\n",
       "      <td>0.0</td>\n",
       "      <td>1.0</td>\n",
       "      <td>0.0</td>\n",
       "      <td>...</td>\n",
       "      <td>-0.449028</td>\n",
       "      <td>-0.833048</td>\n",
       "      <td>-0.192703</td>\n",
       "      <td>0.431281</td>\n",
       "      <td>0.215057</td>\n",
       "      <td>0.324037</td>\n",
       "      <td>-0.119070</td>\n",
       "      <td>-0.969473</td>\n",
       "      <td>0</td>\n",
       "      <td>0.116051</td>\n",
       "    </tr>\n",
       "    <tr>\n",
       "      <th>1343</th>\n",
       "      <td>0.0</td>\n",
       "      <td>0.0</td>\n",
       "      <td>1.0</td>\n",
       "      <td>0.0</td>\n",
       "      <td>1.0</td>\n",
       "      <td>0.0</td>\n",
       "      <td>0.0</td>\n",
       "      <td>0.0</td>\n",
       "      <td>1.0</td>\n",
       "      <td>0.0</td>\n",
       "      <td>...</td>\n",
       "      <td>-0.348985</td>\n",
       "      <td>0.877091</td>\n",
       "      <td>0.171814</td>\n",
       "      <td>-0.882281</td>\n",
       "      <td>0.731445</td>\n",
       "      <td>-0.107757</td>\n",
       "      <td>-0.533185</td>\n",
       "      <td>-0.644842</td>\n",
       "      <td>0</td>\n",
       "      <td>0.104338</td>\n",
       "    </tr>\n",
       "    <tr>\n",
       "      <th>306</th>\n",
       "      <td>0.0</td>\n",
       "      <td>0.0</td>\n",
       "      <td>1.0</td>\n",
       "      <td>0.0</td>\n",
       "      <td>0.0</td>\n",
       "      <td>0.0</td>\n",
       "      <td>1.0</td>\n",
       "      <td>1.0</td>\n",
       "      <td>0.0</td>\n",
       "      <td>0.0</td>\n",
       "      <td>...</td>\n",
       "      <td>-0.407834</td>\n",
       "      <td>3.364566</td>\n",
       "      <td>-1.043242</td>\n",
       "      <td>-1.276350</td>\n",
       "      <td>0.989638</td>\n",
       "      <td>0.727045</td>\n",
       "      <td>-0.326128</td>\n",
       "      <td>1.911632</td>\n",
       "      <td>0</td>\n",
       "      <td>0.101827</td>\n",
       "    </tr>\n",
       "  </tbody>\n",
       "</table>\n",
       "<p>5 rows × 166 columns</p>\n",
       "</div>"
      ],
      "text/plain": [
       "      x0_Dicot  x0_Gymnosperm  x0_Monocot  x0_Other  x1_Annual  x1_Biennial  \\\n",
       "1803       1.0            0.0         0.0       0.0        0.0          0.0   \n",
       "1769       1.0            0.0         0.0       0.0        0.0          0.0   \n",
       "715        0.0            0.0         1.0       0.0        0.0          0.0   \n",
       "1343       0.0            0.0         1.0       0.0        1.0          0.0   \n",
       "306        0.0            0.0         1.0       0.0        0.0          0.0   \n",
       "\n",
       "      x1_Perennial  x2_Forb/herb  x2_Graminoid  x2_Shrub  ...  \\\n",
       "1803           1.0           0.0           0.0       1.0  ...   \n",
       "1769           1.0           1.0           0.0       0.0  ...   \n",
       "715            1.0           0.0           1.0       0.0  ...   \n",
       "1343           0.0           0.0           1.0       0.0  ...   \n",
       "306            1.0           1.0           0.0       0.0  ...   \n",
       "\n",
       "      Height, Mature (feet)  Frost Free Days, Minimum  pH (Minimum)  \\\n",
       "1803              -0.348985                 -0.755315     -0.071197   \n",
       "1769              -0.437258                 -0.522114     -0.435714   \n",
       "715               -0.449028                 -0.833048     -0.192703   \n",
       "1343              -0.348985                  0.877091      0.171814   \n",
       "306               -0.407834                  3.364566     -1.043242   \n",
       "\n",
       "      pH (Maximum)  Precipitation (Minimum)  Precipitation (Maximum)  \\\n",
       "1803      0.693993                -0.559524                -0.683483   \n",
       "1769      2.007555                 0.731445                 0.324037   \n",
       "715       0.431281                 0.215057                 0.324037   \n",
       "1343     -0.882281                 0.731445                -0.107757   \n",
       "306      -1.276350                 0.989638                 0.727045   \n",
       "\n",
       "      Root Depth, Minimum (inches)  Temperature, Minimum ('b0F)  y    y_pred  \n",
       "1803                      0.916216                    -1.781052  0  0.131626  \n",
       "1769                     -0.326128                    -0.766579  0  0.117108  \n",
       "715                      -0.119070                    -0.969473  0  0.116051  \n",
       "1343                     -0.533185                    -0.644842  0  0.104338  \n",
       "306                      -0.326128                     1.911632  0  0.101827  \n",
       "\n",
       "[5 rows x 166 columns]"
      ]
     },
     "execution_count": 676,
     "metadata": {},
     "output_type": "execute_result"
    }
   ],
   "source": [
    "miles_talk_copy.sort_values('y_pred', ascending=False).head()"
   ]
  },
  {
   "cell_type": "code",
   "execution_count": 668,
   "metadata": {},
   "outputs": [
    {
     "data": {
      "text/plain": [
       "<matplotlib.collections.PathCollection at 0x1a5bd7fb70>"
      ]
     },
     "execution_count": 668,
     "metadata": {},
     "output_type": "execute_result"
    },
    {
     "data": {
      "image/png": "[encoded data removed]",
      "text/plain": [
       "<Figure size 432x288 with 1 Axes>"
      ]
     },
     "metadata": {
      "needs_background": "light"
     },
     "output_type": "display_data"
    }
   ],
   "source": [
    "plt.scatter(miles_talk_copy['y_pred'], miles_talk_copy['y'], alpha=.1)"
   ]
  },
  {
   "cell_type": "code",
   "execution_count": 671,
   "metadata": {},
   "outputs": [],
   "source": [
    "from sklearn.linear_model import LogisticRegression"
   ]
  },
  {
   "cell_type": "code",
   "execution_count": 675,
   "metadata": {},
   "outputs": [
    {
     "data": {
      "text/plain": [
       "LogisticRegression(C=1.0, class_weight=None, dual=False, fit_intercept=True,\n",
       "          intercept_scaling=1, max_iter=1001, multi_class='warn',\n",
       "          n_jobs=None, penalty='l2', random_state=None, solver='lbfgs',\n",
       "          tol=0.0001, verbose=0, warm_start=False)"
      ]
     },
     "execution_count": 675,
     "metadata": {},
     "output_type": "execute_result"
    }
   ],
   "source": [
    "lg = LogisticRegression(penalty='l2',\n",
    "                       solver='lbfgs',\n",
    "                       max_iter=1001)\n",
    "lg.fit(X_train_clean_df, y_train)"
   ]
  },
  {
   "cell_type": "code",
   "execution_count": 683,
   "metadata": {},
   "outputs": [
    {
     "data": {
      "image/png": "[encoded data removed]",
      "text/plain": [
       "<Figure size 720x576 with 1 Axes>"
      ]
     },
     "metadata": {
      "needs_background": "light"
     },
     "output_type": "display_data"
    }
   ],
   "source": [
    "train_pred = lg.predict_proba(X_train_clean_df)\n",
    "test_pred = lg.predict_proba(X_test_clean_df)\n",
    "fpr, tpr, thresholds = roc_curve(y_train, train_pred[:,1])\n",
    "test_fpr, test_tpr, test_thresholds = roc_curve(y_test, test_pred[:,1])\n",
    "fig, ax = plt.subplots(figsize=(10,8))\n",
    "ax.plot(fpr,tpr, label='train')\n",
    "ax.plot(test_fpr, test_tpr, label='test')\n",
    "plt.legend();"
   ]
  },
  {
   "cell_type": "code",
   "execution_count": 692,
   "metadata": {},
   "outputs": [],
   "source": [
    "test = lg.coef_.tolist()"
   ]
  },
  {
   "cell_type": "code",
   "execution_count": 740,
   "metadata": {},
   "outputs": [
    {
     "data": {
      "image/png": "[encoded data removed]",
      "text/plain": [
       "<Figure size 432x288 with 1 Axes>"
      ]
     },
     "metadata": {
      "needs_background": "light"
     },
     "output_type": "display_data"
    }
   ],
   "source": [
    "coef_df = X_test_clean_df.copy()\n",
    "X_train_copy = X_train_clean_df.copy()\n",
    "coef_df['y'] = y_test\n",
    "coef_df['y_pred'] = test_pred[:,1]\n",
    "\n",
    "plt.scatter(coef_df['y'], coef_df['y_pred'], alpha=0.1);"
   ]
  },
  {
   "cell_type": "code",
   "execution_count": 708,
   "metadata": {},
   "outputs": [],
   "source": [
    "coef_list = list(zip(X_train_clean_df.columns, test[0]))"
   ]
  },
  {
   "cell_type": "code",
   "execution_count": 718,
   "metadata": {},
   "outputs": [
    {
     "data": {
      "text/plain": [
       "[('x47_Rapid', 0.8697597082191184),\n",
       " ('x17_Bunch', 0.8147412619291718),\n",
       " ('x15_Yellow', 0.7889408450991463),\n",
       " ('x45_Moderate', 0.7511426494791614),\n",
       " ('x36_Medium', 0.6875026264370211),\n",
       " ('x42_Spring', 0.6727318497853074),\n",
       " ('x20_No', 0.6099286924248644),\n",
       " ('x34_Medium', 0.5906348087590693),\n",
       " ('x16_Yes', 0.5902331111358089),\n",
       " ('x11_0', 0.5183372063612273),\n",
       " ('Precipitation (Minimum)', 0.5106739115523179),\n",
       " ('x4_0', 0.5101547596223364),\n",
       " ('x35_None', 0.4723178952913498),\n",
       " ('x30_Low', 0.4706381812329287),\n",
       " ('x13_Moderate', 0.4667358599789242),\n",
       " ('x31_None', 0.45489437781897213),\n",
       " ('x2_Vine', 0.45412013475349583),\n",
       " ('x26_1', 0.44221389057614063),\n",
       " ('x42_Summer', 0.4401768181449345),\n",
       " ('x17_Colonizing', 0.4085477504536163),\n",
       " ('x38_High', 0.39559584904530903),\n",
       " ('x33_High', 0.38595339084515395),\n",
       " ('x6_Yes', 0.384195932071269),\n",
       " ('x3_one', 0.3782445467043123),\n",
       " (\"Temperature, Minimum ('b0F)\", 0.367233051359651),\n",
       " ('x17_Stoloniferous', 0.36653136937640457),\n",
       " ('x15_Green', 0.3639287094146679),\n",
       " ('x38_Medium', 0.36315031048927965),\n",
       " ('x9_Green', 0.3606013565117493),\n",
       " ('pH (Maximum)', 0.3577655910466693),\n",
       " ('x0_Monocot', 0.34614244641859293),\n",
       " ('x28_Yes', 0.3412125874010231),\n",
       " ('x33_Medium', 0.3291114787847967),\n",
       " ('x21_Short', 0.32089526301740723),\n",
       " ('x32_Yes', 0.3201957391846922),\n",
       " ('x30_None', 0.31167519858549686),\n",
       " ('x39_Intolerant', 0.308828064792187),\n",
       " ('x43_other', 0.3033400834101634),\n",
       " ('x19_Yes', 0.28087101509794493),\n",
       " ('x9_Yellow', 0.27720690600829245),\n",
       " ('x17_Multiple Stem', 0.2687840019525409),\n",
       " ('x5_High', 0.26780954216621866),\n",
       " ('x22_Yes', 0.26266215109577273),\n",
       " ('x5_Medium', 0.2621133239518683),\n",
       " ('x8_No', 0.2543847846163087),\n",
       " ('x1_Biennial', 0.2496874145205649),\n",
       " ('x9_White', 0.24349823036226814),\n",
       " ('x2_Forb/herb', 0.24340697555955593),\n",
       " ('Height, Mature (feet)', 0.24092367679269372),\n",
       " ('x43_Spring', 0.23948041974017156),\n",
       " ('x36_Low', 0.23925224884017354),\n",
       " ('x12_Moderate', 0.23274489761784997),\n",
       " ('x18_Rapid', 0.22591017162158858),\n",
       " ('x25_0', 0.20589928638469354),\n",
       " ('x37_High', 0.19520498968164848),\n",
       " ('x9_Purple', 0.1950870151254042),\n",
       " ('x24_No', 0.18375656746666066),\n",
       " ('x35_High', 0.1837314617597645),\n",
       " ('x27_No', 0.16215867462291694),\n",
       " ('x40_summer', 0.15339954153569935),\n",
       " ('x31_Low', 0.15198458388373573),\n",
       " ('x15_Brown', 0.13862584470993627),\n",
       " ('x12_Dense', 0.13783993231279923),\n",
       " ('x23_1', 0.13629734644223196),\n",
       " ('x41_High', 0.1288820628244691),\n",
       " ('x31_Medium', 0.1263450054079863),\n",
       " ('x18_Moderate', 0.1258080955067269),\n",
       " ('x14_Coarse', 0.10675525021886462),\n",
       " ('x44_No', 0.07385850698585848),\n",
       " ('x7_No', 0.07264965488931537),\n",
       " ('x46_Medium', 0.07056628345418552),\n",
       " ('x0_Dicot', 0.06408005469501647),\n",
       " ('x21_Moderate', 0.05636984606234539),\n",
       " ('x47_Slow', 0.045750035822820556),\n",
       " ('x40_other', 0.03457083915203153),\n",
       " ('x10_No', 0.0345010817748969),\n",
       " ('x29_Yes', 0.02417839113460583),\n",
       " ('x3_four', 0.016608697826856724),\n",
       " ('x15_Red', 0.015214162202509894),\n",
       " ('x46_High', 0.014362286788720521),\n",
       " ('x41_low_none', 0.013880565145955268),\n",
       " ('x45_Rapid', -0.007711938876461675),\n",
       " ('x17_Rhizomatous', -0.021018135238761587),\n",
       " ('x9_Brown', -0.022373763507543803),\n",
       " ('x29_No', -0.02446909194115142),\n",
       " ('x43_Fall', -0.024762695830133196),\n",
       " ('x30_High', -0.030227488058153826),\n",
       " ('x10_Yes', -0.034791782581443526),\n",
       " ('x38_Low', -0.03955400907727794),\n",
       " ('x14_Fine', -0.04273602045350338),\n",
       " ('x15_Blue', -0.051110159049967414),\n",
       " ('x14_Medium', -0.06430993057190745),\n",
       " ('x3_two', -0.06647547168976296),\n",
       " ('x2_Subshrub', -0.06698417491346516),\n",
       " ('x15_Black', -0.06722066674042147),\n",
       " ('x35_Low', -0.06972751413702712),\n",
       " ('x7_Yes', -0.0729403556958606),\n",
       " ('x44_Yes', -0.07414920779240423),\n",
       " ('pH (Minimum)', -0.07425142510072444),\n",
       " ('x37_Medium', -0.07628830403159875),\n",
       " ('x39_Intermediate', -0.07824240307531241),\n",
       " ('x46_Low', -0.08521927104945619),\n",
       " ('x2_Tree', -0.08918772377501498),\n",
       " ('x15_Purple', -0.10306041239267177),\n",
       " ('x1_Perennial', -0.11221035158003265),\n",
       " ('x33_None', -0.11402816960132532),\n",
       " ('x37_Low', -0.11920738645659575),\n",
       " ('x0_Other', -0.1201714865194624),\n",
       " ('Precipitation (Maximum)', -0.13393118886216282),\n",
       " ('x23_0', -0.13658804724878082),\n",
       " ('x1_Annual', -0.13776776374707833),\n",
       " ('x41_Medium', -0.14305332877697108),\n",
       " ('x9_Red', -0.15497179464918379),\n",
       " ('x27_Yes', -0.16244937542946278),\n",
       " ('x24_Yes', -0.1840472682732067),\n",
       " ('x40_spring', -0.1882610814942781),\n",
       " ('Frost Free Days, Minimum', -0.1960726264256775),\n",
       " ('x13_Porous', -0.2025390082249203),\n",
       " ('x25_1', -0.2061899871912397),\n",
       " ('x36_None', -0.21091254733753634),\n",
       " ('x39_Tolerant', -0.23087636252342073),\n",
       " ('x34_High', -0.2524277701126707),\n",
       " ('x8_Yes', -0.2546754854228543),\n",
       " ('x2_Shrub', -0.2599509304415764),\n",
       " ('x22_No', -0.26295285190232215),\n",
       " ('x13_Dense', -0.26448755256054857),\n",
       " ('x15_White', -0.26742277007387744),\n",
       " ('x9_Orange', -0.27969639780524486),\n",
       " ('x19_No', -0.2811617159044958),\n",
       " ('x2_Graminoid', -0.28169498198953974),\n",
       " ('x0_Gymnosperm', -0.29034171540069725),\n",
       " ('x32_No', -0.3204864399912395),\n",
       " ('x17_Single Stem', -0.32543808078223374),\n",
       " ('x3_three', -0.32866847364795326),\n",
       " ('x45_Slow', -0.3372324594721279),\n",
       " ('x34_Low', -0.3384977394529464),\n",
       " ('x28_No', -0.3415032882075702),\n",
       " ('x18_Slow', -0.3520089679348651),\n",
       " ('x12_Porous', -0.3708755307371961),\n",
       " ('x21_Long', -0.3775558098862998),\n",
       " ('x6_No', -0.38448663287781987),\n",
       " ('x45_None', -0.4064889519371174),\n",
       " ('x42_Fall', -0.4113313691867202),\n",
       " ('x47_Moderate', -0.4125450978669971),\n",
       " ('x26_0', -0.44250459138268894),\n",
       " ('Root Depth, Minimum (inches)', -0.45990069391652716),\n",
       " ('x47_None', -0.5032553469814882),\n",
       " ('x4_1', -0.5104454604288838),\n",
       " ('x43_Summer', -0.5183485081267467),\n",
       " ('x11_1', -0.5186279071677782),\n",
       " ('x5_Low', -0.5302135669246334),\n",
       " ('x35_Medium', -0.5866125437206344),\n",
       " ('x16_No', -0.590523811942356),\n",
       " ('x33_Low', -0.6013274008351693),\n",
       " ('x20_Yes', -0.6102193932314149),\n",
       " ('x9_Blue', -0.6196422528522882),\n",
       " ('x17_Single Crown', -0.6454543879476651),\n",
       " ('x42_other', -0.701867999550069),\n",
       " ('x36_High', -0.7161330287462022),\n",
       " ('x38_None', -0.719482851263854),\n",
       " ('x31_High', -0.7335146679172407),\n",
       " ('x30_Medium', -0.752376592566815),\n",
       " ('x15_Orange', -0.8181862539758699),\n",
       " ('x17_Thicket Forming', -0.8669844805496177)]"
      ]
     },
     "execution_count": 718,
     "metadata": {},
     "output_type": "execute_result"
    }
   ],
   "source": [
    "coefs_sorted = sorted(coef_list, key= lambda x: x[1], reverse=True)\n",
    "coefs_sorted"
   ]
  },
  {
   "cell_type": "code",
   "execution_count": 741,
   "metadata": {},
   "outputs": [],
   "source": [
    "top_coefs = [x[0] for x in coefs_sorted if abs(x[1]) > 0.5]\n",
    "best_coef_x_test = coef_df[top_coefs]\n",
    "best_coef_x_train = X_train_copy[top_coefs]"
   ]
  },
  {
   "cell_type": "code",
   "execution_count": 746,
   "metadata": {},
   "outputs": [
    {
     "data": {
      "text/plain": [
       "LogisticRegression(C=1.0, class_weight=None, dual=False, fit_intercept=True,\n",
       "          intercept_scaling=1, max_iter=1001, multi_class='warn',\n",
       "          n_jobs=None, penalty='l2', random_state=None, solver='lbfgs',\n",
       "          tol=0.0001, verbose=0, warm_start=False)"
      ]
     },
     "execution_count": 746,
     "metadata": {},
     "output_type": "execute_result"
    }
   ],
   "source": [
    "lg2 = LogisticRegression(penalty='l2',\n",
    "                       solver='lbfgs',\n",
    "                       max_iter=1001)\n",
    "lg2.fit(best_coef_x_train, y_train)"
   ]
  },
  {
   "cell_type": "code",
   "execution_count": 747,
   "metadata": {},
   "outputs": [
    {
     "data": {
      "image/png": "[encoded data removed]",
      "text/plain": [
       "<Figure size 720x576 with 1 Axes>"
      ]
     },
     "metadata": {
      "needs_background": "light"
     },
     "output_type": "display_data"
    }
   ],
   "source": [
    "train_pred = lg2.predict_proba(best_coef_x_train)\n",
    "test_pred = lg2.predict_proba(best_coef_x_test)\n",
    "fpr, tpr, thresholds = roc_curve(y_train, train_pred[:,1])\n",
    "test_fpr, test_tpr, test_thresholds = roc_curve(y_test, test_pred[:,1])\n",
    "fig, ax = plt.subplots(figsize=(10,8))\n",
    "ax.plot(fpr,tpr, label='train')\n",
    "ax.plot(test_fpr, test_tpr, label='test')\n",
    "plt.legend();"
   ]
  },
  {
   "cell_type": "code",
   "execution_count": 758,
   "metadata": {},
   "outputs": [
    {
     "data": {
      "text/plain": [
       "RandomForestClassifier(bootstrap=True, class_weight=None, criterion='gini',\n",
       "            max_depth=2, max_features='auto', max_leaf_nodes=None,\n",
       "            min_impurity_decrease=0.0, min_impurity_split=None,\n",
       "            min_samples_leaf=1, min_samples_split=2,\n",
       "            min_weight_fraction_leaf=0.0, n_estimators=100, n_jobs=None,\n",
       "            oob_score=False, random_state=42, verbose=0, warm_start=False)"
      ]
     },
     "execution_count": 758,
     "metadata": {},
     "output_type": "execute_result"
    }
   ],
   "source": [
    "rfc2 = RandomForestClassifier(n_estimators=100,\n",
    "                             random_state=42,\n",
    "                             max_depth=2)\n",
    "rfc2.fit(best_coef_x_train, y_train)"
   ]
  },
  {
   "cell_type": "code",
   "execution_count": 759,
   "metadata": {},
   "outputs": [
    {
     "data": {
      "image/png": "[encoded data removed]",
      "text/plain": [
       "<Figure size 720x576 with 1 Axes>"
      ]
     },
     "metadata": {
      "needs_background": "light"
     },
     "output_type": "display_data"
    }
   ],
   "source": [
    "train_pred = rfc2.predict_proba(best_coef_x_train)\n",
    "test_pred = rfc2.predict_proba(best_coef_x_test)\n",
    "fpr, tpr, thresholds = roc_curve(y_train, train_pred[:,1])\n",
    "test_fpr, test_tpr, test_thresholds = roc_curve(y_test, test_pred[:,1])\n",
    "fig, ax = plt.subplots(figsize=(10,8))\n",
    "ax.plot(fpr,tpr, label='train')\n",
    "ax.plot(test_fpr, test_tpr, label='test')\n",
    "plt.legend();"
   ]
  },
  {
   "cell_type": "code",
   "execution_count": 796,
   "metadata": {},
   "outputs": [
    {
     "data": {
      "text/plain": [
       "XGBClassifier(base_score=0.5, booster='gbtree', colsample_bylevel=1,\n",
       "       colsample_bytree=1, gamma=0, learning_rate=0.1, max_delta_step=0,\n",
       "       max_depth=2, min_child_weight=1, missing=None, n_estimators=100,\n",
       "       n_jobs=1, nthread=None, objective='binary:logistic', random_state=0,\n",
       "       reg_alpha=0, reg_lambda=1, scale_pos_weight=1, seed=None,\n",
       "       silent=True, subsample=1)"
      ]
     },
     "execution_count": 796,
     "metadata": {},
     "output_type": "execute_result"
    }
   ],
   "source": [
    "xgb = XGBClassifier(max_depth=2,\n",
    "                    scale_pos_weight=1,\n",
    "                    learning_rate=0.1)\n",
    "\n",
    "xgb.fit(best_coef_x_train, y_train)"
   ]
  },
  {
   "cell_type": "code",
   "execution_count": 797,
   "metadata": {},
   "outputs": [
    {
     "data": {
      "image/png": "[encoded data removed]",
      "text/plain": [
       "<Figure size 720x576 with 1 Axes>"
      ]
     },
     "metadata": {
      "needs_background": "light"
     },
     "output_type": "display_data"
    }
   ],
   "source": [
    "train_pred = xgb.predict_proba(best_coef_x_train)\n",
    "test_pred = xgb.predict_proba(best_coef_x_test)\n",
    "fpr, tpr, thresholds = roc_curve(y_train, train_pred[:,1])\n",
    "test_fpr, test_tpr, test_thresholds = roc_curve(y_test, test_pred[:,1])\n",
    "fig, ax = plt.subplots(figsize=(10,8))\n",
    "ax.plot(fpr,tpr, label='train')\n",
    "ax.plot(test_fpr, test_tpr, label='test')\n",
    "plt.legend();"
   ]
  },
  {
   "cell_type": "code",
   "execution_count": null,
   "metadata": {},
   "outputs": [],
   "source": []
  },
  {
   "cell_type": "code",
   "execution_count": null,
   "metadata": {},
   "outputs": [],
   "source": []
  }
 ],
 "metadata": {
  "kernelspec": {
   "display_name": "learn-env",
   "language": "python",
   "name": "learn-env"
  },
  "language_info": {
   "codemirror_mode": {
    "name": "ipython",
    "version": 3
   },
   "file_extension": ".py",
   "mimetype": "text/x-python",
   "name": "python",
   "nbconvert_exporter": "python",
   "pygments_lexer": "ipython3",
   "version": "3.6.8"
  }
 },
 "nbformat": 4,
 "nbformat_minor": 2
}
