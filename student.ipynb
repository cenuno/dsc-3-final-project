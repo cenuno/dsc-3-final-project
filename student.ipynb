{
 "cells": [
  {
   "cell_type": "markdown",
   "metadata": {},
   "source": [
    "# Classifier for Noxious Plant Species in North America\n",
    "\n",
    "* Student names: Natasha Kacoroski, Jacob Crabb\n",
    "* Student pace: full time\n",
    "* Scheduled project review date/time: \n",
    "* Instructor name: Miles Erickson, Greg Damico\n"
   ]
  },
  {
   "cell_type": "markdown",
   "metadata": {},
   "source": [
    "## Load Libraries and Data"
   ]
  },
  {
   "cell_type": "code",
   "execution_count": 1,
   "metadata": {},
   "outputs": [],
   "source": [
    "# Import necessary libraries\n",
    "from sklearn_pandas import DataFrameMapper, FunctionTransformer\n",
    "from sklearn.compose import ColumnTransformer\n",
    "from sklearn.pipeline import Pipeline\n",
    "from sklearn.impute import SimpleImputer\n",
    "from sklearn.model_selection import train_test_split\n",
    "from sklearn.preprocessing import OneHotEncoder, StandardScaler\n",
    "from sklearn.decomposition import PCA\n",
    "import pandas as pd\n",
    "import numpy as np"
   ]
  },
  {
   "cell_type": "code",
   "execution_count": 2,
   "metadata": {},
   "outputs": [
    {
     "data": {
      "text/html": [
       "<div>\n",
       "<style scoped>\n",
       "    .dataframe tbody tr th:only-of-type {\n",
       "        vertical-align: middle;\n",
       "    }\n",
       "\n",
       "    .dataframe tbody tr th {\n",
       "        vertical-align: top;\n",
       "    }\n",
       "\n",
       "    .dataframe thead th {\n",
       "        text-align: right;\n",
       "    }\n",
       "</style>\n",
       "<table border=\"1\" class=\"dataframe\">\n",
       "  <thead>\n",
       "    <tr style=\"text-align: right;\">\n",
       "      <th></th>\n",
       "      <th>outl0strokewidth0 strokec2 \"Accepted Symbol\"</th>\n",
       "      <th>Synonym Symbol</th>\n",
       "      <th>Scientific Name</th>\n",
       "      <th>Common Name</th>\n",
       "      <th>Category</th>\n",
       "      <th>Duration</th>\n",
       "      <th>Growth Habit</th>\n",
       "      <th>Native Status</th>\n",
       "      <th>State Noxious Status</th>\n",
       "      <th>Active Growth Period</th>\n",
       "      <th>...</th>\n",
       "      <th>Propogated by Cuttings</th>\n",
       "      <th>Propogated by Seed</th>\n",
       "      <th>Propogated by Sod</th>\n",
       "      <th>Propogated by Sprigs</th>\n",
       "      <th>Propogated by Tubers</th>\n",
       "      <th>Seeds per Pound</th>\n",
       "      <th>Seed Spread Rate</th>\n",
       "      <th>Seedling Vigor</th>\n",
       "      <th>Small Grain</th>\n",
       "      <th>Vegetative Spread Rate</th>\n",
       "    </tr>\n",
       "  </thead>\n",
       "  <tbody>\n",
       "    <tr>\n",
       "      <th>0</th>\n",
       "      <td>ABELI</td>\n",
       "      <td>NaN</td>\n",
       "      <td>Abelia</td>\n",
       "      <td>abelia</td>\n",
       "      <td>Dicot</td>\n",
       "      <td>NaN</td>\n",
       "      <td>NaN</td>\n",
       "      <td>L48(I)</td>\n",
       "      <td>NaN</td>\n",
       "      <td>NaN</td>\n",
       "      <td>...</td>\n",
       "      <td>NaN</td>\n",
       "      <td>NaN</td>\n",
       "      <td>NaN</td>\n",
       "      <td>NaN</td>\n",
       "      <td>NaN</td>\n",
       "      <td>NaN</td>\n",
       "      <td>NaN</td>\n",
       "      <td>NaN</td>\n",
       "      <td>NaN</td>\n",
       "      <td>NaN</td>\n",
       "    </tr>\n",
       "    <tr>\n",
       "      <th>1</th>\n",
       "      <td>ABGR4</td>\n",
       "      <td>NaN</td>\n",
       "      <td>Abelia 'd7grandiflora</td>\n",
       "      <td>glossy abelia</td>\n",
       "      <td>Dicot</td>\n",
       "      <td>Perennial</td>\n",
       "      <td>Shrub</td>\n",
       "      <td>L48(I)</td>\n",
       "      <td>NaN</td>\n",
       "      <td>Spring, Summer, Fall</td>\n",
       "      <td>...</td>\n",
       "      <td>Yes</td>\n",
       "      <td>No</td>\n",
       "      <td>No</td>\n",
       "      <td>No</td>\n",
       "      <td>No</td>\n",
       "      <td>NaN</td>\n",
       "      <td>None</td>\n",
       "      <td>NaN</td>\n",
       "      <td>No</td>\n",
       "      <td>None</td>\n",
       "    </tr>\n",
       "    <tr>\n",
       "      <th>2</th>\n",
       "      <td>ABELM</td>\n",
       "      <td>NaN</td>\n",
       "      <td>Abelmoschus</td>\n",
       "      <td>okra</td>\n",
       "      <td>Dicot</td>\n",
       "      <td>NaN</td>\n",
       "      <td>NaN</td>\n",
       "      <td>L48(I)</td>\n",
       "      <td>NaN</td>\n",
       "      <td>NaN</td>\n",
       "      <td>...</td>\n",
       "      <td>NaN</td>\n",
       "      <td>NaN</td>\n",
       "      <td>NaN</td>\n",
       "      <td>NaN</td>\n",
       "      <td>NaN</td>\n",
       "      <td>NaN</td>\n",
       "      <td>NaN</td>\n",
       "      <td>NaN</td>\n",
       "      <td>NaN</td>\n",
       "      <td>NaN</td>\n",
       "    </tr>\n",
       "    <tr>\n",
       "      <th>3</th>\n",
       "      <td>ABES</td>\n",
       "      <td>NaN</td>\n",
       "      <td>Abelmoschus esculentus</td>\n",
       "      <td>okra</td>\n",
       "      <td>Dicot</td>\n",
       "      <td>Annual, Perennial</td>\n",
       "      <td>Subshrub, Forb/herb</td>\n",
       "      <td>L48(I)PR(I)VI(I)</td>\n",
       "      <td>NaN</td>\n",
       "      <td>NaN</td>\n",
       "      <td>...</td>\n",
       "      <td>NaN</td>\n",
       "      <td>NaN</td>\n",
       "      <td>NaN</td>\n",
       "      <td>NaN</td>\n",
       "      <td>NaN</td>\n",
       "      <td>NaN</td>\n",
       "      <td>NaN</td>\n",
       "      <td>NaN</td>\n",
       "      <td>NaN</td>\n",
       "      <td>NaN</td>\n",
       "    </tr>\n",
       "    <tr>\n",
       "      <th>4</th>\n",
       "      <td>ABIES</td>\n",
       "      <td>NaN</td>\n",
       "      <td>Abies</td>\n",
       "      <td>fir</td>\n",
       "      <td>Gymnosperm</td>\n",
       "      <td>NaN</td>\n",
       "      <td>NaN</td>\n",
       "      <td>L48(I,N)CAN(N)SPM(N)</td>\n",
       "      <td>NaN</td>\n",
       "      <td>NaN</td>\n",
       "      <td>...</td>\n",
       "      <td>NaN</td>\n",
       "      <td>NaN</td>\n",
       "      <td>NaN</td>\n",
       "      <td>NaN</td>\n",
       "      <td>NaN</td>\n",
       "      <td>NaN</td>\n",
       "      <td>NaN</td>\n",
       "      <td>NaN</td>\n",
       "      <td>NaN</td>\n",
       "      <td>NaN</td>\n",
       "    </tr>\n",
       "  </tbody>\n",
       "</table>\n",
       "<p>5 rows × 78 columns</p>\n",
       "</div>"
      ],
      "text/plain": [
       "  outl0strokewidth0 strokec2 \"Accepted Symbol\" Synonym Symbol  \\\n",
       "0                                        ABELI            NaN   \n",
       "1                                        ABGR4            NaN   \n",
       "2                                        ABELM            NaN   \n",
       "3                                         ABES            NaN   \n",
       "4                                        ABIES            NaN   \n",
       "\n",
       "          Scientific Name    Common Name    Category           Duration  \\\n",
       "0                  Abelia         abelia       Dicot                NaN   \n",
       "1   Abelia 'd7grandiflora  glossy abelia       Dicot          Perennial   \n",
       "2             Abelmoschus           okra       Dicot                NaN   \n",
       "3  Abelmoschus esculentus           okra       Dicot  Annual, Perennial   \n",
       "4                   Abies            fir  Gymnosperm                NaN   \n",
       "\n",
       "          Growth Habit         Native Status State Noxious Status  \\\n",
       "0                  NaN                L48(I)                  NaN   \n",
       "1                Shrub                L48(I)                  NaN   \n",
       "2                  NaN                L48(I)                  NaN   \n",
       "3  Subshrub, Forb/herb      L48(I)PR(I)VI(I)                  NaN   \n",
       "4                  NaN  L48(I,N)CAN(N)SPM(N)                  NaN   \n",
       "\n",
       "   Active Growth Period  ... Propogated by Cuttings Propogated by Seed  \\\n",
       "0                   NaN  ...                    NaN                NaN   \n",
       "1  Spring, Summer, Fall  ...                    Yes                 No   \n",
       "2                   NaN  ...                    NaN                NaN   \n",
       "3                   NaN  ...                    NaN                NaN   \n",
       "4                   NaN  ...                    NaN                NaN   \n",
       "\n",
       "  Propogated by Sod Propogated by Sprigs Propogated by Tubers Seeds per Pound  \\\n",
       "0               NaN                  NaN                  NaN             NaN   \n",
       "1                No                   No                   No             NaN   \n",
       "2               NaN                  NaN                  NaN             NaN   \n",
       "3               NaN                  NaN                  NaN             NaN   \n",
       "4               NaN                  NaN                  NaN             NaN   \n",
       "\n",
       "  Seed Spread Rate Seedling Vigor Small Grain Vegetative Spread Rate  \n",
       "0              NaN            NaN         NaN                    NaN  \n",
       "1             None            NaN          No                   None  \n",
       "2              NaN            NaN         NaN                    NaN  \n",
       "3              NaN            NaN         NaN                    NaN  \n",
       "4              NaN            NaN         NaN                    NaN  \n",
       "\n",
       "[5 rows x 78 columns]"
      ]
     },
     "execution_count": 2,
     "metadata": {},
     "output_type": "execute_result"
    }
   ],
   "source": [
    "# Import data. Manually removed backslash symbols while troubleshooting data import (write function?)\n",
    "\n",
    "plant_data = pd.read_csv(\"plants.csv\", skiprows=9, low_memory=False)\n",
    "plant_data.head()"
   ]
  },
  {
   "cell_type": "code",
   "execution_count": 3,
   "metadata": {},
   "outputs": [
    {
     "name": "stdout",
     "output_type": "stream",
     "text": [
      "<class 'pandas.core.frame.DataFrame'>\n",
      "RangeIndex: 38186 entries, 0 to 38185\n",
      "Data columns (total 78 columns):\n",
      "outl0strokewidth0 strokec2 \"Accepted Symbol\"    38186 non-null object\n",
      "Synonym Symbol                                  66 non-null object\n",
      "Scientific Name                                 38185 non-null object\n",
      "Common Name                                     36115 non-null object\n",
      "Category                                        38046 non-null object\n",
      "Duration                                        27808 non-null object\n",
      "Growth Habit                                    34269 non-null object\n",
      "Native Status                                   38093 non-null object\n",
      "State Noxious Status                            461 non-null object\n",
      "Active Growth Period                            2027 non-null object\n",
      "After Harvest Regrowth Rate                     1039 non-null object\n",
      "Bloat                                           2063 non-null object\n",
      "C:N Ratio                                       1840 non-null object\n",
      "Coppice Potential                               2063 non-null object\n",
      "Fall Conspicuous                                2063 non-null object\n",
      "Fire Resistance                                 2063 non-null object\n",
      "Flower Color                                    1997 non-null object\n",
      "Flower Conspicuous                              2063 non-null object\n",
      "Foliage Color                                   2051 non-null object\n",
      "Foliage Porosity Summer                         2020 non-null object\n",
      "Foliage Porosity Winter                         2009 non-null object\n",
      "Foliage Texture                                 2046 non-null object\n",
      "Fruit Color                                     1962 non-null object\n",
      "Fruit Conspicuous                               2063 non-null object\n",
      "Growth Form                                     2037 non-null object\n",
      "Growth Rate                                     2025 non-null object\n",
      "Height at Base Age, Maximum (feet)              812 non-null float64\n",
      "Height, Mature (feet)                           2041 non-null float64\n",
      "Known Allelopath                                2063 non-null object\n",
      "Leaf Retention                                  2063 non-null object\n",
      "Lifespan                                        1904 non-null object\n",
      "Low Growing Grass                               2063 non-null object\n",
      "Nitrogen Fixation                               2063 non-null object\n",
      "Resprout Ability                                2063 non-null object\n",
      "Shape and Orientation                           2043 non-null object\n",
      "Toxicity                                        2025 non-null object\n",
      "Adapted to Coarse Textured Soils                2063 non-null object\n",
      "Adapted to Medium Textured Soils                2063 non-null object\n",
      "Adapted to Fine Textured Soils                  2063 non-null object\n",
      "Anaerobic Tolerance                             2046 non-null object\n",
      "CaCO<SUB>3</SUB> Tolerance                      1997 non-null object\n",
      "Cold Stratification Required                    2063 non-null object\n",
      "Drought Tolerance                               2050 non-null object\n",
      "Fertility Requirement                           2028 non-null object\n",
      "Fire Tolerance                                  1976 non-null object\n",
      "Frost Free Days, Minimum                        2057 non-null float64\n",
      "Hedge Tolerance                                 2026 non-null object\n",
      "Moisture Use                                    1971 non-null object\n",
      "pH (Minimum)                                    2051 non-null float64\n",
      "pH (Maximum)                                    2051 non-null float64\n",
      "Planting Density per Acre, Minimum              1544 non-null float64\n",
      "Planting Density per Acre, Maximum              1543 non-null float64\n",
      "Precipitation (Minimum)                         2031 non-null float64\n",
      "Precipitation (Maximum)                         2031 non-null float64\n",
      "Root Depth, Minimum (inches)                    2047 non-null float64\n",
      "Salinity Tolerance                              2032 non-null object\n",
      "Shade Tolerance                                 2041 non-null object\n",
      "Temperature, Minimum ('b0F)                     2058 non-null float64\n",
      "Bloom Period                                    2025 non-null object\n",
      "Commercial Availability                         1987 non-null object\n",
      "Fruit/Seed Abundance                            1935 non-null object\n",
      "Fruit/Seed Period Begin                         1981 non-null object\n",
      "Fruit/Seed Period End                           1979 non-null object\n",
      "Fruit/Seed Persistence                          2063 non-null object\n",
      "Propogated by Bare Root                         2063 non-null object\n",
      "Propogated by Bulbs                             2063 non-null object\n",
      "Propogated by Container                         2063 non-null object\n",
      "Propogated by Corms                             2063 non-null object\n",
      "Propogated by Cuttings                          2063 non-null object\n",
      "Propogated by Seed                              2063 non-null object\n",
      "Propogated by Sod                               2063 non-null object\n",
      "Propogated by Sprigs                            2063 non-null object\n",
      "Propogated by Tubers                            2063 non-null object\n",
      "Seeds per Pound                                 1578 non-null float64\n",
      "Seed Spread Rate                                1991 non-null object\n",
      "Seedling Vigor                                  1920 non-null object\n",
      "Small Grain                                     2063 non-null object\n",
      "Vegetative Spread Rate                          1964 non-null object\n",
      "dtypes: float64(12), object(66)\n",
      "memory usage: 22.7+ MB\n"
     ]
    }
   ],
   "source": [
    "plant_data.info()"
   ]
  },
  {
   "cell_type": "markdown",
   "metadata": {},
   "source": [
    "Column information found here https://plants.usda.gov/charinfo.html."
   ]
  },
  {
   "cell_type": "markdown",
   "metadata": {},
   "source": [
    "## Clean Data"
   ]
  },
  {
   "cell_type": "markdown",
   "metadata": {},
   "source": [
    "Many columns have the same 2,063 entries, subset to 2,063 entries for classification model."
   ]
  },
  {
   "cell_type": "code",
   "execution_count": 4,
   "metadata": {},
   "outputs": [],
   "source": [
    "plant_data.dropna(subset=['Bloat'], inplace=True) # Bloat is first column with 2,063 entries\n",
    "plant_data.reset_index(drop=True, inplace=True) # Reset index"
   ]
  },
  {
   "cell_type": "markdown",
   "metadata": {},
   "source": [
    "State Noxious Status column contains target data. Add column where 1 is noxious and 0 is not."
   ]
  },
  {
   "cell_type": "code",
   "execution_count": 5,
   "metadata": {},
   "outputs": [],
   "source": [
    "plant_data['invasive'] = plant_data['State Noxious Status'].notnull().astype('int')"
   ]
  },
  {
   "cell_type": "markdown",
   "metadata": {},
   "source": [
    "For numeric features, include the following columns."
   ]
  },
  {
   "cell_type": "code",
   "execution_count": 6,
   "metadata": {},
   "outputs": [],
   "source": [
    "def select_features(dataframe, dtype, exclude_list):\n",
    "    \"\"\"Returns list of columns names to include as features\"\"\"\n",
    "    columns = list(dataframe.select_dtypes(include=dtype).columns.values)\n",
    "    features = [e for e in columns if e not in exclude_list]\n",
    "    return features\n",
    "\n",
    "def common_value(x):\n",
    "    \"\"\"Return most common value\"\"\"\n",
    "    return x.split(',')[0]\n",
    "        "
   ]
  },
  {
   "cell_type": "code",
   "execution_count": 7,
   "metadata": {},
   "outputs": [
    {
     "data": {
      "text/plain": [
       "Forb/herb                           554\n",
       "Graminoid                           490\n",
       "Tree                                227\n",
       "Tree, Shrub                         212\n",
       "Shrub                               173\n",
       "Subshrub, Forb/herb                  76\n",
       "Subshrub, Shrub                      58\n",
       "Shrub, Tree                          50\n",
       "Subshrub                             33\n",
       "Vine, Forb/herb                      20\n",
       "Vine                                 20\n",
       "Forb/herb, Subshrub                  18\n",
       "Shrub, Subshrub                      16\n",
       "Forb/herb, Vine                      10\n",
       "Subshrub, Shrub, Forb/herb            9\n",
       "Shrub, Vine                           5\n",
       "Vine, Subshrub                        4\n",
       "Subshrub, Shrub, Graminoid            3\n",
       "Tree, Shrub, Vine                     3\n",
       "Subshrub, Forb/herb, Shrub            2\n",
       "Shrub, Forb/herb, Subshrub            2\n",
       "Tree, Subshrub, Shrub                 2\n",
       "Graminoid, Shrub, Vine                1\n",
       "Subshrub, Shrub, Forb/herb, Tree      1\n",
       "Shrub, Subshrub, Forb/herb            1\n",
       "Forb/herb, Subshrub, Shrub            1\n",
       "Subshrub, Shrub, Tree                 1\n",
       "Vine, Shrub                           1\n",
       "Subshrub, Vine                        1\n",
       "Tree, Subshrub, Graminoid             1\n",
       "Name: Growth Habit, dtype: int64"
      ]
     },
     "execution_count": 7,
     "metadata": {},
     "output_type": "execute_result"
    }
   ],
   "source": [
    "gh = plant_data['Growth Habit']\n",
    "gh.value_counts()"
   ]
  },
  {
   "cell_type": "code",
   "execution_count": 8,
   "metadata": {},
   "outputs": [],
   "source": [
    "def partition_stings(x):\n",
    "    head, sep, tail = x.partition(',')\n",
    "    return head"
   ]
  },
  {
   "cell_type": "code",
   "execution_count": 11,
   "metadata": {},
   "outputs": [],
   "source": [
    "cat_df = plant_data[categorical_features]"
   ]
  },
  {
   "cell_type": "code",
   "execution_count": 12,
   "metadata": {},
   "outputs": [],
   "source": [
    "categorical_transformer = Pipeline(steps=[\n",
    "    ('imputer', SimpleImputer(missing_values=np.nan, strategy='most_frequent')),\n",
    "    ('comval', FunctionTransformer(common_value)),\n",
    "    ('onehot', OneHotEncoder(categories='auto'))\n",
    "])"
   ]
  },
  {
   "cell_type": "code",
   "execution_count": 20,
   "metadata": {},
   "outputs": [
    {
     "data": {
      "text/plain": [
       "0      0\n",
       "1      0\n",
       "2      0\n",
       "3      0\n",
       "4      0\n",
       "5      0\n",
       "6      0\n",
       "7      0\n",
       "8      0\n",
       "9      0\n",
       "10     0\n",
       "11     0\n",
       "12     0\n",
       "13     0\n",
       "14     0\n",
       "15     0\n",
       "16     0\n",
       "17     0\n",
       "18     0\n",
       "19     0\n",
       "20     0\n",
       "21     0\n",
       "22     0\n",
       "23     0\n",
       "24     0\n",
       "25     0\n",
       "26     0\n",
       "27     0\n",
       "28     0\n",
       "29     0\n",
       "      ..\n",
       "215    0\n",
       "216    0\n",
       "217    0\n",
       "218    0\n",
       "219    0\n",
       "220    0\n",
       "221    0\n",
       "222    0\n",
       "223    0\n",
       "224    0\n",
       "225    0\n",
       "226    0\n",
       "227    0\n",
       "228    0\n",
       "229    0\n",
       "230    0\n",
       "231    0\n",
       "232    0\n",
       "233    0\n",
       "234    0\n",
       "235    0\n",
       "236    0\n",
       "237    0\n",
       "238    0\n",
       "239    0\n",
       "240    0\n",
       "241    0\n",
       "242    0\n",
       "243    0\n",
       "244    0\n",
       "Length: 245, dtype: int64"
      ]
     },
     "execution_count": 20,
     "metadata": {},
     "output_type": "execute_result"
    }
   ],
   "source": [
    "pd.DataFrame(categorical_transformer.fit_transform(cat_df).toarray())"
   ]
  },
  {
   "cell_type": "code",
   "execution_count": 16,
   "metadata": {},
   "outputs": [],
   "source": [
    "numeric_exclude = ['Height at Base Age, Maximum (feet)','Planting Density per Acre, Minimum','Planting Density per Acre, Maximum']\n",
    "numeric_features = select_features(plant_data, 'float64', numeric_exclude)\n",
    "\n",
    "numeric_transformer = Pipeline(steps=[\n",
    "    ('imputer', SimpleImputer(missing_values=np.nan, strategy='median')),\n",
    "    ('scaler',  StandardScaler())])\n",
    "\n",
    "categorical_exclude = ['outl0strokewidth0 strokec2 \"Accepted Symbol\"', 'Synonym Symbol', 'Scientific Name', 'Common Name',\n",
    "                   'Native Status', 'State Noxious Status', 'After Harvest Regrowth Rate', 'Commercial Availability']\n",
    "categorical_features = select_features(plant_data, 'object', categorical_exclude)\n",
    "categorical_transformer = Pipeline(steps=[\n",
    "    ('imputer', SimpleImputer(missing_values=np.nan, strategy='most_frequent')),\n",
    "    ('onehot', OneHotEncoder(categories='auto'))\n",
    "])\n",
    "\n",
    "preprocessor = ColumnTransformer(transformers=[('num', numeric_transformer, numeric_features),\n",
    "                                               ('cat', categorical_transformer, categorical_features)])\n"
   ]
  },
  {
   "cell_type": "code",
   "execution_count": 17,
   "metadata": {},
   "outputs": [],
   "source": [
    "X = plant_data.drop('invasive', axis=1)\n",
    "y = plant_data['invasive']\n",
    "\n",
    "X_train, X_test, y_train, y_test = train_test_split(X, y, test_size=0.2)"
   ]
  },
  {
   "cell_type": "code",
   "execution_count": 19,
   "metadata": {},
   "outputs": [],
   "source": [
    "xtrain = preprocessor.fit_transform(X_train)"
   ]
  },
  {
   "cell_type": "code",
   "execution_count": null,
   "metadata": {},
   "outputs": [],
   "source": [
    "xtest = preprocessor.transform(X_test)"
   ]
  },
  {
   "cell_type": "code",
   "execution_count": null,
   "metadata": {},
   "outputs": [],
   "source": [
    "# from https://github.com/scikit-learn/scikit-learn/issues/12525\n",
    "def get_column_names_from_ColumnTransformer(column_transformer):    \n",
    "    col_name = []\n",
    "    for transformer_in_columns in column_transformer.transformers_[:-1]:#the last transformer is ColumnTransformer's 'remainder'\n",
    "        raw_col_name = transformer_in_columns[2]\n",
    "        if isinstance(transformer_in_columns[1],Pipeline): \n",
    "            transformer = transformer_in_columns[1].steps[-1][1]\n",
    "        else:\n",
    "            transformer = transformer_in_columns[1]\n",
    "        try:\n",
    "            names = transformer.get_feature_names()\n",
    "        except AttributeError: # if no 'get_feature_names' function, use raw column name\n",
    "            names = raw_col_name\n",
    "        if isinstance(names,np.ndarray): # eg.\n",
    "            col_name += names.tolist()\n",
    "        elif isinstance(names,list):\n",
    "            col_name += names    \n",
    "        elif isinstance(names,str):\n",
    "            col_name.append(names)\n",
    "    return col_name"
   ]
  },
  {
   "cell_type": "code",
   "execution_count": null,
   "metadata": {},
   "outputs": [],
   "source": [
    "column_names = get_column_names_from_ColumnTransformer(preprocessor)\n",
    "len(column_names)"
   ]
  },
  {
   "cell_type": "code",
   "execution_count": null,
   "metadata": {},
   "outputs": [],
   "source": [
    "xtest = preprocessor.transform(X_test)"
   ]
  },
  {
   "cell_type": "code",
   "execution_count": null,
   "metadata": {},
   "outputs": [],
   "source": [
    "Xtrain = pd.DataFrame(x.toarray(), columns=column_names)"
   ]
  },
  {
   "cell_type": "code",
   "execution_count": null,
   "metadata": {},
   "outputs": [],
   "source": [
    "import matplotlib.pyplot as plt\n",
    "#Fitting the PCA algorithm with our Data\n",
    "pca = PCA().fit(Xtrain)\n",
    "#Plotting the Cumulative Summation of the Explained Variance\n",
    "plt.figure()\n",
    "plt.plot(np.cumsum(pca.explained_variance_ratio_))\n",
    "plt.xlabel('Number of Components')\n",
    "plt.ylabel('Variance (%)') #for each component\n",
    "plt.title('Pulsar Dataset Explained Variance')\n",
    "plt.show()"
   ]
  },
  {
   "cell_type": "code",
   "execution_count": null,
   "metadata": {},
   "outputs": [],
   "source": [
    "from imblearn.over_sampling import SMOTE"
   ]
  },
  {
   "cell_type": "code",
   "execution_count": null,
   "metadata": {},
   "outputs": [],
   "source": [
    "pca = PCA(n_components=100)\n",
    "X_train_pca = pca.fit_transform(Xtrain)\n",
    "pca_df = pd.DataFrame(data=X_train_pca)\n",
    "\n",
    "sm = SMOTE(random_state=2)\n",
    "X_res, y_res = sm.fit_resample(pca_df, y_train)"
   ]
  },
  {
   "cell_type": "code",
   "execution_count": null,
   "metadata": {},
   "outputs": [],
   "source": [
    "X_res.shape, y_res.shape"
   ]
  },
  {
   "cell_type": "code",
   "execution_count": null,
   "metadata": {},
   "outputs": [],
   "source": [
    "from sklearn.ensemble import RandomForestClassifier\n",
    "\n",
    "rfc = RandomForestClassifier(n_estimators=100, max_depth=10, random_state=2)\n",
    "rfc.fit(X_res, y_res)"
   ]
  },
  {
   "cell_type": "code",
   "execution_count": null,
   "metadata": {},
   "outputs": [],
   "source": [
    "train_pred = rfc.predict(X_res)"
   ]
  },
  {
   "cell_type": "code",
   "execution_count": null,
   "metadata": {},
   "outputs": [],
   "source": [
    "y_res.shape"
   ]
  },
  {
   "cell_type": "code",
   "execution_count": null,
   "metadata": {},
   "outputs": [],
   "source": [
    "train_pred.shape"
   ]
  },
  {
   "cell_type": "code",
   "execution_count": null,
   "metadata": {},
   "outputs": [],
   "source": [
    "rfc.score(X_res, y_res)"
   ]
  },
  {
   "cell_type": "code",
   "execution_count": null,
   "metadata": {},
   "outputs": [],
   "source": [
    "pca.transform()"
   ]
  }
 ],
 "metadata": {
  "kernelspec": {
   "display_name": "learn-env",
   "language": "python",
   "name": "learn-env"
  },
  "language_info": {
   "codemirror_mode": {
    "name": "ipython",
    "version": 3
   },
   "file_extension": ".py",
   "mimetype": "text/x-python",
   "name": "python",
   "nbconvert_exporter": "python",
   "pygments_lexer": "ipython3",
   "version": "3.6.6"
  }
 },
 "nbformat": 4,
 "nbformat_minor": 2
}
