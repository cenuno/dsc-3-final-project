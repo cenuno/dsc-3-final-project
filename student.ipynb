{
 "cells": [
  {
   "cell_type": "markdown",
   "metadata": {},
   "source": [
    "## Classifier for Noxious Plant Species in North America\n",
    "\n",
    "* Student names: Natasha Kacoroski, Jacob Crabb\n",
    "* Student pace: full time\n",
    "* Scheduled project review date/time: \n",
    "* Instructor name: Miles Erickson, Greg Damico\n"
   ]
  },
  {
   "cell_type": "markdown",
   "metadata": {},
   "source": [
    "Helpful resource to understand columns https://plants.usda.gov/charinfo.html"
   ]
  },
  {
   "cell_type": "code",
   "execution_count": 1,
   "metadata": {},
   "outputs": [],
   "source": [
    "# Import necessary libraries\n",
    "\n",
    "import pandas as pd"
   ]
  },
  {
   "cell_type": "code",
   "execution_count": 2,
   "metadata": {},
   "outputs": [
    {
     "data": {
      "text/html": [
       "<div>\n",
       "<style scoped>\n",
       "    .dataframe tbody tr th:only-of-type {\n",
       "        vertical-align: middle;\n",
       "    }\n",
       "\n",
       "    .dataframe tbody tr th {\n",
       "        vertical-align: top;\n",
       "    }\n",
       "\n",
       "    .dataframe thead th {\n",
       "        text-align: right;\n",
       "    }\n",
       "</style>\n",
       "<table border=\"1\" class=\"dataframe\">\n",
       "  <thead>\n",
       "    <tr style=\"text-align: right;\">\n",
       "      <th></th>\n",
       "      <th>outl0strokewidth0 strokec2 \"Accepted Symbol\"</th>\n",
       "      <th>Synonym Symbol</th>\n",
       "      <th>Scientific Name</th>\n",
       "      <th>Common Name</th>\n",
       "      <th>Category</th>\n",
       "      <th>Duration</th>\n",
       "      <th>Growth Habit</th>\n",
       "      <th>Native Status</th>\n",
       "      <th>State Noxious Status</th>\n",
       "      <th>Active Growth Period</th>\n",
       "      <th>...</th>\n",
       "      <th>Propogated by Cuttings</th>\n",
       "      <th>Propogated by Seed</th>\n",
       "      <th>Propogated by Sod</th>\n",
       "      <th>Propogated by Sprigs</th>\n",
       "      <th>Propogated by Tubers</th>\n",
       "      <th>Seeds per Pound</th>\n",
       "      <th>Seed Spread Rate</th>\n",
       "      <th>Seedling Vigor</th>\n",
       "      <th>Small Grain</th>\n",
       "      <th>Vegetative Spread Rate</th>\n",
       "    </tr>\n",
       "  </thead>\n",
       "  <tbody>\n",
       "    <tr>\n",
       "      <th>0</th>\n",
       "      <td>ABELI</td>\n",
       "      <td>NaN</td>\n",
       "      <td>Abelia</td>\n",
       "      <td>abelia</td>\n",
       "      <td>Dicot</td>\n",
       "      <td>NaN</td>\n",
       "      <td>NaN</td>\n",
       "      <td>L48(I)</td>\n",
       "      <td>NaN</td>\n",
       "      <td>NaN</td>\n",
       "      <td>...</td>\n",
       "      <td>NaN</td>\n",
       "      <td>NaN</td>\n",
       "      <td>NaN</td>\n",
       "      <td>NaN</td>\n",
       "      <td>NaN</td>\n",
       "      <td>NaN</td>\n",
       "      <td>NaN</td>\n",
       "      <td>NaN</td>\n",
       "      <td>NaN</td>\n",
       "      <td>NaN</td>\n",
       "    </tr>\n",
       "    <tr>\n",
       "      <th>1</th>\n",
       "      <td>ABGR4</td>\n",
       "      <td>NaN</td>\n",
       "      <td>Abelia 'd7grandiflora</td>\n",
       "      <td>glossy abelia</td>\n",
       "      <td>Dicot</td>\n",
       "      <td>Perennial</td>\n",
       "      <td>Shrub</td>\n",
       "      <td>L48(I)</td>\n",
       "      <td>NaN</td>\n",
       "      <td>Spring, Summer, Fall</td>\n",
       "      <td>...</td>\n",
       "      <td>Yes</td>\n",
       "      <td>No</td>\n",
       "      <td>No</td>\n",
       "      <td>No</td>\n",
       "      <td>No</td>\n",
       "      <td>NaN</td>\n",
       "      <td>None</td>\n",
       "      <td>NaN</td>\n",
       "      <td>No</td>\n",
       "      <td>None</td>\n",
       "    </tr>\n",
       "    <tr>\n",
       "      <th>2</th>\n",
       "      <td>ABELM</td>\n",
       "      <td>NaN</td>\n",
       "      <td>Abelmoschus</td>\n",
       "      <td>okra</td>\n",
       "      <td>Dicot</td>\n",
       "      <td>NaN</td>\n",
       "      <td>NaN</td>\n",
       "      <td>L48(I)</td>\n",
       "      <td>NaN</td>\n",
       "      <td>NaN</td>\n",
       "      <td>...</td>\n",
       "      <td>NaN</td>\n",
       "      <td>NaN</td>\n",
       "      <td>NaN</td>\n",
       "      <td>NaN</td>\n",
       "      <td>NaN</td>\n",
       "      <td>NaN</td>\n",
       "      <td>NaN</td>\n",
       "      <td>NaN</td>\n",
       "      <td>NaN</td>\n",
       "      <td>NaN</td>\n",
       "    </tr>\n",
       "    <tr>\n",
       "      <th>3</th>\n",
       "      <td>ABES</td>\n",
       "      <td>NaN</td>\n",
       "      <td>Abelmoschus esculentus</td>\n",
       "      <td>okra</td>\n",
       "      <td>Dicot</td>\n",
       "      <td>Annual, Perennial</td>\n",
       "      <td>Subshrub, Forb/herb</td>\n",
       "      <td>L48(I)PR(I)VI(I)</td>\n",
       "      <td>NaN</td>\n",
       "      <td>NaN</td>\n",
       "      <td>...</td>\n",
       "      <td>NaN</td>\n",
       "      <td>NaN</td>\n",
       "      <td>NaN</td>\n",
       "      <td>NaN</td>\n",
       "      <td>NaN</td>\n",
       "      <td>NaN</td>\n",
       "      <td>NaN</td>\n",
       "      <td>NaN</td>\n",
       "      <td>NaN</td>\n",
       "      <td>NaN</td>\n",
       "    </tr>\n",
       "    <tr>\n",
       "      <th>4</th>\n",
       "      <td>ABIES</td>\n",
       "      <td>NaN</td>\n",
       "      <td>Abies</td>\n",
       "      <td>fir</td>\n",
       "      <td>Gymnosperm</td>\n",
       "      <td>NaN</td>\n",
       "      <td>NaN</td>\n",
       "      <td>L48(I,N)CAN(N)SPM(N)</td>\n",
       "      <td>NaN</td>\n",
       "      <td>NaN</td>\n",
       "      <td>...</td>\n",
       "      <td>NaN</td>\n",
       "      <td>NaN</td>\n",
       "      <td>NaN</td>\n",
       "      <td>NaN</td>\n",
       "      <td>NaN</td>\n",
       "      <td>NaN</td>\n",
       "      <td>NaN</td>\n",
       "      <td>NaN</td>\n",
       "      <td>NaN</td>\n",
       "      <td>NaN</td>\n",
       "    </tr>\n",
       "  </tbody>\n",
       "</table>\n",
       "<p>5 rows × 78 columns</p>\n",
       "</div>"
      ],
      "text/plain": [
       "  outl0strokewidth0 strokec2 \"Accepted Symbol\" Synonym Symbol  \\\n",
       "0                                        ABELI            NaN   \n",
       "1                                        ABGR4            NaN   \n",
       "2                                        ABELM            NaN   \n",
       "3                                         ABES            NaN   \n",
       "4                                        ABIES            NaN   \n",
       "\n",
       "          Scientific Name    Common Name    Category           Duration  \\\n",
       "0                  Abelia         abelia       Dicot                NaN   \n",
       "1   Abelia 'd7grandiflora  glossy abelia       Dicot          Perennial   \n",
       "2             Abelmoschus           okra       Dicot                NaN   \n",
       "3  Abelmoschus esculentus           okra       Dicot  Annual, Perennial   \n",
       "4                   Abies            fir  Gymnosperm                NaN   \n",
       "\n",
       "          Growth Habit         Native Status State Noxious Status  \\\n",
       "0                  NaN                L48(I)                  NaN   \n",
       "1                Shrub                L48(I)                  NaN   \n",
       "2                  NaN                L48(I)                  NaN   \n",
       "3  Subshrub, Forb/herb      L48(I)PR(I)VI(I)                  NaN   \n",
       "4                  NaN  L48(I,N)CAN(N)SPM(N)                  NaN   \n",
       "\n",
       "   Active Growth Period  ... Propogated by Cuttings Propogated by Seed  \\\n",
       "0                   NaN  ...                    NaN                NaN   \n",
       "1  Spring, Summer, Fall  ...                    Yes                 No   \n",
       "2                   NaN  ...                    NaN                NaN   \n",
       "3                   NaN  ...                    NaN                NaN   \n",
       "4                   NaN  ...                    NaN                NaN   \n",
       "\n",
       "  Propogated by Sod Propogated by Sprigs Propogated by Tubers Seeds per Pound  \\\n",
       "0               NaN                  NaN                  NaN             NaN   \n",
       "1                No                   No                   No             NaN   \n",
       "2               NaN                  NaN                  NaN             NaN   \n",
       "3               NaN                  NaN                  NaN             NaN   \n",
       "4               NaN                  NaN                  NaN             NaN   \n",
       "\n",
       "  Seed Spread Rate Seedling Vigor Small Grain Vegetative Spread Rate  \n",
       "0              NaN            NaN         NaN                    NaN  \n",
       "1             None            NaN          No                   None  \n",
       "2              NaN            NaN         NaN                    NaN  \n",
       "3              NaN            NaN         NaN                    NaN  \n",
       "4              NaN            NaN         NaN                    NaN  \n",
       "\n",
       "[5 rows x 78 columns]"
      ]
     },
     "execution_count": 2,
     "metadata": {},
     "output_type": "execute_result"
    }
   ],
   "source": [
    "#I had to manually go into the csv file and remove the \\ symbols.\n",
    "#they were messing up the text.\n",
    "plant_data = pd.read_csv(\"plants.csv\", skiprows=9, low_memory=False)\n",
    "plant_data.head()"
   ]
  },
  {
   "cell_type": "code",
   "execution_count": 3,
   "metadata": {},
   "outputs": [
    {
     "name": "stdout",
     "output_type": "stream",
     "text": [
      "<class 'pandas.core.frame.DataFrame'>\n",
      "RangeIndex: 38186 entries, 0 to 38185\n",
      "Data columns (total 78 columns):\n",
      "outl0strokewidth0 strokec2 \"Accepted Symbol\"    38186 non-null object\n",
      "Synonym Symbol                                  66 non-null object\n",
      "Scientific Name                                 38185 non-null object\n",
      "Common Name                                     36115 non-null object\n",
      "Category                                        38046 non-null object\n",
      "Duration                                        27808 non-null object\n",
      "Growth Habit                                    34269 non-null object\n",
      "Native Status                                   38093 non-null object\n",
      "State Noxious Status                            461 non-null object\n",
      "Active Growth Period                            2027 non-null object\n",
      "After Harvest Regrowth Rate                     1039 non-null object\n",
      "Bloat                                           2063 non-null object\n",
      "C:N Ratio                                       1840 non-null object\n",
      "Coppice Potential                               2063 non-null object\n",
      "Fall Conspicuous                                2063 non-null object\n",
      "Fire Resistance                                 2063 non-null object\n",
      "Flower Color                                    1997 non-null object\n",
      "Flower Conspicuous                              2063 non-null object\n",
      "Foliage Color                                   2051 non-null object\n",
      "Foliage Porosity Summer                         2020 non-null object\n",
      "Foliage Porosity Winter                         2009 non-null object\n",
      "Foliage Texture                                 2046 non-null object\n",
      "Fruit Color                                     1962 non-null object\n",
      "Fruit Conspicuous                               2063 non-null object\n",
      "Growth Form                                     2037 non-null object\n",
      "Growth Rate                                     2025 non-null object\n",
      "Height at Base Age, Maximum (feet)              812 non-null float64\n",
      "Height, Mature (feet)                           2041 non-null float64\n",
      "Known Allelopath                                2063 non-null object\n",
      "Leaf Retention                                  2063 non-null object\n",
      "Lifespan                                        1904 non-null object\n",
      "Low Growing Grass                               2063 non-null object\n",
      "Nitrogen Fixation                               2063 non-null object\n",
      "Resprout Ability                                2063 non-null object\n",
      "Shape and Orientation                           2043 non-null object\n",
      "Toxicity                                        2025 non-null object\n",
      "Adapted to Coarse Textured Soils                2063 non-null object\n",
      "Adapted to Medium Textured Soils                2063 non-null object\n",
      "Adapted to Fine Textured Soils                  2063 non-null object\n",
      "Anaerobic Tolerance                             2046 non-null object\n",
      "CaCO<SUB>3</SUB> Tolerance                      1997 non-null object\n",
      "Cold Stratification Required                    2063 non-null object\n",
      "Drought Tolerance                               2050 non-null object\n",
      "Fertility Requirement                           2028 non-null object\n",
      "Fire Tolerance                                  1976 non-null object\n",
      "Frost Free Days, Minimum                        2057 non-null float64\n",
      "Hedge Tolerance                                 2026 non-null object\n",
      "Moisture Use                                    1971 non-null object\n",
      "pH (Minimum)                                    2051 non-null float64\n",
      "pH (Maximum)                                    2051 non-null float64\n",
      "Planting Density per Acre, Minimum              1544 non-null float64\n",
      "Planting Density per Acre, Maximum              1543 non-null float64\n",
      "Precipitation (Minimum)                         2031 non-null float64\n",
      "Precipitation (Maximum)                         2031 non-null float64\n",
      "Root Depth, Minimum (inches)                    2047 non-null float64\n",
      "Salinity Tolerance                              2032 non-null object\n",
      "Shade Tolerance                                 2041 non-null object\n",
      "Temperature, Minimum ('b0F)                     2058 non-null float64\n",
      "Bloom Period                                    2025 non-null object\n",
      "Commercial Availability                         1987 non-null object\n",
      "Fruit/Seed Abundance                            1935 non-null object\n",
      "Fruit/Seed Period Begin                         1981 non-null object\n",
      "Fruit/Seed Period End                           1979 non-null object\n",
      "Fruit/Seed Persistence                          2063 non-null object\n",
      "Propogated by Bare Root                         2063 non-null object\n",
      "Propogated by Bulbs                             2063 non-null object\n",
      "Propogated by Container                         2063 non-null object\n",
      "Propogated by Corms                             2063 non-null object\n",
      "Propogated by Cuttings                          2063 non-null object\n",
      "Propogated by Seed                              2063 non-null object\n",
      "Propogated by Sod                               2063 non-null object\n",
      "Propogated by Sprigs                            2063 non-null object\n",
      "Propogated by Tubers                            2063 non-null object\n",
      "Seeds per Pound                                 1578 non-null float64\n",
      "Seed Spread Rate                                1991 non-null object\n",
      "Seedling Vigor                                  1920 non-null object\n",
      "Small Grain                                     2063 non-null object\n",
      "Vegetative Spread Rate                          1964 non-null object\n",
      "dtypes: float64(12), object(66)\n",
      "memory usage: 22.7+ MB\n"
     ]
    }
   ],
   "source": [
    "plant_data.info()"
   ]
  },
  {
   "cell_type": "code",
   "execution_count": 4,
   "metadata": {},
   "outputs": [
    {
     "data": {
      "text/plain": [
       "None        1137\n",
       "Slow         339\n",
       "Moderate     333\n",
       "Rapid        155\n",
       "Name: Vegetative Spread Rate, dtype: int64"
      ]
     },
     "execution_count": 4,
     "metadata": {},
     "output_type": "execute_result"
    }
   ],
   "source": [
    "plant_data['Vegetative Spread Rate'].value_counts()"
   ]
  },
  {
   "cell_type": "code",
   "execution_count": 5,
   "metadata": {},
   "outputs": [],
   "source": [
    "plant_data.drop(['outl0strokewidth0 strokec2 \"Accepted Symbol\"',\n",
    "                 'Synonym Symbol',\n",
    "                 'Native Status'], \n",
    "                axis=1, \n",
    "                inplace=True)"
   ]
  },
  {
   "cell_type": "code",
   "execution_count": 6,
   "metadata": {},
   "outputs": [
    {
     "data": {
      "text/html": [
       "<div>\n",
       "<style scoped>\n",
       "    .dataframe tbody tr th:only-of-type {\n",
       "        vertical-align: middle;\n",
       "    }\n",
       "\n",
       "    .dataframe tbody tr th {\n",
       "        vertical-align: top;\n",
       "    }\n",
       "\n",
       "    .dataframe thead th {\n",
       "        text-align: right;\n",
       "    }\n",
       "</style>\n",
       "<table border=\"1\" class=\"dataframe\">\n",
       "  <thead>\n",
       "    <tr style=\"text-align: right;\">\n",
       "      <th></th>\n",
       "      <th>Scientific Name</th>\n",
       "      <th>Common Name</th>\n",
       "      <th>Category</th>\n",
       "      <th>Duration</th>\n",
       "      <th>Growth Habit</th>\n",
       "      <th>State Noxious Status</th>\n",
       "      <th>Active Growth Period</th>\n",
       "      <th>After Harvest Regrowth Rate</th>\n",
       "      <th>Bloat</th>\n",
       "      <th>C:N Ratio</th>\n",
       "      <th>...</th>\n",
       "      <th>Propogated by Cuttings</th>\n",
       "      <th>Propogated by Seed</th>\n",
       "      <th>Propogated by Sod</th>\n",
       "      <th>Propogated by Sprigs</th>\n",
       "      <th>Propogated by Tubers</th>\n",
       "      <th>Seeds per Pound</th>\n",
       "      <th>Seed Spread Rate</th>\n",
       "      <th>Seedling Vigor</th>\n",
       "      <th>Small Grain</th>\n",
       "      <th>Vegetative Spread Rate</th>\n",
       "    </tr>\n",
       "  </thead>\n",
       "  <tbody>\n",
       "    <tr>\n",
       "      <th>0</th>\n",
       "      <td>Abelia</td>\n",
       "      <td>abelia</td>\n",
       "      <td>Dicot</td>\n",
       "      <td>NaN</td>\n",
       "      <td>NaN</td>\n",
       "      <td>NaN</td>\n",
       "      <td>NaN</td>\n",
       "      <td>NaN</td>\n",
       "      <td>NaN</td>\n",
       "      <td>NaN</td>\n",
       "      <td>...</td>\n",
       "      <td>NaN</td>\n",
       "      <td>NaN</td>\n",
       "      <td>NaN</td>\n",
       "      <td>NaN</td>\n",
       "      <td>NaN</td>\n",
       "      <td>NaN</td>\n",
       "      <td>NaN</td>\n",
       "      <td>NaN</td>\n",
       "      <td>NaN</td>\n",
       "      <td>NaN</td>\n",
       "    </tr>\n",
       "    <tr>\n",
       "      <th>1</th>\n",
       "      <td>Abelia 'd7grandiflora</td>\n",
       "      <td>glossy abelia</td>\n",
       "      <td>Dicot</td>\n",
       "      <td>Perennial</td>\n",
       "      <td>Shrub</td>\n",
       "      <td>NaN</td>\n",
       "      <td>Spring, Summer, Fall</td>\n",
       "      <td>NaN</td>\n",
       "      <td>None</td>\n",
       "      <td>High</td>\n",
       "      <td>...</td>\n",
       "      <td>Yes</td>\n",
       "      <td>No</td>\n",
       "      <td>No</td>\n",
       "      <td>No</td>\n",
       "      <td>No</td>\n",
       "      <td>NaN</td>\n",
       "      <td>None</td>\n",
       "      <td>NaN</td>\n",
       "      <td>No</td>\n",
       "      <td>None</td>\n",
       "    </tr>\n",
       "    <tr>\n",
       "      <th>2</th>\n",
       "      <td>Abelmoschus</td>\n",
       "      <td>okra</td>\n",
       "      <td>Dicot</td>\n",
       "      <td>NaN</td>\n",
       "      <td>NaN</td>\n",
       "      <td>NaN</td>\n",
       "      <td>NaN</td>\n",
       "      <td>NaN</td>\n",
       "      <td>NaN</td>\n",
       "      <td>NaN</td>\n",
       "      <td>...</td>\n",
       "      <td>NaN</td>\n",
       "      <td>NaN</td>\n",
       "      <td>NaN</td>\n",
       "      <td>NaN</td>\n",
       "      <td>NaN</td>\n",
       "      <td>NaN</td>\n",
       "      <td>NaN</td>\n",
       "      <td>NaN</td>\n",
       "      <td>NaN</td>\n",
       "      <td>NaN</td>\n",
       "    </tr>\n",
       "    <tr>\n",
       "      <th>3</th>\n",
       "      <td>Abelmoschus esculentus</td>\n",
       "      <td>okra</td>\n",
       "      <td>Dicot</td>\n",
       "      <td>Annual, Perennial</td>\n",
       "      <td>Subshrub, Forb/herb</td>\n",
       "      <td>NaN</td>\n",
       "      <td>NaN</td>\n",
       "      <td>NaN</td>\n",
       "      <td>NaN</td>\n",
       "      <td>NaN</td>\n",
       "      <td>...</td>\n",
       "      <td>NaN</td>\n",
       "      <td>NaN</td>\n",
       "      <td>NaN</td>\n",
       "      <td>NaN</td>\n",
       "      <td>NaN</td>\n",
       "      <td>NaN</td>\n",
       "      <td>NaN</td>\n",
       "      <td>NaN</td>\n",
       "      <td>NaN</td>\n",
       "      <td>NaN</td>\n",
       "    </tr>\n",
       "    <tr>\n",
       "      <th>4</th>\n",
       "      <td>Abies</td>\n",
       "      <td>fir</td>\n",
       "      <td>Gymnosperm</td>\n",
       "      <td>NaN</td>\n",
       "      <td>NaN</td>\n",
       "      <td>NaN</td>\n",
       "      <td>NaN</td>\n",
       "      <td>NaN</td>\n",
       "      <td>NaN</td>\n",
       "      <td>NaN</td>\n",
       "      <td>...</td>\n",
       "      <td>NaN</td>\n",
       "      <td>NaN</td>\n",
       "      <td>NaN</td>\n",
       "      <td>NaN</td>\n",
       "      <td>NaN</td>\n",
       "      <td>NaN</td>\n",
       "      <td>NaN</td>\n",
       "      <td>NaN</td>\n",
       "      <td>NaN</td>\n",
       "      <td>NaN</td>\n",
       "    </tr>\n",
       "  </tbody>\n",
       "</table>\n",
       "<p>5 rows × 75 columns</p>\n",
       "</div>"
      ],
      "text/plain": [
       "          Scientific Name    Common Name    Category           Duration  \\\n",
       "0                  Abelia         abelia       Dicot                NaN   \n",
       "1   Abelia 'd7grandiflora  glossy abelia       Dicot          Perennial   \n",
       "2             Abelmoschus           okra       Dicot                NaN   \n",
       "3  Abelmoschus esculentus           okra       Dicot  Annual, Perennial   \n",
       "4                   Abies            fir  Gymnosperm                NaN   \n",
       "\n",
       "          Growth Habit State Noxious Status  Active Growth Period  \\\n",
       "0                  NaN                  NaN                   NaN   \n",
       "1                Shrub                  NaN  Spring, Summer, Fall   \n",
       "2                  NaN                  NaN                   NaN   \n",
       "3  Subshrub, Forb/herb                  NaN                   NaN   \n",
       "4                  NaN                  NaN                   NaN   \n",
       "\n",
       "  After Harvest Regrowth Rate Bloat C:N Ratio  ... Propogated by Cuttings  \\\n",
       "0                         NaN   NaN       NaN  ...                    NaN   \n",
       "1                         NaN  None      High  ...                    Yes   \n",
       "2                         NaN   NaN       NaN  ...                    NaN   \n",
       "3                         NaN   NaN       NaN  ...                    NaN   \n",
       "4                         NaN   NaN       NaN  ...                    NaN   \n",
       "\n",
       "  Propogated by Seed Propogated by Sod Propogated by Sprigs  \\\n",
       "0                NaN               NaN                  NaN   \n",
       "1                 No                No                   No   \n",
       "2                NaN               NaN                  NaN   \n",
       "3                NaN               NaN                  NaN   \n",
       "4                NaN               NaN                  NaN   \n",
       "\n",
       "  Propogated by Tubers Seeds per Pound Seed Spread Rate Seedling Vigor  \\\n",
       "0                  NaN             NaN              NaN            NaN   \n",
       "1                   No             NaN             None            NaN   \n",
       "2                  NaN             NaN              NaN            NaN   \n",
       "3                  NaN             NaN              NaN            NaN   \n",
       "4                  NaN             NaN              NaN            NaN   \n",
       "\n",
       "  Small Grain Vegetative Spread Rate  \n",
       "0         NaN                    NaN  \n",
       "1          No                   None  \n",
       "2         NaN                    NaN  \n",
       "3         NaN                    NaN  \n",
       "4         NaN                    NaN  \n",
       "\n",
       "[5 rows x 75 columns]"
      ]
     },
     "execution_count": 6,
     "metadata": {},
     "output_type": "execute_result"
    }
   ],
   "source": [
    "plant_data.head()"
   ]
  },
  {
   "cell_type": "code",
   "execution_count": 7,
   "metadata": {},
   "outputs": [
    {
     "data": {
      "text/plain": [
       "HI(NW)                                                                                                              28\n",
       "CA(AW)                                                                                                              18\n",
       "CA(BW)                                                                                                              17\n",
       "WA(CBW)                                                                                                             16\n",
       "CT(PIB)                                                                                                             14\n",
       "AL(CAW)CA(Q)FL(NW)MA(P)MN(PNW)NC(CAW)OR(Q)SC(PP)VT(CAW)                                                             13\n",
       "AR(NW)                                                                                                              13\n",
       "CO(BW)                                                                                                               8\n",
       "WA(CCW)                                                                                                              7\n",
       "CA(CW)                                                                                                               7\n",
       "MA(P)                                                                                                                7\n",
       "WA(CAW)                                                                                                              6\n",
       "CT(PIB)MA(P)                                                                                                         6\n",
       "CT(IB)MA(P)NH(PIS)VT(CBW)                                                                                            5\n",
       "CT(PINB)                                                                                                             5\n",
       "CA(QW)                                                                                                               5\n",
       "FL(NW)                                                                                                               5\n",
       "IA(SNW)                                                                                                              4\n",
       "OR(BDW, Q)WA(CCW)                                                                                                    4\n",
       "CT(INB)MA(P)                                                                                                         4\n",
       "OR(BDW)                                                                                                              4\n",
       "MI(NW)                                                                                                               4\n",
       "WA(WAWQ)                                                                                                             4\n",
       "AL(CAW)CA(Q)FL(NW)HI(NW)MA(P)MN(PNW)NC(CAW)OR(Q)SC(PP)VT(CAW)                                                        4\n",
       "TX(NP)                                                                                                               3\n",
       "AL(CCW)                                                                                                              3\n",
       "CA (BW)                                                                                                              3\n",
       "AR(NW)SC(PP)                                                                                                         3\n",
       "CT(IB)MA(P)                                                                                                          3\n",
       "AR(NW)IA(PRNW)                                                                                                       2\n",
       "                                                                                                                    ..\n",
       "AK(NW)AZ(PNW, RNW)CA(BW)CO(BW)IA(PRNW)ID(NW)KS(NW)MT(CAT1)NM(CAW)NV(NW)OR(BDW, Q)SD(NW, RNPS)UT(NW)WA(CCW)WY(NW)     1\n",
       "CA(AW)NV(NW)OR(BDW, Q)WA(CBW)                                                                                        1\n",
       "AK(NW)AZ(PNW)CA(BW)HI(NW)OR(BDW, Q)WA(CCW)WY(NW)                                                                     1\n",
       "CT(IB)MA(P)MT(CAT3)NH(PIS)OR(BDW, Q)WA(CCW)                                                                          1\n",
       "MI(PP)                                                                                                               1\n",
       "MT(CAT2)                                                                                                             1\n",
       "AZ(PNW)CA(AW)TX(NP)                                                                                                  1\n",
       "OR(ADW, Q, ADW)WA(CBW, WAWQ)                                                                                         1\n",
       "CO(BW)ND(NW)WA(CCW)                                                                                                  1\n",
       "AZ(PNW, RGNW)                                                                                                        1\n",
       "CO(CW)HI(NW)                                                                                                         1\n",
       "AL(CAW)CA(Q)FL(NW)HI(NW)MN(PNW)MS(NW)NC(CAW)OR(Q)SC(PP)VT(CAW)                                                       1\n",
       "CO(CW)                                                                                                               1\n",
       "CO(BW)ND(NW)NE(NW)NV(NW)OR(BDW, Q)WA(CBW, NWSPQ)                                                                     1\n",
       "CT(PIB)VT(CBW)WA(WAWQ)                                                                                               1\n",
       "HI(NW)OR(BDW)WA(CAW)                                                                                                 1\n",
       "KY(NW)                                                                                                               1\n",
       "CA(QW)NC(CBW)OR(BDW, Q)                                                                                              1\n",
       "CA(BW)CO(BW)HI(NW)OR(BDW, Q)WA(CBW, Q)                                                                               1\n",
       "AZ(PNW)CA(AW)NV(NW)OR(ADW, Q)                                                                                        1\n",
       "CA(BW)CT(PIB)OR(BDW, Q)WA(CBW, NWSPQ)                                                                                1\n",
       "CT(PIB)WA(CBW, NWSPQ)                                                                                                1\n",
       "AR(NW)CA(BW)KY(NW)                                                                                                   1\n",
       "MA(P)WA(WAWQ)                                                                                                        1\n",
       "OR(ADW, Q)WA(CBW)                                                                                                    1\n",
       "CO(AW)KS(NW)                                                                                                         1\n",
       "CA(BW)HI(NW)                                                                                                         1\n",
       "AL(CAW)CA(AW, Q)FL(NW)MA(P)MN(PNW)NC(CAW)OR(Q)SC(PP)VT(CAW)                                                          1\n",
       "AL(CCW)AZ(PNW)HI(NW)TX(NP)                                                                                           1\n",
       "FL(PAP1)NC(CAW)                                                                                                      1\n",
       "Name: State Noxious Status, Length: 244, dtype: int64"
      ]
     },
     "execution_count": 7,
     "metadata": {},
     "output_type": "execute_result"
    }
   ],
   "source": [
    "plant_data['State Noxious Status'].value_counts()"
   ]
  },
  {
   "cell_type": "code",
   "execution_count": 8,
   "metadata": {},
   "outputs": [],
   "source": [
    "#convert to true or false int values since we\n",
    "#only care about if it's noxious anywhere\n",
    "plant_data['State Noxious Status'] = plant_data['State Noxious Status'].notnull().astype('int')"
   ]
  },
  {
   "cell_type": "code",
   "execution_count": 9,
   "metadata": {},
   "outputs": [
    {
     "data": {
      "text/plain": [
       "0    37725\n",
       "1      461\n",
       "Name: State Noxious Status, dtype: int64"
      ]
     },
     "execution_count": 9,
     "metadata": {},
     "output_type": "execute_result"
    }
   ],
   "source": [
    "plant_data['State Noxious Status'].value_counts()"
   ]
  },
  {
   "cell_type": "code",
   "execution_count": 10,
   "metadata": {},
   "outputs": [
    {
     "data": {
      "text/plain": [
       "None      1985\n",
       "Low         59\n",
       "Medium      13\n",
       "High         6\n",
       "Name: Bloat, dtype: int64"
      ]
     },
     "execution_count": 10,
     "metadata": {},
     "output_type": "execute_result"
    }
   ],
   "source": [
    "plant_data.Bloat.value_counts()"
   ]
  },
  {
   "cell_type": "code",
   "execution_count": 11,
   "metadata": {},
   "outputs": [
    {
     "name": "stdout",
     "output_type": "stream",
     "text": [
      "count                     38185\n",
      "unique                    38184\n",
      "top       Escobaria tuberculosa\n",
      "freq                          2\n",
      "Name: Scientific Name, dtype: object\n"
     ]
    },
    {
     "data": {
      "text/plain": [
       "count                  1995\n",
       "unique                 1995\n",
       "top       Iliamna rivularis\n",
       "freq                      1\n",
       "Name: Scientific Name, dtype: object"
      ]
     },
     "execution_count": 11,
     "metadata": {},
     "output_type": "execute_result"
    }
   ],
   "source": [
    "#This is dropping the vast majority of rows in our dataset. \n",
    "#This may make sense if Bloat and Growth Habit are our primary parameters\n",
    "print(plant_data['Scientific Name'].describe())\n",
    "\n",
    "plant_data.dropna(subset=['Bloat', 'Growth Habit'], inplace=True)\n",
    "\n",
    "plant_data['Scientific Name'].describe()"
   ]
  },
  {
   "cell_type": "code",
   "execution_count": 12,
   "metadata": {},
   "outputs": [
    {
     "data": {
      "text/plain": [
       "None      1921\n",
       "Low         56\n",
       "Medium      12\n",
       "High         6\n",
       "Name: Bloat, dtype: int64"
      ]
     },
     "execution_count": 12,
     "metadata": {},
     "output_type": "execute_result"
    }
   ],
   "source": [
    "plant_data.Bloat.value_counts()"
   ]
  },
  {
   "cell_type": "code",
   "execution_count": 13,
   "metadata": {},
   "outputs": [],
   "source": [
    "plant_data.drop(['After Harvest Regrowth Rate', 'Height at Base Age, Maximum (feet)', 'Planting Density per Acre, Minimum', \n",
    "                 'Planting Density per Acre, Maximum', 'Commercial Availability'], axis=1, inplace=True)\n"
   ]
  },
  {
   "cell_type": "code",
   "execution_count": 14,
   "metadata": {},
   "outputs": [
    {
     "data": {
      "text/plain": [
       "Spring and Summer          1147\n",
       "Spring                      265\n",
       "Spring, Summer, Fall        195\n",
       "Summer                      188\n",
       "Summer and Fall              58\n",
       "Year Round                   42\n",
       "Fall, Winter and Spring      41\n",
       "Spring and Fall              22\n",
       "Fall                          3\n",
       "Name: Active Growth Period, dtype: int64"
      ]
     },
     "execution_count": 14,
     "metadata": {},
     "output_type": "execute_result"
    }
   ],
   "source": [
    "plant_data['Active Growth Period'].value_counts()"
   ]
  },
  {
   "cell_type": "code",
   "execution_count": 15,
   "metadata": {},
   "outputs": [],
   "source": [
    "#fill empty growth periods with the mode\n",
    "plant_data['Active Growth Period'].fillna(plant_data['Active Growth Period'].mode().iloc[0], inplace=True)"
   ]
  },
  {
   "cell_type": "code",
   "execution_count": 16,
   "metadata": {},
   "outputs": [
    {
     "data": {
      "text/plain": [
       "Spring and Summer          1181\n",
       "Spring                      265\n",
       "Spring, Summer, Fall        195\n",
       "Summer                      188\n",
       "Summer and Fall              58\n",
       "Year Round                   42\n",
       "Fall, Winter and Spring      41\n",
       "Spring and Fall              22\n",
       "Fall                          3\n",
       "Name: Active Growth Period, dtype: int64"
      ]
     },
     "execution_count": 16,
     "metadata": {},
     "output_type": "execute_result"
    }
   ],
   "source": [
    "plant_data['Active Growth Period'].value_counts()"
   ]
  },
  {
   "cell_type": "code",
   "execution_count": 17,
   "metadata": {},
   "outputs": [
    {
     "data": {
      "text/plain": [
       "'High'"
      ]
     },
     "execution_count": 17,
     "metadata": {},
     "output_type": "execute_result"
    }
   ],
   "source": [
    "plant_data[plant_data['Growth Habit'] == 'Tree']['C:N Ratio'].mode().iloc[0]"
   ]
  },
  {
   "cell_type": "code",
   "execution_count": 18,
   "metadata": {},
   "outputs": [
    {
     "name": "stdout",
     "output_type": "stream",
     "text": [
      "214\n"
     ]
    },
    {
     "data": {
      "text/plain": [
       "Medium    812\n",
       "High      741\n",
       "Low       228\n",
       "Name: C:N Ratio, dtype: int64"
      ]
     },
     "execution_count": 18,
     "metadata": {},
     "output_type": "execute_result"
    }
   ],
   "source": [
    "#consult Natasha\n",
    "print(plant_data['C:N Ratio'].isnull().sum())\n",
    "plant_data['C:N Ratio'].value_counts()"
   ]
  },
  {
   "cell_type": "markdown",
   "metadata": {},
   "source": [
    "unsure what to do about C:N ratio, since there are a significant number of null values and both medium and high have similar counts. it doesn't seem right to just fill with the mode here"
   ]
  },
  {
   "cell_type": "code",
   "execution_count": 19,
   "metadata": {},
   "outputs": [
    {
     "data": {
      "text/plain": [
       "Scientific Name                   0\n",
       "Common Name                       0\n",
       "Category                          0\n",
       "Duration                          0\n",
       "Growth Habit                      0\n",
       "State Noxious Status              0\n",
       "Active Growth Period              0\n",
       "Bloat                             0\n",
       "C:N Ratio                       214\n",
       "Coppice Potential                 0\n",
       "Fall Conspicuous                  0\n",
       "Fire Resistance                   0\n",
       "Flower Color                     63\n",
       "Flower Conspicuous                0\n",
       "Foliage Color                    12\n",
       "Foliage Porosity Summer          43\n",
       "Foliage Porosity Winter          54\n",
       "Foliage Texture                  16\n",
       "Fruit Color                      99\n",
       "Fruit Conspicuous                 0\n",
       "Growth Form                      24\n",
       "Growth Rate                      35\n",
       "Height, Mature (feet)            21\n",
       "Known Allelopath                  0\n",
       "Leaf Retention                    0\n",
       "Lifespan                        154\n",
       "Low Growing Grass                 0\n",
       "Nitrogen Fixation                 0\n",
       "Resprout Ability                  0\n",
       "Shape and Orientation            18\n",
       "                               ... \n",
       "Frost Free Days, Minimum          5\n",
       "Hedge Tolerance                  36\n",
       "Moisture Use                     87\n",
       "pH (Minimum)                     11\n",
       "pH (Maximum)                     11\n",
       "Precipitation (Minimum)          27\n",
       "Precipitation (Maximum)          27\n",
       "Root Depth, Minimum (inches)     16\n",
       "Salinity Tolerance               28\n",
       "Shade Tolerance                  20\n",
       "Temperature, Minimum ('b0F)       4\n",
       "Bloom Period                     36\n",
       "Fruit/Seed Abundance            123\n",
       "Fruit/Seed Period Begin          82\n",
       "Fruit/Seed Period End            84\n",
       "Fruit/Seed Persistence            0\n",
       "Propogated by Bare Root           0\n",
       "Propogated by Bulbs               0\n",
       "Propogated by Container           0\n",
       "Propogated by Corms               0\n",
       "Propogated by Cuttings            0\n",
       "Propogated by Seed                0\n",
       "Propogated by Sod                 0\n",
       "Propogated by Sprigs              0\n",
       "Propogated by Tubers              0\n",
       "Seeds per Pound                 473\n",
       "Seed Spread Rate                 68\n",
       "Seedling Vigor                  139\n",
       "Small Grain                       0\n",
       "Vegetative Spread Rate           91\n",
       "Length: 70, dtype: int64"
      ]
     },
     "execution_count": 19,
     "metadata": {},
     "output_type": "execute_result"
    }
   ],
   "source": [
    "plant_data.isnull().sum()"
   ]
  },
  {
   "cell_type": "code",
   "execution_count": 20,
   "metadata": {},
   "outputs": [
    {
     "name": "stdout",
     "output_type": "stream",
     "text": [
      "Yellow    703\n",
      "White     458\n",
      "Green     311\n",
      "Purple    224\n",
      "Red       106\n",
      "Blue       68\n",
      "Brown      43\n",
      "Orange     19\n",
      "Name: Flower Color, dtype: int64\n"
     ]
    }
   ],
   "source": [
    "#flower color seems mostly unimportant, so fill with mode\n",
    "print(plant_data['Flower Color'].value_counts())\n",
    "plant_data['Flower Color'].fillna(plant_data['Flower Color'].mode().iloc[0],\n",
    "                                  inplace=True)"
   ]
  },
  {
   "cell_type": "code",
   "execution_count": 21,
   "metadata": {},
   "outputs": [
    {
     "name": "stdout",
     "output_type": "stream",
     "text": [
      "Green           1602\n",
      "Dark Green       184\n",
      "Gray-Green       109\n",
      "Yellow-Green      53\n",
      "White-Gray        28\n",
      "Red                7\n",
      "Name: Foliage Color, dtype: int64\n"
     ]
    }
   ],
   "source": [
    "#with an overwhelming majority like this filling with mode seems fine\n",
    "print(plant_data['Foliage Color'].value_counts())\n",
    "plant_data['Foliage Color'].fillna(plant_data['Foliage Color'].mode().iloc[0],\n",
    "                                   inplace=True)"
   ]
  },
  {
   "cell_type": "code",
   "execution_count": 22,
   "metadata": {},
   "outputs": [
    {
     "name": "stdout",
     "output_type": "stream",
     "text": [
      "Moderate    725\n",
      "Porous      618\n",
      "Dense       609\n",
      "Name: Foliage Porosity Summer, dtype: int64\n"
     ]
    }
   ],
   "source": [
    "#filling with a moderate level seems harmelss\n",
    "print(plant_data['Foliage Porosity Summer'].value_counts())\n",
    "plant_data['Foliage Porosity Summer'].fillna(plant_data['Foliage Porosity Summer'].mode().iloc[0],\n",
    "                                             inplace=True)"
   ]
  },
  {
   "cell_type": "code",
   "execution_count": 23,
   "metadata": {},
   "outputs": [
    {
     "name": "stdout",
     "output_type": "stream",
     "text": [
      "Porous      1476\n",
      "Moderate     280\n",
      "Dense        185\n",
      "Name: Foliage Porosity Winter, dtype: int64\n"
     ]
    }
   ],
   "source": [
    "#clear choice of mode\n",
    "print(plant_data['Foliage Porosity Winter'].value_counts())\n",
    "plant_data['Foliage Porosity Winter'].fillna(plant_data['Foliage Porosity Winter'].mode().iloc[0],\n",
    "                                             inplace=True)"
   ]
  },
  {
   "cell_type": "code",
   "execution_count": 24,
   "metadata": {},
   "outputs": [
    {
     "name": "stdout",
     "output_type": "stream",
     "text": [
      "Medium    801\n",
      "Coarse    644\n",
      "Fine      534\n",
      "Name: Foliage Texture, dtype: int64\n"
     ]
    }
   ],
   "source": [
    "#not so important to be precise\n",
    "print(plant_data['Foliage Texture'].value_counts())\n",
    "plant_data['Foliage Texture'].fillna(plant_data['Foliage Texture'].mode().iloc[0],\n",
    "                                     inplace=True)"
   ]
  },
  {
   "cell_type": "code",
   "execution_count": 25,
   "metadata": {},
   "outputs": [
    {
     "name": "stdout",
     "output_type": "stream",
     "text": [
      "Brown     1238\n",
      "Black      213\n",
      "Red        139\n",
      "Yellow      84\n",
      "White       71\n",
      "Green       55\n",
      "Purple      41\n",
      "Blue        38\n",
      "Orange      17\n",
      "Name: Fruit Color, dtype: int64\n"
     ]
    }
   ],
   "source": [
    "#clear mode\n",
    "print(plant_data['Fruit Color'].value_counts())\n",
    "plant_data['Fruit Color'].fillna(plant_data['Fruit Color'].mode().iloc[0],\n",
    "                                 inplace=True)"
   ]
  },
  {
   "cell_type": "code",
   "execution_count": 26,
   "metadata": {},
   "outputs": [
    {
     "name": "stdout",
     "output_type": "stream",
     "text": [
      "Multiple Stem      410\n",
      "Rhizomatous        362\n",
      "Single Stem        352\n",
      "Bunch              341\n",
      "Single Crown       326\n",
      "Stoloniferous       95\n",
      "Thicket Forming     64\n",
      "Colonizing          21\n",
      "Name: Growth Form, dtype: int64\n"
     ]
    }
   ],
   "source": [
    "# no clear choice of best replacement values, consult Natasha\n",
    "print(plant_data['Growth Form'].value_counts())"
   ]
  },
  {
   "cell_type": "code",
   "execution_count": 27,
   "metadata": {},
   "outputs": [
    {
     "name": "stdout",
     "output_type": "stream",
     "text": [
      "Moderate    952\n",
      "Rapid       672\n",
      "Slow        336\n",
      "Name: Growth Rate, dtype: int64\n"
     ]
    }
   ],
   "source": [
    "#moderate is the clear mode\n",
    "print(plant_data['Growth Rate'].value_counts())\n",
    "plant_data['Growth Rate'].fillna(plant_data['Growth Rate'].mode().iloc[0],\n",
    "                                 inplace=True)"
   ]
  },
  {
   "cell_type": "code",
   "execution_count": 28,
   "metadata": {},
   "outputs": [
    {
     "name": "stdout",
     "output_type": "stream",
     "text": [
      "3.3\n"
     ]
    }
   ],
   "source": [
    "#here the mode seems too short and the mean too large\n",
    "#so using the median instead\n",
    "print(plant_data['Height, Mature (feet)'].median())\n",
    "plant_data['Height, Mature (feet)'].fillna(plant_data['Height, Mature (feet)'].median(),\n",
    "                                           inplace=True)"
   ]
  },
  {
   "cell_type": "code",
   "execution_count": 34,
   "metadata": {},
   "outputs": [
    {
     "name": "stdout",
     "output_type": "stream",
     "text": [
      "Moderate    795\n",
      "Long        568\n",
      "Short       478\n",
      "Name: Lifespan, dtype: int64\n"
     ]
    }
   ],
   "source": [
    "#moderate seems the clear choice\n",
    "print(plant_data.Lifespan.value_counts())\n",
    "plant_data['Lifespan'].fillna(plant_data['Lifespan'].mode()[0],\n",
    "                                           inplace=True)"
   ]
  },
  {
   "cell_type": "code",
   "execution_count": 38,
   "metadata": {},
   "outputs": [
    {
     "name": "stdout",
     "output_type": "stream",
     "text": [
      "Erect         1283\n",
      "Semi-Erect     256\n",
      "Decumbent      139\n",
      "Prostrate       96\n",
      "Rounded         72\n",
      "Irregular       38\n",
      "Climbing        37\n",
      "Conical         32\n",
      "Vase            11\n",
      "Columnar         8\n",
      "Oval             5\n",
      "Name: Shape and Orientation, dtype: int64\n"
     ]
    }
   ],
   "source": [
    "#clear mode.\n",
    "print(plant_data['Shape and Orientation'].value_counts())\n",
    "plant_data['Shape and Orientation'].fillna(plant_data['Shape and Orientation'].mode()[0],\n",
    "                                           inplace=True)"
   ]
  },
  {
   "cell_type": "code",
   "execution_count": 43,
   "metadata": {},
   "outputs": [
    {
     "name": "stdout",
     "output_type": "stream",
     "text": [
      "None        1785\n",
      "Slight       117\n",
      "Moderate      56\n",
      "Severe        37\n",
      "Name: Toxicity, dtype: int64\n"
     ]
    }
   ],
   "source": [
    "#clear mode\n",
    "print(plant_data['Toxicity'].value_counts())\n",
    "plant_data['Toxicity'].fillna(plant_data['Toxicity'].mode()[0],\n",
    "                                           inplace=True)"
   ]
  },
  {
   "cell_type": "code",
   "execution_count": 45,
   "metadata": {},
   "outputs": [
    {
     "name": "stdout",
     "output_type": "stream",
     "text": [
      "None      865\n",
      "Low       394\n",
      "High      374\n",
      "Medium    349\n",
      "Name: Anaerobic Tolerance, dtype: int64\n"
     ]
    }
   ],
   "source": [
    "#clear mode\n",
    "print(plant_data['Anaerobic Tolerance'].value_counts())\n",
    "plant_data['Anaerobic Tolerance'].fillna(plant_data['Anaerobic Tolerance'].mode()[0],\n",
    "                                           inplace=True)"
   ]
  },
  {
   "cell_type": "code",
   "execution_count": 47,
   "metadata": {},
   "outputs": [
    {
     "name": "stdout",
     "output_type": "stream",
     "text": [
      "Medium    797\n",
      "Low       621\n",
      "High      347\n",
      "None      165\n",
      "Name: CaCO<SUB>3</SUB> Tolerance, dtype: int64\n"
     ]
    }
   ],
   "source": [
    "#consult Natasha\n",
    "print(plant_data['CaCO<SUB>3</SUB> Tolerance'].value_counts())"
   ]
  },
  {
   "cell_type": "code",
   "execution_count": 49,
   "metadata": {},
   "outputs": [
    {
     "name": "stdout",
     "output_type": "stream",
     "text": [
      "Low       716\n",
      "Medium    513\n",
      "High      488\n",
      "None      267\n",
      "Name: Drought Tolerance, dtype: int64\n"
     ]
    }
   ],
   "source": [
    "#mode seems high enough to replace\n",
    "print(plant_data['Drought Tolerance'].value_counts())\n",
    "plant_data['Drought Tolerance'].fillna(plant_data['Drought Tolerance'].mode()[0],\n",
    "                                           inplace=True)"
   ]
  },
  {
   "cell_type": "code",
   "execution_count": 52,
   "metadata": {},
   "outputs": [
    {
     "name": "stdout",
     "output_type": "stream",
     "text": [
      "Medium    996\n",
      "Low       845\n",
      "High      120\n",
      "Name: Fertility Requirement, dtype: int64\n"
     ]
    }
   ],
   "source": [
    "#mode seems okay to me\n",
    "print(plant_data['Fertility Requirement'].value_counts())\n",
    "plant_data['Fertility Requirement'].fillna(plant_data['Fertility Requirement'].mode()[0],\n",
    "                                           inplace=True)"
   ]
  },
  {
   "cell_type": "code",
   "execution_count": 56,
   "metadata": {},
   "outputs": [
    {
     "name": "stdout",
     "output_type": "stream",
     "text": [
      "High      693\n",
      "Medium    509\n",
      "Low       434\n",
      "None      279\n",
      "Name: Fire Tolerance, dtype: int64\n"
     ]
    }
   ],
   "source": [
    "#this seems important, tentative replacement with mode\n",
    "print(plant_data['Fire Tolerance'].value_counts())\n",
    "plant_data['Fire Tolerance'].fillna(plant_data['Fire Tolerance'].mode()[0],\n",
    "                                           inplace=True)"
   ]
  },
  {
   "cell_type": "code",
   "execution_count": 70,
   "metadata": {},
   "outputs": [
    {
     "name": "stdout",
     "output_type": "stream",
     "text": [
      "143.05213032581455 \n",
      " 120.0 \n",
      " 120.0\n"
     ]
    }
   ],
   "source": [
    "#replacing with median makes sense to me here\n",
    "print(plant_data['Frost Free Days, Minimum'].mean(), '\\n',\n",
    "      plant_data['Frost Free Days, Minimum'].median(), '\\n',\n",
    "      plant_data['Frost Free Days, Minimum'].mode()[0])\n",
    "plant_data['Frost Free Days, Minimum'].fillna(plant_data['Frost Free Days, Minimum'].median(),\n",
    "                                           inplace=True)"
   ]
  },
  {
   "cell_type": "code",
   "execution_count": 73,
   "metadata": {},
   "outputs": [
    {
     "name": "stdout",
     "output_type": "stream",
     "text": [
      "None      1352\n",
      "Low        262\n",
      "Medium     189\n",
      "High       156\n",
      "Name: Hedge Tolerance, dtype: int64\n"
     ]
    }
   ],
   "source": [
    "#mode seems like a safe bet\n",
    "print(plant_data['Hedge Tolerance'].value_counts())\n",
    "plant_data['Hedge Tolerance'].fillna(plant_data['Hedge Tolerance'].mode()[0],\n",
    "                                           inplace=True)"
   ]
  },
  {
   "cell_type": "code",
   "execution_count": 76,
   "metadata": {},
   "outputs": [
    {
     "name": "stdout",
     "output_type": "stream",
     "text": [
      "Medium    851\n",
      "High      551\n",
      "Low       506\n",
      "Name: Moisture Use, dtype: int64\n"
     ]
    }
   ],
   "source": [
    "#mode seems like a safe bet\n",
    "print(plant_data['Moisture Use'].value_counts())\n",
    "plant_data['Moisture Use'].fillna(plant_data['Moisture Use'].mode()[0],\n",
    "                                           inplace=True)"
   ]
  },
  {
   "cell_type": "code",
   "execution_count": 81,
   "metadata": {},
   "outputs": [
    {
     "name": "stdout",
     "output_type": "stream",
     "text": [
      "5.3906754032258055 \n",
      " 5.5 \n",
      " 6.0\n"
     ]
    }
   ],
   "source": [
    "#since the values can go so low, \n",
    "#I'm thinking mean is best bet\n",
    "print(plant_data['pH (Minimum)'].mean(), '\\n',\n",
    "      plant_data['pH (Minimum)'].median(), '\\n',\n",
    "      plant_data['pH (Minimum)'].mode()[0])\n",
    "plant_data['pH (Minimum)'].fillna(plant_data['pH (Minimum)'].mean(),\n",
    "                                           inplace=True)"
   ]
  },
  {
   "cell_type": "code",
   "execution_count": 85,
   "metadata": {},
   "outputs": [
    {
     "name": "stdout",
     "output_type": "stream",
     "text": [
      "7.531451612903226 \n",
      " 7.5 \n",
      " 7.5\n"
     ]
    }
   ],
   "source": [
    "#since the values can go a bit low, once again I use the mean\n",
    "print(plant_data['pH (Maximum)'].mean(), '\\n',\n",
    "      plant_data['pH (Maximum)'].median(), '\\n',\n",
    "      plant_data['pH (Maximum)'].mode()[0])\n",
    "plant_data['pH (Maximum)'].fillna(plant_data['pH (Maximum)'].mean(),\n",
    "                                           inplace=True)"
   ]
  },
  {
   "cell_type": "code",
   "execution_count": 102,
   "metadata": {},
   "outputs": [
    {
     "name": "stdout",
     "output_type": "stream",
     "text": [
      "21.584349593495933 \n",
      " 20.0 \n",
      " 10.0 \n",
      "\n",
      " 10.0    171\n",
      "12.0    162\n",
      "30.0    158\n",
      "35.0    141\n",
      "32.0    140\n",
      "14.0    124\n",
      "16.0    120\n",
      "20.0    119\n",
      "8.0     102\n",
      "Name: Precipitation (Minimum), dtype: int64\n"
     ]
    }
   ],
   "source": [
    "#since the race for mode is pretty tight\n",
    "#and there's a pretty big variance, I think\n",
    "#mean is the right way to go here.\n",
    "print(plant_data['Precipitation (Minimum)'].mean(), '\\n',\n",
    "      plant_data['Precipitation (Minimum)'].median(), '\\n',\n",
    "      plant_data['Precipitation (Minimum)'].mode()[0], '\\n\\n',\n",
    "      plant_data['Precipitation (Minimum)'].value_counts()[:8])\n",
    "\n",
    "plant_data['Precipitation (Minimum)'].fillna(plant_data['Precipitation (Minimum)'].mean(),\n",
    "                                           inplace=True)\n"
   ]
  },
  {
   "cell_type": "code",
   "execution_count": null,
   "metadata": {},
   "outputs": [],
   "source": []
  },
  {
   "cell_type": "code",
   "execution_count": 86,
   "metadata": {},
   "outputs": [
    {
     "name": "stdout",
     "output_type": "stream",
     "text": [
      "C:N Ratio 214\n",
      "Growth Form 24\n",
      "CaCO<SUB>3</SUB> Tolerance 65\n",
      "Precipitation (Minimum) 27\n",
      "Precipitation (Maximum) 27\n",
      "Root Depth, Minimum (inches) 16\n",
      "Salinity Tolerance 28\n",
      "Shade Tolerance 20\n",
      "Temperature, Minimum ('b0F) 4\n",
      "Bloom Period 36\n",
      "Fruit/Seed Abundance 123\n",
      "Fruit/Seed Period Begin 82\n",
      "Fruit/Seed Period End 84\n",
      "Seeds per Pound 473\n",
      "Seed Spread Rate 68\n",
      "Seedling Vigor 139\n",
      "Vegetative Spread Rate 91\n"
     ]
    }
   ],
   "source": [
    "for j,i in enumerate(plant_data.isnull().sum()):\n",
    "    if i > 0:\n",
    "        print(plant_data.isnull().columns[j],i)"
   ]
  },
  {
   "cell_type": "code",
   "execution_count": null,
   "metadata": {},
   "outputs": [],
   "source": []
  }
 ],
 "metadata": {
  "kernelspec": {
   "display_name": "learn-env",
   "language": "python",
   "name": "learn-env"
  },
  "language_info": {
   "codemirror_mode": {
    "name": "ipython",
    "version": 3
   },
   "file_extension": ".py",
   "mimetype": "text/x-python",
   "name": "python",
   "nbconvert_exporter": "python",
   "pygments_lexer": "ipython3",
   "version": "3.6.8"
  }
 },
 "nbformat": 4,
 "nbformat_minor": 2
}
