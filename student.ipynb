{
 "cells": [
  {
   "cell_type": "markdown",
   "metadata": {},
   "source": [
    "# Invasive Plant Species Classifier\n",
    "\n",
    "* Student names: Natasha Kacoroski, Jacob Crabb\n",
    "* Student pace: full time\n",
    "* Scheduled project review date/time: \n",
    "* Instructor name: Miles Erickson, Greg Damico\n"
   ]
  },
  {
   "cell_type": "markdown",
   "metadata": {},
   "source": [
    "## Load Libraries and Data\n",
    "\n",
    "Import necessary libraries."
   ]
  },
  {
   "cell_type": "code",
   "execution_count": 34,
   "metadata": {},
   "outputs": [
    {
     "name": "stdout",
     "output_type": "stream",
     "text": [
      "The autoreload extension is already loaded. To reload it, use:\n",
      "  %reload_ext autoreload\n"
     ]
    }
   ],
   "source": [
    "from sklearn_pandas import DataFrameMapper, FunctionTransformer, gen_features\n",
    "from sklearn.compose import ColumnTransformer\n",
    "from sklearn.pipeline import Pipeline, FeatureUnion\n",
    "from sklearn.impute import SimpleImputer\n",
    "from sklearn.model_selection import (cross_val_score,\n",
    "                                     GridSearchCV,\n",
    "                                     train_test_split)\n",
    "from sklearn.preprocessing import OneHotEncoder, StandardScaler\n",
    "from sklearn.ensemble import RandomForestClassifier\n",
    "from sklearn.metrics import roc_curve, precision_recall_curve, f1_score, auc, average_precision_score\n",
    "from sklearn.linear_model import LogisticRegression\n",
    "from sklearn.utils import resample\n",
    "from imblearn.over_sampling import SMOTE, RandomOverSampler\n",
    "import matplotlib.pyplot as plt\n",
    "import pandas as pd\n",
    "import numpy as np\n",
    "from xgboost import XGBClassifier\n",
    "from categorical_cleaning import *\n",
    "\n",
    "# to avoid kernel shutdown with xgboost\n",
    "import os\n",
    "os.environ['KMP_DUPLICATE_LIB_OK']='True'\n",
    "\n",
    "%load_ext autoreload\n",
    "%autoreload 2\n",
    "%matplotlib inline"
   ]
  },
  {
   "cell_type": "markdown",
   "metadata": {},
   "source": [
    "Load data. Manually removed backslash symbols while troubleshooting data import. "
   ]
  },
  {
   "cell_type": "code",
   "execution_count": 2,
   "metadata": {},
   "outputs": [
    {
     "data": {
      "text/html": [
       "<div>\n",
       "<style scoped>\n",
       "    .dataframe tbody tr th:only-of-type {\n",
       "        vertical-align: middle;\n",
       "    }\n",
       "\n",
       "    .dataframe tbody tr th {\n",
       "        vertical-align: top;\n",
       "    }\n",
       "\n",
       "    .dataframe thead th {\n",
       "        text-align: right;\n",
       "    }\n",
       "</style>\n",
       "<table border=\"1\" class=\"dataframe\">\n",
       "  <thead>\n",
       "    <tr style=\"text-align: right;\">\n",
       "      <th></th>\n",
       "      <th>outl0strokewidth0 strokec2 \"Accepted Symbol\"</th>\n",
       "      <th>Synonym Symbol</th>\n",
       "      <th>Scientific Name</th>\n",
       "      <th>Common Name</th>\n",
       "      <th>Category</th>\n",
       "      <th>Duration</th>\n",
       "      <th>Growth Habit</th>\n",
       "      <th>Native Status</th>\n",
       "      <th>State Noxious Status</th>\n",
       "      <th>Active Growth Period</th>\n",
       "      <th>...</th>\n",
       "      <th>Propogated by Cuttings</th>\n",
       "      <th>Propogated by Seed</th>\n",
       "      <th>Propogated by Sod</th>\n",
       "      <th>Propogated by Sprigs</th>\n",
       "      <th>Propogated by Tubers</th>\n",
       "      <th>Seeds per Pound</th>\n",
       "      <th>Seed Spread Rate</th>\n",
       "      <th>Seedling Vigor</th>\n",
       "      <th>Small Grain</th>\n",
       "      <th>Vegetative Spread Rate</th>\n",
       "    </tr>\n",
       "  </thead>\n",
       "  <tbody>\n",
       "    <tr>\n",
       "      <th>0</th>\n",
       "      <td>ABELI</td>\n",
       "      <td>NaN</td>\n",
       "      <td>Abelia</td>\n",
       "      <td>abelia</td>\n",
       "      <td>Dicot</td>\n",
       "      <td>NaN</td>\n",
       "      <td>NaN</td>\n",
       "      <td>L48(I)</td>\n",
       "      <td>NaN</td>\n",
       "      <td>NaN</td>\n",
       "      <td>...</td>\n",
       "      <td>NaN</td>\n",
       "      <td>NaN</td>\n",
       "      <td>NaN</td>\n",
       "      <td>NaN</td>\n",
       "      <td>NaN</td>\n",
       "      <td>NaN</td>\n",
       "      <td>NaN</td>\n",
       "      <td>NaN</td>\n",
       "      <td>NaN</td>\n",
       "      <td>NaN</td>\n",
       "    </tr>\n",
       "    <tr>\n",
       "      <th>1</th>\n",
       "      <td>ABGR4</td>\n",
       "      <td>NaN</td>\n",
       "      <td>Abelia 'd7grandiflora</td>\n",
       "      <td>glossy abelia</td>\n",
       "      <td>Dicot</td>\n",
       "      <td>Perennial</td>\n",
       "      <td>Shrub</td>\n",
       "      <td>L48(I)</td>\n",
       "      <td>NaN</td>\n",
       "      <td>Spring, Summer, Fall</td>\n",
       "      <td>...</td>\n",
       "      <td>Yes</td>\n",
       "      <td>No</td>\n",
       "      <td>No</td>\n",
       "      <td>No</td>\n",
       "      <td>No</td>\n",
       "      <td>NaN</td>\n",
       "      <td>None</td>\n",
       "      <td>NaN</td>\n",
       "      <td>No</td>\n",
       "      <td>None</td>\n",
       "    </tr>\n",
       "    <tr>\n",
       "      <th>2</th>\n",
       "      <td>ABELM</td>\n",
       "      <td>NaN</td>\n",
       "      <td>Abelmoschus</td>\n",
       "      <td>okra</td>\n",
       "      <td>Dicot</td>\n",
       "      <td>NaN</td>\n",
       "      <td>NaN</td>\n",
       "      <td>L48(I)</td>\n",
       "      <td>NaN</td>\n",
       "      <td>NaN</td>\n",
       "      <td>...</td>\n",
       "      <td>NaN</td>\n",
       "      <td>NaN</td>\n",
       "      <td>NaN</td>\n",
       "      <td>NaN</td>\n",
       "      <td>NaN</td>\n",
       "      <td>NaN</td>\n",
       "      <td>NaN</td>\n",
       "      <td>NaN</td>\n",
       "      <td>NaN</td>\n",
       "      <td>NaN</td>\n",
       "    </tr>\n",
       "    <tr>\n",
       "      <th>3</th>\n",
       "      <td>ABES</td>\n",
       "      <td>NaN</td>\n",
       "      <td>Abelmoschus esculentus</td>\n",
       "      <td>okra</td>\n",
       "      <td>Dicot</td>\n",
       "      <td>Annual, Perennial</td>\n",
       "      <td>Subshrub, Forb/herb</td>\n",
       "      <td>L48(I)PR(I)VI(I)</td>\n",
       "      <td>NaN</td>\n",
       "      <td>NaN</td>\n",
       "      <td>...</td>\n",
       "      <td>NaN</td>\n",
       "      <td>NaN</td>\n",
       "      <td>NaN</td>\n",
       "      <td>NaN</td>\n",
       "      <td>NaN</td>\n",
       "      <td>NaN</td>\n",
       "      <td>NaN</td>\n",
       "      <td>NaN</td>\n",
       "      <td>NaN</td>\n",
       "      <td>NaN</td>\n",
       "    </tr>\n",
       "    <tr>\n",
       "      <th>4</th>\n",
       "      <td>ABIES</td>\n",
       "      <td>NaN</td>\n",
       "      <td>Abies</td>\n",
       "      <td>fir</td>\n",
       "      <td>Gymnosperm</td>\n",
       "      <td>NaN</td>\n",
       "      <td>NaN</td>\n",
       "      <td>L48(I,N)CAN(N)SPM(N)</td>\n",
       "      <td>NaN</td>\n",
       "      <td>NaN</td>\n",
       "      <td>...</td>\n",
       "      <td>NaN</td>\n",
       "      <td>NaN</td>\n",
       "      <td>NaN</td>\n",
       "      <td>NaN</td>\n",
       "      <td>NaN</td>\n",
       "      <td>NaN</td>\n",
       "      <td>NaN</td>\n",
       "      <td>NaN</td>\n",
       "      <td>NaN</td>\n",
       "      <td>NaN</td>\n",
       "    </tr>\n",
       "  </tbody>\n",
       "</table>\n",
       "<p>5 rows × 78 columns</p>\n",
       "</div>"
      ],
      "text/plain": [
       "  outl0strokewidth0 strokec2 \"Accepted Symbol\" Synonym Symbol  \\\n",
       "0                                        ABELI            NaN   \n",
       "1                                        ABGR4            NaN   \n",
       "2                                        ABELM            NaN   \n",
       "3                                         ABES            NaN   \n",
       "4                                        ABIES            NaN   \n",
       "\n",
       "          Scientific Name    Common Name    Category           Duration  \\\n",
       "0                  Abelia         abelia       Dicot                NaN   \n",
       "1   Abelia 'd7grandiflora  glossy abelia       Dicot          Perennial   \n",
       "2             Abelmoschus           okra       Dicot                NaN   \n",
       "3  Abelmoschus esculentus           okra       Dicot  Annual, Perennial   \n",
       "4                   Abies            fir  Gymnosperm                NaN   \n",
       "\n",
       "          Growth Habit         Native Status State Noxious Status  \\\n",
       "0                  NaN                L48(I)                  NaN   \n",
       "1                Shrub                L48(I)                  NaN   \n",
       "2                  NaN                L48(I)                  NaN   \n",
       "3  Subshrub, Forb/herb      L48(I)PR(I)VI(I)                  NaN   \n",
       "4                  NaN  L48(I,N)CAN(N)SPM(N)                  NaN   \n",
       "\n",
       "   Active Growth Period  ... Propogated by Cuttings Propogated by Seed  \\\n",
       "0                   NaN  ...                    NaN                NaN   \n",
       "1  Spring, Summer, Fall  ...                    Yes                 No   \n",
       "2                   NaN  ...                    NaN                NaN   \n",
       "3                   NaN  ...                    NaN                NaN   \n",
       "4                   NaN  ...                    NaN                NaN   \n",
       "\n",
       "  Propogated by Sod Propogated by Sprigs Propogated by Tubers Seeds per Pound  \\\n",
       "0               NaN                  NaN                  NaN             NaN   \n",
       "1                No                   No                   No             NaN   \n",
       "2               NaN                  NaN                  NaN             NaN   \n",
       "3               NaN                  NaN                  NaN             NaN   \n",
       "4               NaN                  NaN                  NaN             NaN   \n",
       "\n",
       "  Seed Spread Rate Seedling Vigor Small Grain Vegetative Spread Rate  \n",
       "0              NaN            NaN         NaN                    NaN  \n",
       "1             None            NaN          No                   None  \n",
       "2              NaN            NaN         NaN                    NaN  \n",
       "3              NaN            NaN         NaN                    NaN  \n",
       "4              NaN            NaN         NaN                    NaN  \n",
       "\n",
       "[5 rows x 78 columns]"
      ]
     },
     "execution_count": 2,
     "metadata": {},
     "output_type": "execute_result"
    }
   ],
   "source": [
    "plant_data = pd.read_csv(\"plants.csv\", skiprows=9, low_memory=False)\n",
    "plant_data.head()"
   ]
  },
  {
   "cell_type": "markdown",
   "metadata": {},
   "source": [
    "Column information from https://plants.usda.gov/charinfo.html."
   ]
  },
  {
   "cell_type": "markdown",
   "metadata": {},
   "source": [
    "## Clean Data"
   ]
  },
  {
   "cell_type": "markdown",
   "metadata": {},
   "source": [
    "Check for null values."
   ]
  },
  {
   "cell_type": "code",
   "execution_count": 3,
   "metadata": {},
   "outputs": [
    {
     "name": "stdout",
     "output_type": "stream",
     "text": [
      "<class 'pandas.core.frame.DataFrame'>\n",
      "RangeIndex: 38186 entries, 0 to 38185\n",
      "Data columns (total 78 columns):\n",
      "outl0strokewidth0 strokec2 \"Accepted Symbol\"    38186 non-null object\n",
      "Synonym Symbol                                  66 non-null object\n",
      "Scientific Name                                 38185 non-null object\n",
      "Common Name                                     36115 non-null object\n",
      "Category                                        38046 non-null object\n",
      "Duration                                        27808 non-null object\n",
      "Growth Habit                                    34269 non-null object\n",
      "Native Status                                   38093 non-null object\n",
      "State Noxious Status                            461 non-null object\n",
      "Active Growth Period                            2027 non-null object\n",
      "After Harvest Regrowth Rate                     1039 non-null object\n",
      "Bloat                                           2063 non-null object\n",
      "C:N Ratio                                       1840 non-null object\n",
      "Coppice Potential                               2063 non-null object\n",
      "Fall Conspicuous                                2063 non-null object\n",
      "Fire Resistance                                 2063 non-null object\n",
      "Flower Color                                    1997 non-null object\n",
      "Flower Conspicuous                              2063 non-null object\n",
      "Foliage Color                                   2051 non-null object\n",
      "Foliage Porosity Summer                         2020 non-null object\n",
      "Foliage Porosity Winter                         2009 non-null object\n",
      "Foliage Texture                                 2046 non-null object\n",
      "Fruit Color                                     1962 non-null object\n",
      "Fruit Conspicuous                               2063 non-null object\n",
      "Growth Form                                     2037 non-null object\n",
      "Growth Rate                                     2025 non-null object\n",
      "Height at Base Age, Maximum (feet)              812 non-null float64\n",
      "Height, Mature (feet)                           2041 non-null float64\n",
      "Known Allelopath                                2063 non-null object\n",
      "Leaf Retention                                  2063 non-null object\n",
      "Lifespan                                        1904 non-null object\n",
      "Low Growing Grass                               2063 non-null object\n",
      "Nitrogen Fixation                               2063 non-null object\n",
      "Resprout Ability                                2063 non-null object\n",
      "Shape and Orientation                           2043 non-null object\n",
      "Toxicity                                        2025 non-null object\n",
      "Adapted to Coarse Textured Soils                2063 non-null object\n",
      "Adapted to Medium Textured Soils                2063 non-null object\n",
      "Adapted to Fine Textured Soils                  2063 non-null object\n",
      "Anaerobic Tolerance                             2046 non-null object\n",
      "CaCO<SUB>3</SUB> Tolerance                      1997 non-null object\n",
      "Cold Stratification Required                    2063 non-null object\n",
      "Drought Tolerance                               2050 non-null object\n",
      "Fertility Requirement                           2028 non-null object\n",
      "Fire Tolerance                                  1976 non-null object\n",
      "Frost Free Days, Minimum                        2057 non-null float64\n",
      "Hedge Tolerance                                 2026 non-null object\n",
      "Moisture Use                                    1971 non-null object\n",
      "pH (Minimum)                                    2051 non-null float64\n",
      "pH (Maximum)                                    2051 non-null float64\n",
      "Planting Density per Acre, Minimum              1544 non-null float64\n",
      "Planting Density per Acre, Maximum              1543 non-null float64\n",
      "Precipitation (Minimum)                         2031 non-null float64\n",
      "Precipitation (Maximum)                         2031 non-null float64\n",
      "Root Depth, Minimum (inches)                    2047 non-null float64\n",
      "Salinity Tolerance                              2032 non-null object\n",
      "Shade Tolerance                                 2041 non-null object\n",
      "Temperature, Minimum ('b0F)                     2058 non-null float64\n",
      "Bloom Period                                    2025 non-null object\n",
      "Commercial Availability                         1987 non-null object\n",
      "Fruit/Seed Abundance                            1935 non-null object\n",
      "Fruit/Seed Period Begin                         1981 non-null object\n",
      "Fruit/Seed Period End                           1979 non-null object\n",
      "Fruit/Seed Persistence                          2063 non-null object\n",
      "Propogated by Bare Root                         2063 non-null object\n",
      "Propogated by Bulbs                             2063 non-null object\n",
      "Propogated by Container                         2063 non-null object\n",
      "Propogated by Corms                             2063 non-null object\n",
      "Propogated by Cuttings                          2063 non-null object\n",
      "Propogated by Seed                              2063 non-null object\n",
      "Propogated by Sod                               2063 non-null object\n",
      "Propogated by Sprigs                            2063 non-null object\n",
      "Propogated by Tubers                            2063 non-null object\n",
      "Seeds per Pound                                 1578 non-null float64\n",
      "Seed Spread Rate                                1991 non-null object\n",
      "Seedling Vigor                                  1920 non-null object\n",
      "Small Grain                                     2063 non-null object\n",
      "Vegetative Spread Rate                          1964 non-null object\n",
      "dtypes: float64(12), object(66)\n",
      "memory usage: 22.7+ MB\n"
     ]
    }
   ],
   "source": [
    "plant_data.info()"
   ]
  },
  {
   "cell_type": "markdown",
   "metadata": {},
   "source": [
    "Lots of null values. There appears to be a subset of 2,063 entries that have most column data. Select subset to work with."
   ]
  },
  {
   "cell_type": "code",
   "execution_count": 4,
   "metadata": {},
   "outputs": [],
   "source": [
    "plant_data.dropna(subset=['Bloat'], inplace=True) # Bloat is first column with 2,063 entries\n",
    "plant_data.reset_index(drop=True, inplace=True) # Reset index"
   ]
  },
  {
   "cell_type": "markdown",
   "metadata": {},
   "source": [
    "'State Noxious Status' column contains target data. Add 'invasive' column where 1 is noxious and 0 is not."
   ]
  },
  {
   "cell_type": "code",
   "execution_count": 5,
   "metadata": {},
   "outputs": [],
   "source": [
    "plant_data['invasive'] = plant_data['State Noxious Status'].notnull().astype('int')"
   ]
  },
  {
   "cell_type": "markdown",
   "metadata": {},
   "source": [
    "Split training and testing data."
   ]
  },
  {
   "cell_type": "code",
   "execution_count": 6,
   "metadata": {},
   "outputs": [],
   "source": [
    "X = plant_data.drop('invasive', axis=1)\n",
    "y = plant_data['invasive']\n",
    "\n",
    "X_train, X_test, y_train, y_test = train_test_split(X, y, test_size=0.2)"
   ]
  },
  {
   "cell_type": "markdown",
   "metadata": {},
   "source": [
    "Build pipeline to clean and preprocess data."
   ]
  },
  {
   "cell_type": "code",
   "execution_count": 15,
   "metadata": {},
   "outputs": [],
   "source": [
    "# Clean categorical data by applying mapper that, if necessary,\n",
    "# fills nulls, selects most common value, and simplifies unique values of column\n",
    "cat_mapper = DataFrameMapper([\n",
    "    (['Category'], [SimpleImputer(missing_values=np.nan, strategy='most_frequent'),\n",
    "                    FunctionTransformer(bin_category)], {'alias':'category'}),\n",
    "    (['Duration'], [SimpleImputer(missing_values=np.nan, strategy='most_frequent'),\n",
    "                    FunctionTransformer(common_value)], {'alias':'duration'}),\n",
    "    (['Growth Habit'], [SimpleImputer(missing_values=np.nan, strategy='most_frequent'),\n",
    "                        FunctionTransformer(common_value)], {'alias':'growth_habit'}),\n",
    "    (['Active Growth Period'], [SimpleImputer(missing_values=np.nan, strategy='most_frequent'),\n",
    "                                FunctionTransformer(num_of_growth_seasons)], {'alias':'num_of_growth_seasons'}),\n",
    "    (['Bloat'], FunctionTransformer(binarize_bloat), {'alias':'bloat'}),\n",
    "    (['C:N Ratio'], [SimpleImputer(missing_values=np.nan, strategy='most_frequent')], {'alias':'cn_ratio'}),\n",
    "    (['Coppice Potential'], None, {'alias':'cop_potential'}),\n",
    "    (['Fall Conspicuous'], None, {'alias':'fall_conspicuous'}),\n",
    "    (['Fire Resistance'], None, {'alias':'fire_resistance'}),\n",
    "    (['Flower Color'], [SimpleImputer(missing_values=np.nan, strategy='most_frequent')], {'alias':'flower_color'}),\n",
    "    (['Flower Conspicuous'], None, {'alias':'flower_conspicuous'}),\n",
    "    (['Foliage Color'], [SimpleImputer(missing_values=np.nan, strategy='most_frequent'),\n",
    "                         FunctionTransformer(binarize_foliage_color)], {'alias':'leaf_color'}),\n",
    "    (['Foliage Porosity Summer'], SimpleImputer(missing_values=np.nan, strategy='most_frequent'),\n",
    "     {'alias':'leaf_por_summer'}),\n",
    "    (['Foliage Porosity Winter'], SimpleImputer(missing_values=np.nan, strategy='most_frequent'),\n",
    "     {'alias':'leaf_por_winter'}),\n",
    "    (['Foliage Texture'], SimpleImputer(missing_values=np.nan, strategy='most_frequent'),\n",
    "     {'alias':'leaf_texture'}),\n",
    "    (['Fruit Color'], SimpleImputer(missing_values=np.nan, strategy='most_frequent'), {'alias':'fruit_color'}),\n",
    "    (['Fruit Conspicuous'], None, {'alias':'fruit_conspicuous'}),\n",
    "    (['Growth Form'], SimpleImputer(missing_values=np.nan, strategy='most_frequent'), {'alias':'growth_form'}),\n",
    "    (['Growth Rate'], SimpleImputer(missing_values=np.nan, strategy='most_frequent'), {'alias':'growth_rate'}),\n",
    "    (['Known Allelopath'], None, {'alias':'allelopath'}),\n",
    "    (['Leaf Retention'], None, {'alias':'leaf_retention'}),\n",
    "    (['Lifespan'], SimpleImputer(missing_values=np.nan, strategy='most_frequent'), {'alias':'lifespan'}),\n",
    "    (['Low Growing Grass'], None, {'alias':'grass'}),\n",
    "    (['Nitrogen Fixation'], FunctionTransformer(binarize_nitrogen_fixation), {'alias':'n_fixation'}),\n",
    "    (['Resprout Ability'], None, {'alias':'resprout'}),\n",
    "    (['Shape and Orientation'], [SimpleImputer(missing_values=np.nan, strategy='most_frequent'),\n",
    "                                 FunctionTransformer(erect_shape)], {'alias':'erect_shape'}),\n",
    "    (['Toxicity'], [SimpleImputer(missing_values=np.nan, strategy='most_frequent'),\n",
    "                    FunctionTransformer(binarize_toxicity)], {'alias':'toxicity'}),\n",
    "    (['Adapted to Coarse Textured Soils'], None, {'alias':'coarse_soil'}),\n",
    "    (['Adapted to Medium Textured Soils'], None, {'alias':'medium_soil'}),\n",
    "    (['Adapted to Fine Textured Soils'], None, {'alias':'fine_soil'}),\n",
    "    (['Anaerobic Tolerance'], SimpleImputer(missing_values=np.nan, strategy='most_frequent'),\n",
    "     {'alias':'anaerobic_tolerance'}),\n",
    "    (['CaCO<SUB>3</SUB> Tolerance'], SimpleImputer(missing_values=np.nan, strategy='most_frequent'),\n",
    "     {'alias':'caco_tolerance'}),\n",
    "    (['Cold Stratification Required'], None, {'alias':'cold_strat'}),\n",
    "    (['Drought Tolerance'], SimpleImputer(missing_values=np.nan, strategy='most_frequent'),\n",
    "     {'alias':'drought_tolerance'}),\n",
    "    (['Fertility Requirement'], SimpleImputer(missing_values=np.nan, strategy='most_frequent'),\n",
    "     {'alias':'fertility_recs'}),\n",
    "    (['Fire Tolerance'], SimpleImputer(missing_values=np.nan, strategy='most_frequent'),\n",
    "     {'alias':'fire_tolerance'}),\n",
    "    (['Hedge Tolerance'], SimpleImputer(missing_values=np.nan, strategy='most_frequent'),\n",
    "     {'alias':'hedge_tolerance'}),\n",
    "    (['Moisture Use'], SimpleImputer(missing_values=np.nan, strategy='most_frequent'),\n",
    "     {'alias':'moisture_use'}),\n",
    "    (['Salinity Tolerance'], SimpleImputer(missing_values=np.nan, strategy='most_frequent'),\n",
    "     {'alias':'salt_tolerance'}),\n",
    "    (['Shade Tolerance'], SimpleImputer(missing_values=np.nan, strategy='most_frequent'),\n",
    "     {'alias':'shade_tolerance'}),\n",
    "    (['Bloom Period'], [SimpleImputer(missing_values=np.nan, strategy='most_frequent'),\n",
    "                        FunctionTransformer(bloom_period)], {'alias':'bloom_period'}),\n",
    "    (['Fruit/Seed Abundance'], [SimpleImputer(missing_values=np.nan, strategy='most_frequent'),\n",
    "                                FunctionTransformer(seed_abundance)], {'alias':'seed_abundance'}),\n",
    "    (['Fruit/Seed Period Begin'], [SimpleImputer(missing_values=np.nan, strategy='most_frequent'),\n",
    "                                   FunctionTransformer(seed_start)], {'alias':'seed_start'}),\n",
    "    (['Fruit/Seed Period End'], [SimpleImputer(missing_values=np.nan, strategy='most_frequent'),\n",
    "                                 FunctionTransformer(seed_end)], {'alias':'seed_end'}),\n",
    "    (['Fruit/Seed Persistence'], None, {'alias':'seed_persistence'}),\n",
    "    (['Seed Spread Rate'], SimpleImputer(missing_values=np.nan, strategy='most_frequent'),\n",
    "     {'alias':'seed_spread_rate'}),\n",
    "    (['Seedling Vigor'], SimpleImputer(missing_values=np.nan, strategy='most_frequent'),\n",
    "     {'alias':'seed_vigor'}),\n",
    "    (['Vegetative Spread Rate'], SimpleImputer(missing_values=np.nan, strategy='most_frequent'),\n",
    "     {'alias':'seed_vigor'})],\n",
    "    input_df=True, df_out=True)\n",
    "\n",
    "# Make categorical preprocessing pipeline of cleaning and one-hot-encoding steps\n",
    "cat_pipeline = Pipeline(steps=[\n",
    "    ('clean', cat_mapper),\n",
    "    ('ohe', OneHotEncoder())])\n",
    "\n",
    "# Make list of numerical features\n",
    "numeric_features = ['Height, Mature (feet)',\n",
    "                    'Frost Free Days, Minimum',\n",
    "                    'pH (Minimum)',\n",
    "                    'pH (Maximum)',\n",
    "                    'Precipitation (Minimum)',\n",
    "                    'Precipitation (Maximum)',\n",
    "                    'Root Depth, Minimum (inches)',\n",
    "                    \"Temperature, Minimum ('b0F)\"]\n",
    "\n",
    "# Prepare numerical features for mapper to fill nulls and scale\n",
    "num_features = gen_features(columns=[['Height, Mature (feet)'],\n",
    "                                     ['Frost Free Days, Minimum'],\n",
    "                                     ['pH (Minimum)'],\n",
    "                                     ['pH (Maximum)'],\n",
    "                                     ['Precipitation (Minimum)'],\n",
    "                                     ['Precipitation (Maximum)'],\n",
    "                                     ['Root Depth, Minimum (inches)'],\n",
    "                                     [\"Temperature, Minimum ('b0F)\"]],\n",
    "                            classes=[{'class': SimpleImputer, 'missing_values':\n",
    "                                     np.nan, 'strategy':'median'},\n",
    "                                     StandardScaler])\n",
    "\n",
    "# Clean numerical features with numerical mapper\n",
    "num_mapper = DataFrameMapper(num_features, df_out=True, input_df=True)\n",
    "\n",
    "# Combine clean numerical and categorical features into one preprocessor\n",
    "preprocessor = FeatureUnion([('cat_features', cat_pipeline),\n",
    "                     ('num_features', num_mapper)])"
   ]
  },
  {
   "cell_type": "markdown",
   "metadata": {},
   "source": [
    "Clean training and testing data."
   ]
  },
  {
   "cell_type": "code",
   "execution_count": 17,
   "metadata": {},
   "outputs": [],
   "source": [
    "# Preprocess training and testing data\n",
    "X_train_clean = preprocessor.fit_transform(X_train)\n",
    "X_test_clean = preprocessor.transform(X_test)\n",
    "\n",
    "# Initialize column names as a variable\n",
    "column_names = cat_pipeline.named_steps['ohe'].get_feature_names().tolist() + numeric_features\n",
    "\n",
    "# Reset index and make dataframes of training and testing data to include feature names\n",
    "X_train_cdf = pd.DataFrame(X_train_clean.toarray(),\n",
    "                                columns=column_names,\n",
    "                               index=X_train.index)\n",
    "X_test_cdf = pd.DataFrame(X_test_clean.toarray(),\n",
    "                               columns=column_names,\n",
    "                               index=X_test.index)"
   ]
  },
  {
   "cell_type": "markdown",
   "metadata": {},
   "source": [
    "## Build Model"
   ]
  },
  {
   "cell_type": "markdown",
   "metadata": {},
   "source": [
    "Start with logistic regression model."
   ]
  },
  {
   "cell_type": "code",
   "execution_count": 77,
   "metadata": {},
   "outputs": [
    {
     "data": {
      "image/png": "[encoded data removed]",
      "text/plain": [
       "<Figure size 1080x432 with 2 Axes>"
      ]
     },
     "metadata": {
      "needs_background": "light"
     },
     "output_type": "display_data"
    }
   ],
   "source": [
    "lg = LogisticRegression(solver='lbfgs',\n",
    "                       max_iter=1000)\n",
    "lg.fit(X_train_clean_df, y_train)\n",
    "train_pred = lg.predict_proba(X_train_clean_df)\n",
    "test_pred = lg.predict_proba(X_test_clean_df)\n",
    "fpr, tpr, thresholds = roc_curve(y_train, train_pred[:,1])\n",
    "test_fpr, test_tpr, test_thresholds = roc_curve(y_test, test_pred[:,1])\n",
    "\n",
    "train_p, train_r, train_thresholds = precision_recall_curve(y_train, train_pred[:,1])\n",
    "precision, recall, thresholds = precision_recall_curve(y_test, test_pred[:,1])\n",
    "\n",
    "fig, (ax1, ax2) = plt.subplots(1, 2, figsize=(15,6))\n",
    "ax1.plot([0,1],[0,1], linestyle='--', color='k', label='no skill')\n",
    "ax1.plot(fpr,tpr, label='train', color='green')\n",
    "ax1.plot(test_fpr, test_tpr, label='test', color='gold')\n",
    "ax1.set_xlabel('Specificity (False Positive Rate)')\n",
    "ax1.set_ylabel('Sensitivity (True Positive Rate)')\n",
    "ax1.set_title('ROC Curve')\n",
    "ax1.legend()\n",
    "\n",
    "ax2.plot([0,1], [0.1,0.1], linestyle='--', color='k', label='no skill')\n",
    "ax2.plot(train_r, train_p, label='train', color='green')\n",
    "ax2.plot(recall, precision, label='test', color='gold')\n",
    "ax2.set_xlabel('Recall (Sensitivity)')\n",
    "ax2.set_ylabel('Precision (Positive Predictive Value)')\n",
    "ax2.set_title('Precision-Recall Curve')\n",
    "ax2.legend()\n",
    "plt.show();"
   ]
  },
  {
   "cell_type": "code",
   "execution_count": 32,
   "metadata": {},
   "outputs": [
    {
     "data": {
      "image/png": "[encoded data removed]",
      "text/plain": [
       "<Figure size 720x576 with 1 Axes>"
      ]
     },
     "metadata": {
      "needs_background": "light"
     },
     "output_type": "display_data"
    }
   ],
   "source": [
    "lg = LogisticRegression(penalty='l1',\n",
    "                       solver='liblinear',\n",
    "                       max_iter=1000)\n",
    "lg.fit(X_train_clean_df, y_train)\n",
    "train_pred = lg.predict_proba(X_train_clean_df)\n",
    "test_pred = lg.predict_proba(X_test_clean_df)\n",
    "fpr, tpr, thresholds = roc_curve(y_train, train_pred[:,1])\n",
    "test_fpr, test_tpr, test_thresholds = roc_curve(y_test, test_pred[:,1])\n",
    "fig, ax = plt.subplots(figsize=(10,8))\n",
    "ax.plot(fpr,tpr, label='train')\n",
    "ax.plot(test_fpr, test_tpr, label='test')\n",
    "plt.legend();"
   ]
  },
  {
   "cell_type": "code",
   "execution_count": 33,
   "metadata": {},
   "outputs": [
    {
     "data": {
      "image/png": "[encoded data removed]",
      "text/plain": [
       "<Figure size 720x576 with 1 Axes>"
      ]
     },
     "metadata": {
      "needs_background": "light"
     },
     "output_type": "display_data"
    }
   ],
   "source": [
    "lg = LogisticRegression(penalty='l2',\n",
    "                       solver='lbfgs',\n",
    "                       max_iter=1000)\n",
    "lg.fit(X_train_clean_df, y_train)\n",
    "train_pred = lg.predict_proba(X_train_clean_df)\n",
    "test_pred = lg.predict_proba(X_test_clean_df)\n",
    "fpr, tpr, thresholds = roc_curve(y_train, train_pred[:,1])\n",
    "test_fpr, test_tpr, test_thresholds = roc_curve(y_test, test_pred[:,1])\n",
    "fig, ax = plt.subplots(figsize=(10,8))\n",
    "ax.plot(fpr,tpr, label='train')\n",
    "ax.plot(test_fpr, test_tpr, label='test')\n",
    "plt.legend();"
   ]
  },
  {
   "cell_type": "code",
   "execution_count": null,
   "metadata": {},
   "outputs": [],
   "source": []
  },
  {
   "cell_type": "code",
   "execution_count": null,
   "metadata": {},
   "outputs": [],
   "source": [
    "rfc = RandomForestClassifier(n_estimators=100,\n",
    "                             random_state=42,\n",
    "                             max_depth=4)\n",
    "rfc.fit(X_train_clean_df, y_train)\n",
    "\n",
    "#X_test_clean_df"
   ]
  },
  {
   "cell_type": "code",
   "execution_count": null,
   "metadata": {},
   "outputs": [],
   "source": [
    "y_train_pred = rfc.predict_proba(X_train_clean_df)\n",
    "y_test_pred = rfc.predict_proba(X_test_clean_df)"
   ]
  },
  {
   "cell_type": "code",
   "execution_count": null,
   "metadata": {},
   "outputs": [],
   "source": [
    "fpr, tpr, thresholds = roc_curve(y_train, y_train_pred[:,1])\n",
    "test_fpr, test_tpr, test_thresholds = roc_curve(y_test, y_test_pred[:,1])"
   ]
  },
  {
   "cell_type": "code",
   "execution_count": null,
   "metadata": {},
   "outputs": [],
   "source": [
    "fig, ax = plt.subplots(figsize=(10,8))\n",
    "ax.plot(fpr,tpr, label='train')\n",
    "ax.plot(test_fpr, test_tpr, label='test')\n",
    "plt.legend();"
   ]
  },
  {
   "cell_type": "code",
   "execution_count": null,
   "metadata": {
    "scrolled": false
   },
   "outputs": [],
   "source": [
    "plt.hist(y_test_pred[:,1])"
   ]
  },
  {
   "cell_type": "code",
   "execution_count": null,
   "metadata": {
    "scrolled": true
   },
   "outputs": [],
   "source": [
    "test_thresholds"
   ]
  },
  {
   "cell_type": "code",
   "execution_count": null,
   "metadata": {},
   "outputs": [],
   "source": [
    "y_test_pred[:,1][:7]"
   ]
  },
  {
   "cell_type": "code",
   "execution_count": null,
   "metadata": {},
   "outputs": [],
   "source": [
    "miles_talk_copy = X_test_clean_df.copy()"
   ]
  },
  {
   "cell_type": "code",
   "execution_count": null,
   "metadata": {},
   "outputs": [],
   "source": [
    "miles_talk_copy['y'] = y_test"
   ]
  },
  {
   "cell_type": "code",
   "execution_count": null,
   "metadata": {},
   "outputs": [],
   "source": [
    "miles_talk_copy['y_pred'] = y_test_pred[:,1]"
   ]
  },
  {
   "cell_type": "code",
   "execution_count": null,
   "metadata": {},
   "outputs": [],
   "source": [
    "miles_talk_copy.sort_values('y_pred', ascending=False).head()"
   ]
  },
  {
   "cell_type": "code",
   "execution_count": null,
   "metadata": {},
   "outputs": [],
   "source": [
    "plt.scatter(miles_talk_copy['y_pred'], miles_talk_copy['y'], alpha=.1)"
   ]
  },
  {
   "cell_type": "code",
   "execution_count": null,
   "metadata": {},
   "outputs": [],
   "source": []
  },
  {
   "cell_type": "code",
   "execution_count": null,
   "metadata": {},
   "outputs": [],
   "source": [
    "test = lg.coef_.tolist()"
   ]
  },
  {
   "cell_type": "code",
   "execution_count": null,
   "metadata": {},
   "outputs": [],
   "source": [
    "coef_df = X_test_clean_df.copy()\n",
    "X_train_copy = X_train_clean_df.copy()\n",
    "coef_df['y'] = y_test\n",
    "coef_df['y_pred'] = test_pred[:,1]\n",
    "\n",
    "plt.scatter(coef_df['y'], coef_df['y_pred'], alpha=0.1);"
   ]
  },
  {
   "cell_type": "code",
   "execution_count": null,
   "metadata": {},
   "outputs": [],
   "source": [
    "coef_list = list(zip(X_train_clean_df.columns, test[0]))"
   ]
  },
  {
   "cell_type": "code",
   "execution_count": null,
   "metadata": {},
   "outputs": [],
   "source": [
    "coefs_sorted = sorted(coef_list, key= lambda x: x[1], reverse=True)\n",
    "coefs_sorted"
   ]
  },
  {
   "cell_type": "code",
   "execution_count": null,
   "metadata": {},
   "outputs": [],
   "source": [
    "top_coefs = [x[0] for x in coefs_sorted if abs(x[1]) > 0.5]\n",
    "best_coef_x_test = coef_df[top_coefs]\n",
    "best_coef_x_train = X_train_copy[top_coefs]"
   ]
  },
  {
   "cell_type": "code",
   "execution_count": null,
   "metadata": {},
   "outputs": [],
   "source": [
    "lg2 = LogisticRegression(penalty='l2',\n",
    "                       solver='lbfgs',\n",
    "                       max_iter=1001)\n",
    "lg2.fit(best_coef_x_train, y_train)"
   ]
  },
  {
   "cell_type": "code",
   "execution_count": null,
   "metadata": {},
   "outputs": [],
   "source": [
    "train_pred = lg2.predict_proba(best_coef_x_train)\n",
    "test_pred = lg2.predict_proba(best_coef_x_test)\n",
    "fpr, tpr, thresholds = roc_curve(y_train, train_pred[:,1])\n",
    "test_fpr, test_tpr, test_thresholds = roc_curve(y_test, test_pred[:,1])\n",
    "fig, ax = plt.subplots(figsize=(10,8))\n",
    "ax.plot(fpr,tpr, label='train')\n",
    "ax.plot(test_fpr, test_tpr, label='test')\n",
    "plt.legend();"
   ]
  },
  {
   "cell_type": "code",
   "execution_count": null,
   "metadata": {},
   "outputs": [],
   "source": [
    "rfc2 = RandomForestClassifier(n_estimators=100,\n",
    "                             random_state=42,\n",
    "                             max_depth=2)\n",
    "rfc2.fit(best_coef_x_train, y_train)"
   ]
  },
  {
   "cell_type": "code",
   "execution_count": null,
   "metadata": {},
   "outputs": [],
   "source": [
    "train_pred = rfc2.predict_proba(best_coef_x_train)\n",
    "test_pred = rfc2.predict_proba(best_coef_x_test)\n",
    "fpr, tpr, thresholds = roc_curve(y_train, train_pred[:,1])\n",
    "test_fpr, test_tpr, test_thresholds = roc_curve(y_test, test_pred[:,1])\n",
    "fig, ax = plt.subplots(figsize=(10,8))\n",
    "ax.plot(fpr,tpr, label='train')\n",
    "ax.plot(test_fpr, test_tpr, label='test')\n",
    "plt.legend();"
   ]
  },
  {
   "cell_type": "code",
   "execution_count": null,
   "metadata": {},
   "outputs": [],
   "source": [
    "xgb = XGBClassifier(max_depth=2,\n",
    "                    scale_pos_weight=1,\n",
    "                    learning_rate=0.1)\n",
    "\n",
    "xgb.fit(best_coef_x_train, y_train)"
   ]
  },
  {
   "cell_type": "code",
   "execution_count": null,
   "metadata": {},
   "outputs": [],
   "source": [
    "train_pred = xgb.predict_proba(best_coef_x_train)\n",
    "test_pred = xgb.predict_proba(best_coef_x_test)\n",
    "fpr, tpr, thresholds = roc_curve(y_train, train_pred[:,1])\n",
    "test_fpr, test_tpr, test_thresholds = roc_curve(y_test, test_pred[:,1])\n",
    "fig, ax = plt.subplots(figsize=(10,8))\n",
    "ax.plot(fpr,tpr, label='train')\n",
    "ax.plot(test_fpr, test_tpr, label='test')\n",
    "plt.legend();"
   ]
  },
  {
   "cell_type": "code",
   "execution_count": null,
   "metadata": {},
   "outputs": [],
   "source": [
    "h20 = H20"
   ]
  },
  {
   "cell_type": "code",
   "execution_count": null,
   "metadata": {},
   "outputs": [],
   "source": []
  }
 ],
 "metadata": {
  "kernelspec": {
   "display_name": "learn-env",
   "language": "python",
   "name": "learn-env"
  },
  "language_info": {
   "codemirror_mode": {
    "name": "ipython",
    "version": 3
   },
   "file_extension": ".py",
   "mimetype": "text/x-python",
   "name": "python",
   "nbconvert_exporter": "python",
   "pygments_lexer": "ipython3",
   "version": "3.6.6"
  }
 },
 "nbformat": 4,
 "nbformat_minor": 2
}
